{
 "cells": [
  {
   "cell_type": "code",
   "execution_count": 9,
   "metadata": {},
   "outputs": [],
   "source": [
    "\n",
    "from pandas import DataFrame \n",
    "import sqlite3"
   ]
  },
  {
   "cell_type": "code",
   "execution_count": 10,
   "metadata": {},
   "outputs": [],
   "source": [
    "conn = sqlite3.connect('mydb.db')\n",
    "c = conn.cursor()"
   ]
  },
  {
   "cell_type": "code",
   "execution_count": 14,
   "metadata": {},
   "outputs": [],
   "source": [
    "c.execute('CREATE TABLE ANIMAL(DOB text,race text, sex text, refuge text)')\n",
    "conn.commit()\n"
   ]
  },
  {
   "cell_type": "code",
   "execution_count": 24,
   "metadata": {},
   "outputs": [
    {
     "name": "stdout",
     "output_type": "stream",
     "text": [
      "       dob     race sex    refuge\n",
      "0  janvier    dober   f    landes\n",
      "1     juin     jack   m  bordeaux\n",
      "2     mars  caniche   f     royan\n"
     ]
    }
   ],
   "source": [
    "animal = {'dob':['janvier','juin','mars'],\n",
    "          'race':['dober','jack','caniche'],\n",
    "          'sex':['f','m','f'],\n",
    "          'refuge':['landes','bordeaux','royan']}\n",
    "\n",
    "df = DataFrame(animal, columns = ['dob','race','sex','refuge'])\n",
    "\n",
    "df.to_sql('ANIMAL', conn, if_exists='replace', index = False)\n",
    " \n",
    "c.execute('''  \n",
    "SELECT * FROM ANIMAL\n",
    "          ''')\n",
    "\n",
    "df = DataFrame(c.fetchall(), columns=['dob','race','sex','refuge'])    \n",
    "print (df)"
   ]
  },
  {
   "cell_type": "code",
   "execution_count": 19,
   "metadata": {},
   "outputs": [
    {
     "name": "stdout",
     "output_type": "stream",
     "text": [
      "('Honda Civic', 22000)\n",
      "('Toyota Corolla', 25000)\n",
      "('Ford Focus', 27000)\n",
      "('Audi A4', 35000)\n"
     ]
    }
   ],
   "source": [
    "import sqlite3\n",
    "from pandas import DataFrame\n",
    "\n",
    "conn = sqlite3.connect('TestDB1.db')\n",
    "c = conn.cursor()\n",
    "\n",
    "c.execute('CREATE TABLE CARS (Brand text, Price number)')\n",
    "conn.commit()\n",
    "\n",
    "Cars = {'Brand': ['Honda Civic','Toyota Corolla','Ford Focus','Audi A4'],\n",
    "        'Price': [22000,25000,27000,35000]\n",
    "        }\n",
    "\n",
    "df = DataFrame(Cars, columns= ['Brand', 'Price'])\n",
    "df.to_sql('CARS', conn, if_exists='replace', index = False)\n",
    " \n",
    "c.execute('''  \n",
    "SELECT * FROM CARS\n",
    "          ''')\n",
    "\n",
    "for row in c.fetchall():\n",
    "    print (row)"
   ]
  },
  {
   "cell_type": "code",
   "execution_count": 20,
   "metadata": {},
   "outputs": [
    {
     "name": "stdout",
     "output_type": "stream",
     "text": [
      "     Brand  Price\n",
      "0  Audi A4  35000\n"
     ]
    }
   ],
   "source": [
    "\n",
    "\n",
    "conn = sqlite3.connect('TestDB2.db')\n",
    "c = conn.cursor()\n",
    "\n",
    "c.execute('CREATE TABLE CARS (Brand text, Price number)')\n",
    "conn.commit()\n",
    "\n",
    "Cars = {'Brand': ['Honda Civic','Toyota Corolla','Ford Focus','Audi A4'],\n",
    "        'Price': [22000,25000,27000,35000]\n",
    "        }\n",
    "\n",
    "df = DataFrame(Cars, columns= ['Brand', 'Price'])\n",
    "df.to_sql('CARS', conn, if_exists='replace', index = False)\n",
    " \n",
    "c.execute('''  \n",
    "SELECT Brand, max(price) FROM CARS\n",
    "          ''')\n",
    "\n",
    "df = DataFrame(c.fetchall(), columns=['Brand','Price'])    \n",
    "print (df)\n",
    "\n",
    "#c.execute('DROP TABLE CARS')"
   ]
  },
  {
   "cell_type": "code",
   "execution_count": 38,
   "metadata": {},
   "outputs": [
    {
     "name": "stdout",
     "output_type": "stream",
     "text": [
      "Erreur lors de la création du table PostgreSQL relation \"animals\" already exists\n",
      "\n"
     ]
    }
   ],
   "source": [
    "import psycopg2\n",
    "try:\n",
    "    conn = psycopg2.connect(\n",
    "          user = \"sandrinevuachet\",\n",
    "          password = \"postgres\",\n",
    "          host = \"localhost\",\n",
    "          port = \"5432\",\n",
    "          database = \"spa2\"\n",
    "    )\n",
    "    cur = conn.cursor()\n",
    "    sql = '''CREATE TABLE animals(\n",
    "        ID INT PRIMARY KEY NOT NULL,\n",
    "        dob TEXT NOT NULL,\n",
    "        race TEXT NOT NULL,\n",
    "        sex TEXT NOT NULL, \n",
    "        refuge TEXT NOT NULL\n",
    "      ); '''\n",
    "    \n",
    "    cur.execute(sql)\n",
    "    conn.commit()\n",
    "    print(\"Table créée avec succès dans PostgreSQL\")\n",
    "  \n",
    "    #fermeture de la connexion à la base de données\n",
    "    cur.close()\n",
    "    conn.close()\n",
    "    print(\"La connexion PostgreSQL est fermée\")\n",
    "except (Exception, psycopg2.Error) as error :\n",
    "    print (\"Erreur lors de la création du table PostgreSQL\", error)\n"
   ]
  },
  {
   "cell_type": "code",
   "execution_count": null,
   "metadata": {},
   "outputs": [],
   "source": [
    "\n",
    "\n"
   ]
  },
  {
   "cell_type": "code",
   "execution_count": null,
   "metadata": {},
   "outputs": [],
   "source": []
  }
 ],
 "metadata": {
  "kernelspec": {
   "display_name": "Python 3",
   "language": "python",
   "name": "python3"
  },
  "language_info": {
   "codemirror_mode": {
    "name": "ipython",
    "version": 3
   },
   "file_extension": ".py",
   "mimetype": "text/x-python",
   "name": "python",
   "nbconvert_exporter": "python",
   "pygments_lexer": "ipython3",
   "version": "3.7.6"
  }
 },
 "nbformat": 4,
 "nbformat_minor": 4
}
