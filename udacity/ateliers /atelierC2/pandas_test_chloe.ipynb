{
 "cells": [
  {
   "cell_type": "code",
   "execution_count": 1,
   "metadata": {},
   "outputs": [],
   "source": [
    "import pandas as pd"
   ]
  },
  {
   "cell_type": "code",
   "execution_count": 12,
   "metadata": {},
   "outputs": [
    {
     "name": "stdout",
     "output_type": "stream",
     "text": [
      "type de l'objet 'data' = <class 'list'>\n",
      "taille de la list de dataframe obtenue = 1\n",
      "              Country  Confirmed  Deaths Case-Fatality  Deaths/100K pop.\n",
      "0          San Marino        710      42          5.9%            124.32\n",
      "1                Peru     607382   28001          4.6%             87.53\n",
      "2             Belgium      83030    9879         11.9%             86.49\n",
      "3             Andorra       1098      53          4.8%             68.83\n",
      "4      United Kingdom     330967   41552         12.6%             62.49\n",
      "..                ...        ...     ...           ...               ...\n",
      "165             Syria       2440      98          4.0%               NaN\n",
      "166            Gambia       2708      93          3.4%               NaN\n",
      "167           Bahamas       1765      29          1.6%               NaN\n",
      "168  Diamond Princess        712      13          1.8%               NaN\n",
      "169             Burma        580       6          1.0%               NaN\n",
      "\n",
      "[170 rows x 5 columns]\n",
      "-----------------------------------------\n"
     ]
    }
   ],
   "source": [
    "\n",
    "url = \"https://coronavirus.jhu.edu/data/mortality\"\n",
    "data = pd.read_html(url)\n",
    "\n",
    "print(\"type de l'objet 'data' = \" + str(type(data)))\n",
    "print('taille de la list de dataframe obtenue = '+ str(len(data)))\n",
    "print(data[0])\n",
    "print('-----------------------------------------')\n",
    "# "
   ]
  },
  {
   "cell_type": "code",
   "execution_count": 13,
   "metadata": {},
   "outputs": [
    {
     "name": "stdout",
     "output_type": "stream",
     "text": [
      "           Country  Confirmed  Deaths Case-Fatality  Deaths/100K pop.\n",
      "10              US    5821819  179708          3.1%             54.93\n",
      "9           Brazil    3717156  117665          3.2%             56.17\n",
      "11          Mexico     573888   62076         10.8%             49.19\n",
      "73           India    3310234   60472          1.8%              4.47\n",
      "4   United Kingdom     330967   41552         12.6%             62.49\n",
      "<class 'pandas.core.frame.DataFrame'>\n",
      "-----------------------------------------\n"
     ]
    }
   ],
   "source": [
    "deaths_coronavirus = data[0].sort_values(by='Deaths', ascending=False).head(5)\n",
    "print(deaths_coronavirus)\n",
    "print(type(deaths_coronavirus))\n",
    "print('-----------------------------------------')"
   ]
  },
  {
   "cell_type": "code",
   "execution_count": 19,
   "metadata": {},
   "outputs": [
    {
     "name": "stdout",
     "output_type": "stream",
     "text": [
      "            Country  Deaths\n",
      "0  Amerique du Nord  179708\n",
      "1   Amerique du Sud  117665\n",
      "2  Amerique du Nord   62076\n",
      "3              Asie   60472\n",
      "4            Europe   41552\n"
     ]
    }
   ],
   "source": [
    "deaths_by_cont = deaths_coronavirus.replace({'US':'Amerique du Nord','Brazil':'Amerique du Sud','Mexico':'Amerique du Nord','India':'Asie',\n",
    "                                             'United Kingdom':'Europe','Italy':'Europe',\n",
    "                                             'France':'Europe','Spain':'Europe',\n",
    "                                             'Peru':'Amerique du Sud','Iran':'Asie'}).drop(columns=['Confirmed',\n",
    "                                                                                                    'Case-Fatality',\n",
    "                                                                                               'Deaths/100K pop.']).reset_index(drop=True)\n",
    "print(deaths_by_cont)   "
   ]
  },
  {
   "cell_type": "code",
   "execution_count": 20,
   "metadata": {},
   "outputs": [
    {
     "name": "stdout",
     "output_type": "stream",
     "text": [
      "                  Décès totaux\n",
      "Country                       \n",
      "Amerique du Nord        241784\n",
      "Amerique du Sud         117665\n",
      "Asie                     60472\n",
      "Europe                   41552\n",
      "-----------------------------------------\n"
     ]
    }
   ],
   "source": [
    "print(deaths_by_cont.groupby('Country').sum().rename(columns={'Deaths':'Décès totaux'}))\n",
    "print('-----------------------------------------')"
   ]
  },
  {
   "cell_type": "code",
   "execution_count": null,
   "metadata": {},
   "outputs": [],
   "source": []
  }
 ],
 "metadata": {
  "kernelspec": {
   "display_name": "Python 3",
   "language": "python",
   "name": "python3"
  },
  "language_info": {
   "codemirror_mode": {
    "name": "ipython",
    "version": 3
   },
   "file_extension": ".py",
   "mimetype": "text/x-python",
   "name": "python",
   "nbconvert_exporter": "python",
   "pygments_lexer": "ipython3",
   "version": "3.7.6"
  }
 },
 "nbformat": 4,
 "nbformat_minor": 4
}
