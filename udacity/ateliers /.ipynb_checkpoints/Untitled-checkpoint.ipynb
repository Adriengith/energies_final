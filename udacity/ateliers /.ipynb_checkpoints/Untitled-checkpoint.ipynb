{
 "cells": [
  {
   "cell_type": "code",
   "execution_count": 1,
   "metadata": {},
   "outputs": [],
   "source": [
    "import numpy as np\n",
    "import pandas as pd\n",
    "import matplotlib.pyplot as plt\n",
    "import requests\n",
    "\n",
    "\n"
   ]
  },
  {
   "cell_type": "code",
   "execution_count": 13,
   "metadata": {},
   "outputs": [
    {
     "name": "stdout",
     "output_type": "stream",
     "text": [
      "                                                       name    host_id  \\\n",
      "id                                                                       \n",
      "28925        Grande maison centre ville Comme à la campagne     124398   \n",
      "185534         L'Echoppe typique de Bordeaux - tout confort     890736   \n",
      "218103                   B&B Apart.Suite  / tropical garden    1127981   \n",
      "222887       Bordeaux Terrace - spectacular view, fast Wifi    1156398   \n",
      "317273    Bordeaux City Gardens - large 1 bd, park adjacent    1156398   \n",
      "...                                                     ...        ...   \n",
      "45167737                   Bordeaux Ravezies Maison Semaine  156739978   \n",
      "45172618                                Jolie T2 bien situé  140402888   \n",
      "45174814               Chambre dans échoppe centre Bordeaux   10950493   \n",
      "45176831      Suberbe appartement en plein cœur de Bordeaux   50060398   \n",
      "45183044  Studio entre Bordeaux-Lacanau aux portes du Médoc   51122791   \n",
      "\n",
      "         host_name  neighbourhood_group  \\\n",
      "id                                        \n",
      "28925     Laurence             Bordeaux   \n",
      "185534      Aurore             Bordeaux   \n",
      "218103        Luis                Bgles   \n",
      "222887     Suzanna             Bordeaux   \n",
      "317273     Suzanna             Bordeaux   \n",
      "...            ...                  ...   \n",
      "45167737   Charlie           Le Bouscat   \n",
      "45172618    Alexis             Bordeaux   \n",
      "45174814   Laurent             Bordeaux   \n",
      "45176831   Nicolas             Bordeaux   \n",
      "45183044    Arnaud  Saint-Aubin-de-Mdoc   \n",
      "\n",
      "                                      neighbourhood  latitude  longitude  \\\n",
      "id                                                                         \n",
      "28925                       Centre ville (Bordeaux)  44.84910   -0.59350   \n",
      "185534    Saint Augustin - Tauzin - Alphonse Dupeux  44.83063   -0.59331   \n",
      "218103                                        Bgles  44.81418   -0.54842   \n",
      "222887                                 Bordeaux Sud  44.83611   -0.56640   \n",
      "317273       Chartrons - Grand Parc - Jardin Public  44.84782   -0.58105   \n",
      "...                                             ...       ...        ...   \n",
      "45167737                                 Le Bouscat  44.86705   -0.57783   \n",
      "45172618                                 La Bastide  44.84139   -0.56055   \n",
      "45174814                      Nansouty - Saint Gens  44.81602   -0.56562   \n",
      "45176831                    Centre ville (Bordeaux)  44.83731   -0.57132   \n",
      "45183044                        Saint-Aubin-de-Mdoc  44.91568   -0.71941   \n",
      "\n",
      "                room_type  price  minimum_nights  number_of_reviews  \\\n",
      "id                                                                    \n",
      "28925     Entire home/apt    350               2                  2   \n",
      "185534    Entire home/apt    139               4                  0   \n",
      "218103    Entire home/apt    110               2                 36   \n",
      "222887    Entire home/apt    159               3                 38   \n",
      "317273    Entire home/apt    116               3                 24   \n",
      "...                   ...    ...             ...                ...   \n",
      "45167737  Entire home/apt     40               3                  0   \n",
      "45172618  Entire home/apt     37               1                  0   \n",
      "45174814     Private room     32               2                  0   \n",
      "45176831  Entire home/apt     70               2                  0   \n",
      "45183044  Entire home/apt     50               2                  0   \n",
      "\n",
      "         last_review  reviews_per_month  calculated_host_listings_count  \\\n",
      "id                                                                        \n",
      "28925     2018-07-06               0.06                               1   \n",
      "185534           NaN                NaN                               1   \n",
      "218103    2020-07-26               0.34                               4   \n",
      "222887    2019-11-11               0.36                               4   \n",
      "317273    2020-03-08               0.33                               4   \n",
      "...              ...                ...                             ...   \n",
      "45167737         NaN                NaN                               1   \n",
      "45172618         NaN                NaN                               1   \n",
      "45174814         NaN                NaN                               1   \n",
      "45176831         NaN                NaN                               1   \n",
      "45183044         NaN                NaN                               1   \n",
      "\n",
      "          availability_365  \n",
      "id                          \n",
      "28925                  258  \n",
      "185534                   1  \n",
      "218103                 266  \n",
      "222887                 269  \n",
      "317273                   0  \n",
      "...                    ...  \n",
      "45167737                51  \n",
      "45172618               339  \n",
      "45174814               364  \n",
      "45176831                 2  \n",
      "45183044               354  \n",
      "\n",
      "[10938 rows x 15 columns]\n"
     ]
    }
   ],
   "source": [
    "listing = pd.read_csv(\"listings.csv\",index_col= \"id\")\n",
    "print(listing)\n",
    "print(type(listing))\n",
    "\n",
    "data_sorted = listing.sort_values(by='Deaths', ascending=False).head(5)\n",
    "print(deaths_coronavirus)"
   ]
  },
  {
   "cell_type": "code",
   "execution_count": null,
   "metadata": {},
   "outputs": [],
   "source": []
  },
  {
   "cell_type": "code",
   "execution_count": null,
   "metadata": {},
   "outputs": [],
   "source": []
  }
 ],
 "metadata": {
  "kernelspec": {
   "display_name": "Python 3",
   "language": "python",
   "name": "python3"
  },
  "language_info": {
   "codemirror_mode": {
    "name": "ipython",
    "version": 3
   },
   "file_extension": ".py",
   "mimetype": "text/x-python",
   "name": "python",
   "nbconvert_exporter": "python",
   "pygments_lexer": "ipython3",
   "version": "3.7.6"
  }
 },
 "nbformat": 4,
 "nbformat_minor": 4
}
