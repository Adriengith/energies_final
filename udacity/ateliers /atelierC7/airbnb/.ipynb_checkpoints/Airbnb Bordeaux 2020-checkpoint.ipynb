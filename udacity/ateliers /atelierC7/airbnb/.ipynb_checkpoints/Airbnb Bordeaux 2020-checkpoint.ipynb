{
 "cells": [
  {
   "cell_type": "markdown",
   "metadata": {},
   "source": [
    "# Étude de cas de location de courte durée Airbnb Bordeaux"
   ]
  },
  {
   "cell_type": "markdown",
   "metadata": {},
   "source": [
    "![](airbnb.jpg)"
   ]
  },
  {
   "cell_type": "markdown",
   "metadata": {},
   "source": [
    "##### Depuis l’an 2018 la ville de Bordeaux vit une pénurie de logements, de nombreux d’articles de la presse y sont consacrés  en pointant du doigt les locations courte durée qui sont largement dominé par le géant AirBnB, ce marché est réglementé par la municipalité mais est ce suffisant pour pour donner le souffle? Pour cette raison il est important de voir la situation actuel un peu plus en détails. Pour cela j’ai effectué une  récupération des données qui datent du 25 mai 2020 depuis le site insideairbnb.com\n"
   ]
  },
  {
   "cell_type": "markdown",
   "metadata": {},
   "source": [
    "#### Importation des librairies"
   ]
  },
  {
   "cell_type": "code",
   "execution_count": 5,
   "metadata": {},
   "outputs": [
    {
     "ename": "ModuleNotFoundError",
     "evalue": "No module named 'plotly'",
     "output_type": "error",
     "traceback": [
      "\u001b[0;31m---------------------------------------------------------------------------\u001b[0m",
      "\u001b[0;31mModuleNotFoundError\u001b[0m                       Traceback (most recent call last)",
      "\u001b[0;32m<ipython-input-5-de7db7a2b912>\u001b[0m in \u001b[0;36m<module>\u001b[0;34m\u001b[0m\n\u001b[1;32m     14\u001b[0m \u001b[0;32mfrom\u001b[0m \u001b[0mfolium\u001b[0m\u001b[0;34m.\u001b[0m\u001b[0mplugins\u001b[0m \u001b[0;32mimport\u001b[0m \u001b[0mFastMarkerCluster\u001b[0m\u001b[0;34m\u001b[0m\u001b[0;34m\u001b[0m\u001b[0m\n\u001b[1;32m     15\u001b[0m \u001b[0;34m\u001b[0m\u001b[0m\n\u001b[0;32m---> 16\u001b[0;31m \u001b[0;32mfrom\u001b[0m \u001b[0mplotly\u001b[0m\u001b[0;34m.\u001b[0m\u001b[0moffline\u001b[0m \u001b[0;32mimport\u001b[0m \u001b[0miplot\u001b[0m\u001b[0;34m,\u001b[0m \u001b[0minit_notebook_mode\u001b[0m\u001b[0;34m\u001b[0m\u001b[0;34m\u001b[0m\u001b[0m\n\u001b[0m\u001b[1;32m     17\u001b[0m \u001b[0minit_notebook_mode\u001b[0m\u001b[0;34m(\u001b[0m\u001b[0mconnected\u001b[0m\u001b[0;34m=\u001b[0m\u001b[0;32mTrue\u001b[0m\u001b[0;34m)\u001b[0m\u001b[0;34m\u001b[0m\u001b[0;34m\u001b[0m\u001b[0m\n\u001b[1;32m     18\u001b[0m \u001b[0;32mimport\u001b[0m \u001b[0mchart_studio\u001b[0m\u001b[0;34m.\u001b[0m\u001b[0mplotly\u001b[0m \u001b[0;32mas\u001b[0m \u001b[0mpy\u001b[0m\u001b[0;34m\u001b[0m\u001b[0;34m\u001b[0m\u001b[0m\n",
      "\u001b[0;31mModuleNotFoundError\u001b[0m: No module named 'plotly'"
     ]
    }
   ],
   "source": [
    "from IPython.core.display import display, HTML\n",
    "import IPython.display\n",
    "import numpy as np\n",
    "import pandas as pd\n",
    "import seaborn as sns\n",
    "sns.set()\n",
    "import matplotlib.pyplot as plt\n",
    "\n",
    "import os\n",
    "import warnings\n",
    "warnings.simplefilter(action='ignore', category=FutureWarning)\n",
    "\n",
    "import folium\n",
    "from folium.plugins import FastMarkerCluster\n",
    "\n",
    "from plotly.offline import iplot, init_notebook_mode\n",
    "init_notebook_mode(connected=True)\n",
    "import chart_studio.plotly as py\n",
    "import plotly.graph_objects as go\n",
    "\n",
    "quartiers = pd.read_csv(\"listings.csv\", index_col= \"id\")\n",
    "\n",
    "quartiers_details = pd.read_csv(\"listings_raw.csv\", index_col= \"id\", low_memory=False)\n",
    "\n",
    "calendrier = pd.read_csv(\"calendar.csv\", parse_dates=['date'], index_col=['listing_id'])\n",
    "\n",
    "reviews_details = pd.read_csv(\"reviews.csv\", parse_dates=['date'])"
   ]
  },
  {
   "cell_type": "code",
   "execution_count": null,
   "metadata": {},
   "outputs": [],
   "source": [
    "print(quartiers.shape) # le fichier est composé de 10751 lignes"
   ]
  },
  {
   "cell_type": "code",
   "execution_count": null,
   "metadata": {},
   "outputs": [],
   "source": [
    "target_columns = [\"property_type\", \"accommodates\", \"first_review\", \"review_scores_value\", \"review_scores_cleanliness\", \"review_scores_location\", \"review_scores_accuracy\", \"review_scores_communication\", \"review_scores_checkin\", \"review_scores_rating\", \"maximum_nights\", \"listing_url\", \"host_is_superhost\", \"host_about\", \"host_response_time\", \"host_response_rate\", \"street\", \"weekly_price\", \"monthly_price\", \"market\"]\n",
    "quartiers = pd.merge(quartiers, quartiers_details[target_columns], on='id', how='left')\n",
    "quartiers.info()\n"
   ]
  },
  {
   "cell_type": "code",
   "execution_count": null,
   "metadata": {},
   "outputs": [],
   "source": [
    "quartiers.head(5) # Visualisation de donées que je vais traiter"
   ]
  },
  {
   "cell_type": "markdown",
   "metadata": {},
   "source": [
    "### Visualisation des logements disponible par nombre et par quartier"
   ]
  },
  {
   "cell_type": "code",
   "execution_count": null,
   "metadata": {},
   "outputs": [],
   "source": [
    "lieux=quartiers['neighbourhood'].value_counts().sort_values(ascending=True)\n",
    "lieux.plot.barh(figsize=(15, 15), color='c', width=1)\n",
    "plt.title(\"Le nombre de logements par quartier Bordeaux et agglomeration\", fontsize=20)\n",
    "plt.xlabel('La quantité', fontsize=14)\n",
    "plt.show()"
   ]
  },
  {
   "cell_type": "markdown",
   "metadata": {},
   "source": [
    "### Création de la carte interactive via folium"
   ]
  },
  {
   "cell_type": "code",
   "execution_count": null,
   "metadata": {},
   "outputs": [],
   "source": [
    "lats2020 = quartiers['latitude'].tolist() # recuperation des donées des colonnes\n",
    "long2020 = quartiers['longitude'].tolist()\n",
    "locations = list(zip(lats2020, long2020))\n",
    "\n",
    "map1 = folium.Map(location=[44.8323068, -0.65200609], zoom_start=12) # coordonées de la vue du départ\n",
    "FastMarkerCluster(data=locations).add_to(map1) # nom du style de la carte\n",
    "map1"
   ]
  },
  {
   "cell_type": "markdown",
   "metadata": {},
   "source": [
    "### Quels types de logements sur Bordeaux et son aglomeration"
   ]
  },
  {
   "cell_type": "markdown",
   "metadata": {},
   "source": [
    "#### Une remarque : à Bordeaux il est interdit de louer son logement pour une courte durée de plus de 120 jours."
   ]
  },
  {
   "cell_type": "code",
   "execution_count": null,
   "metadata": {},
   "outputs": [],
   "source": [
    "type_log = quartiers['room_type']. value_counts().sort_values(ascending=True)\n",
    "type_log.plot.barh(figsize=(15, 3), width=1, color = [\"#2E2D4D\",\"#337357\",\"#6D9F71\", \"#E4E3D3\"]) # les couleurs personelles\n",
    "plt.show()"
   ]
  },
  {
   "cell_type": "markdown",
   "metadata": {},
   "source": [
    "#### Recuperation des noms des colonnes et leurs caractèrestiques \n"
   ]
  },
  {
   "cell_type": "code",
   "execution_count": null,
   "metadata": {},
   "outputs": [],
   "source": [
    "quartiers.nunique()"
   ]
  },
  {
   "cell_type": "code",
   "execution_count": null,
   "metadata": {},
   "outputs": [],
   "source": [
    "quartiers['host_id'].nunique() # Quelques 8871 gérants pour 10751 biens "
   ]
  },
  {
   "cell_type": "markdown",
   "metadata": {},
   "source": [
    "### Voyons un peu plus en détails qu'est ce qui domine le marché de la location courte durée."
   ]
  },
  {
   "cell_type": "markdown",
   "metadata": {},
   "source": [
    "##### Ici je récupère le nombre de biens par le numéro identifiant. Tout de suite on remarque un identifiant qui saute aux yeux avec 105 biens."
   ]
  },
  {
   "cell_type": "code",
   "execution_count": null,
   "metadata": {},
   "outputs": [],
   "source": [
    "prop = pd.value_counts(quartiers.host_id).head(15)\n",
    "prop"
   ]
  },
  {
   "cell_type": "markdown",
   "metadata": {},
   "source": [
    "#### Voyons plus en details qui est derrière cet Id."
   ]
  },
  {
   "cell_type": "markdown",
   "metadata": {},
   "source": [
    "##### Dans ce tableau nous avons quelques informations sur les biens, notamment identifiant du bien, le titre de l'annonce et la position geographique."
   ]
  },
  {
   "cell_type": "code",
   "execution_count": null,
   "metadata": {},
   "outputs": [],
   "source": [
    "gourmand = quartiers[quartiers['host_id']== 160814130]\n",
    "gourmand = gourmand[['name','host_id', 'host_name', 'latitude', 'longitude']]\n",
    "gourmand.index.name = \"listing_id\"\n",
    "gourmand.head()"
   ]
  },
  {
   "cell_type": "code",
   "execution_count": null,
   "metadata": {},
   "outputs": [],
   "source": [
    "freq = quartiers.groupby(['host_id', 'host_name', 'host_about']).size().reset_index(name='num_host_quartiers')\n",
    "freq = freq.sort_values(by=['num_host_quartiers'], ascending=False)\n",
    "freq = freq[freq['num_host_quartiers'] >= 10] # Nombre de biens supérieur à ...\n",
    "freq"
   ]
  },
  {
   "cell_type": "markdown",
   "metadata": {},
   "source": [
    "#### Petit zoom sur les prix moyens à la nuitée par quartier"
   ]
  },
  {
   "cell_type": "code",
   "execution_count": null,
   "metadata": {},
   "outputs": [],
   "source": [
    "feq = quartiers[quartiers['accommodates']==2]\n",
    "feq = feq.groupby('neighbourhood')['price'].mean().sort_values(ascending=True)\n",
    "feq.plot.barh(figsize=(10, 12), color='b', width=1)\n",
    "plt.title(\"Le prix moyen à la nuitée pour 2 personnes\", fontsize=20)\n",
    "plt.xlabel('Prix à la nuitée (Euro)', fontsize=12)\n",
    "plt.ylabel(\"\")\n",
    "plt.show()"
   ]
  },
  {
   "cell_type": "markdown",
   "metadata": {},
   "source": [
    "### Hors sujet mais il est interessant de voir les notations des clients"
   ]
  },
  {
   "cell_type": "code",
   "execution_count": null,
   "metadata": {
    "scrolled": false
   },
   "outputs": [],
   "source": [
    "fig = plt.figure(figsize=(20,17))\n",
    "plt.rc('xtick', labelsize=16)\n",
    "plt.rc('ytick', labelsize=20)\n",
    "\n",
    "ax1 = fig.add_subplot(121)\n",
    "feq = quartiers[quartiers['number_of_reviews']>=10]\n",
    "feq1 = feq.groupby('neighbourhood')['review_scores_location'].mean().sort_values(ascending=True)\n",
    "ax1=feq1.plot.barh(color='b', width=1)\n",
    "plt.title(\"La note moyenne sur 10\", fontsize=15)\n",
    "plt.xlabel('La note (1 à 10)', fontsize=20)\n",
    "plt.ylabel(\"\")\n",
    "\n",
    "ax2 = fig.add_subplot(122)\n",
    "feq = quartiers[quartiers['accommodates']==2]\n",
    "feq2 = feq.groupby('neighbourhood')['price'].mean().sort_values(ascending=True)\n",
    "ax2=feq2.plot.barh(color='b', width=1)\n",
    "plt.title(\"Prix moyen à la nuitée pour 2 personnes\", fontsize=20)\n",
    "plt.xlabel('Prix moyen en (Euro)', fontsize=20)\n",
    "plt.ylabel(\"\")\n",
    "\n",
    "plt.tight_layout()\n",
    "plt.show()"
   ]
  },
  {
   "cell_type": "markdown",
   "metadata": {},
   "source": [
    "### Les notes par categorie"
   ]
  },
  {
   "cell_type": "code",
   "execution_count": 3,
   "metadata": {},
   "outputs": [
    {
     "ename": "NameError",
     "evalue": "name 'quartiers' is not defined",
     "output_type": "error",
     "traceback": [
      "\u001b[0;31m---------------------------------------------------------------------------\u001b[0m",
      "\u001b[0;31mNameError\u001b[0m                                 Traceback (most recent call last)",
      "\u001b[0;32m<ipython-input-3-d95c9c3023c9>\u001b[0m in \u001b[0;36m<module>\u001b[0;34m\u001b[0m\n\u001b[0;32m----> 1\u001b[0;31m \u001b[0mlistings10\u001b[0m \u001b[0;34m=\u001b[0m \u001b[0mquartiers\u001b[0m\u001b[0;34m[\u001b[0m\u001b[0mquartiers\u001b[0m\u001b[0;34m[\u001b[0m\u001b[0;34m'number_of_reviews'\u001b[0m\u001b[0;34m]\u001b[0m\u001b[0;34m>=\u001b[0m\u001b[0;36m10\u001b[0m\u001b[0;34m]\u001b[0m\u001b[0;34m\u001b[0m\u001b[0;34m\u001b[0m\u001b[0m\n\u001b[0m\u001b[1;32m      2\u001b[0m \u001b[0;34m\u001b[0m\u001b[0m\n\u001b[1;32m      3\u001b[0m \u001b[0mfig\u001b[0m \u001b[0;34m=\u001b[0m \u001b[0mplt\u001b[0m\u001b[0;34m.\u001b[0m\u001b[0mfigure\u001b[0m\u001b[0;34m(\u001b[0m\u001b[0mfigsize\u001b[0m\u001b[0;34m=\u001b[0m\u001b[0;34m(\u001b[0m\u001b[0;36m20\u001b[0m\u001b[0;34m,\u001b[0m\u001b[0;36m15\u001b[0m\u001b[0;34m)\u001b[0m\u001b[0;34m)\u001b[0m\u001b[0;34m\u001b[0m\u001b[0;34m\u001b[0m\u001b[0m\n\u001b[1;32m      4\u001b[0m \u001b[0mplt\u001b[0m\u001b[0;34m.\u001b[0m\u001b[0mrc\u001b[0m\u001b[0;34m(\u001b[0m\u001b[0;34m'xtick'\u001b[0m\u001b[0;34m,\u001b[0m \u001b[0mlabelsize\u001b[0m\u001b[0;34m=\u001b[0m\u001b[0;36m16\u001b[0m\u001b[0;34m)\u001b[0m\u001b[0;34m\u001b[0m\u001b[0;34m\u001b[0m\u001b[0m\n\u001b[1;32m      5\u001b[0m \u001b[0mplt\u001b[0m\u001b[0;34m.\u001b[0m\u001b[0mrc\u001b[0m\u001b[0;34m(\u001b[0m\u001b[0;34m'ytick'\u001b[0m\u001b[0;34m,\u001b[0m \u001b[0mlabelsize\u001b[0m\u001b[0;34m=\u001b[0m\u001b[0;36m16\u001b[0m\u001b[0;34m)\u001b[0m\u001b[0;34m\u001b[0m\u001b[0;34m\u001b[0m\u001b[0m\n",
      "\u001b[0;31mNameError\u001b[0m: name 'quartiers' is not defined"
     ]
    }
   ],
   "source": [
    "listings10 = quartiers[quartiers['number_of_reviews']>=10]\n",
    "\n",
    "fig = plt.figure(figsize=(20,15))\n",
    "plt.rc('xtick', labelsize=16) \n",
    "plt.rc('ytick', labelsize=16)\n",
    "\n",
    "ax1 = fig.add_subplot(321)\n",
    "feq=listings10['review_scores_location'].value_counts().sort_index()\n",
    "ax1=feq.plot.bar(color='b', width=1, rot=0)\n",
    "#ax1.tick_params(axis = 'both', labelsize = 16)\n",
    "plt.title(\"Emplacement\", fontsize=24)\n",
    "plt.ylabel('Nombre davis', fontsize=14)\n",
    "plt.xlabel('La note moyenne', fontsize=14)\n",
    "\n",
    "ax2 = fig.add_subplot(322)\n",
    "feq=listings10['review_scores_cleanliness'].value_counts().sort_index()\n",
    "ax2=feq.plot.bar(color='b', width=1, rot=0)\n",
    "plt.title(\"Propreté\", fontsize=24)\n",
    "plt.ylabel('Nombre davis', fontsize=14)\n",
    "plt.xlabel('La note moyenne', fontsize=14)\n",
    "\n",
    "ax3 = fig.add_subplot(323)\n",
    "feq=listings10['review_scores_value'].value_counts().sort_index()\n",
    "ax3=feq.plot.bar(color='b', width=1, rot=0)\n",
    "plt.title(\"Qualité-prix\", fontsize=24)\n",
    "plt.ylabel('Nombre davis', fontsize=14)\n",
    "plt.xlabel('La note moyenne', fontsize=14)\n",
    "\n",
    "ax4 = fig.add_subplot(324)\n",
    "feq=listings10['review_scores_communication'].value_counts().sort_index()\n",
    "ax4=feq.plot.bar(color='b', width=1, rot=0)\n",
    "plt.title(\"Communication\", fontsize=24)\n",
    "plt.ylabel('Nombre davis', fontsize=14)\n",
    "plt.xlabel('La note moyenne', fontsize=14)\n",
    "\n",
    "ax5 = fig.add_subplot(325)\n",
    "feq=listings10['review_scores_checkin'].value_counts().sort_index()\n",
    "ax5=feq.plot.bar(color='b', width=1, rot=0)\n",
    "plt.title(\"Arrivée\", fontsize=24)\n",
    "plt.ylabel('Nombre davis', fontsize=14)\n",
    "plt.xlabel('La note moyenne', fontsize=14)\n",
    "\n",
    "ax6 = fig.add_subplot(326)\n",
    "feq=listings10['review_scores_accuracy'].value_counts().sort_index()\n",
    "ax6=feq.plot.bar(color='b', width=1, rot=0)\n",
    "plt.title(\"Précision\", fontsize=24)\n",
    "plt.ylabel('Nombre davis', fontsize=14)\n",
    "plt.xlabel('La note moyenne', fontsize=14)\n",
    "\n",
    "plt.tight_layout()\n",
    "plt.show()"
   ]
  },
  {
   "cell_type": "code",
   "execution_count": 4,
   "metadata": {},
   "outputs": [
    {
     "ename": "NameError",
     "evalue": "name 'quartiers' is not defined",
     "output_type": "error",
     "traceback": [
      "\u001b[0;31m---------------------------------------------------------------------------\u001b[0m",
      "\u001b[0;31mNameError\u001b[0m                                 Traceback (most recent call last)",
      "\u001b[0;32m<ipython-input-4-fa3e6dfced08>\u001b[0m in \u001b[0;36m<module>\u001b[0;34m\u001b[0m\n\u001b[0;32m----> 1\u001b[0;31m \u001b[0mquartiers\u001b[0m\u001b[0;34m.\u001b[0m\u001b[0mhost_is_superhost\u001b[0m \u001b[0;34m=\u001b[0m \u001b[0mquartiers\u001b[0m\u001b[0;34m.\u001b[0m\u001b[0mhost_is_superhost\u001b[0m\u001b[0;34m.\u001b[0m\u001b[0mreplace\u001b[0m\u001b[0;34m(\u001b[0m\u001b[0;34m{\u001b[0m\u001b[0;34m\"t\"\u001b[0m\u001b[0;34m:\u001b[0m \u001b[0;34m\"True\"\u001b[0m\u001b[0;34m,\u001b[0m \u001b[0;34m\"f\"\u001b[0m\u001b[0;34m:\u001b[0m \u001b[0;34m\"False\"\u001b[0m\u001b[0;34m}\u001b[0m\u001b[0;34m)\u001b[0m\u001b[0;34m\u001b[0m\u001b[0;34m\u001b[0m\u001b[0m\n\u001b[0m\u001b[1;32m      2\u001b[0m \u001b[0;34m\u001b[0m\u001b[0m\n\u001b[1;32m      3\u001b[0m \u001b[0mfeq\u001b[0m\u001b[0;34m=\u001b[0m\u001b[0mquartiers\u001b[0m\u001b[0;34m[\u001b[0m\u001b[0;34m'host_is_superhost'\u001b[0m\u001b[0;34m]\u001b[0m\u001b[0;34m.\u001b[0m\u001b[0mvalue_counts\u001b[0m\u001b[0;34m(\u001b[0m\u001b[0;34m)\u001b[0m\u001b[0;34m\u001b[0m\u001b[0;34m\u001b[0m\u001b[0m\n\u001b[1;32m      4\u001b[0m \u001b[0mfeq\u001b[0m\u001b[0;34m.\u001b[0m\u001b[0mplot\u001b[0m\u001b[0;34m.\u001b[0m\u001b[0mbar\u001b[0m\u001b[0;34m(\u001b[0m\u001b[0mfigsize\u001b[0m\u001b[0;34m=\u001b[0m\u001b[0;34m(\u001b[0m\u001b[0;36m10\u001b[0m\u001b[0;34m,\u001b[0m \u001b[0;36m8\u001b[0m\u001b[0;34m)\u001b[0m\u001b[0;34m,\u001b[0m \u001b[0mwidth\u001b[0m\u001b[0;34m=\u001b[0m\u001b[0;36m1\u001b[0m\u001b[0;34m,\u001b[0m \u001b[0mrot\u001b[0m\u001b[0;34m=\u001b[0m\u001b[0;36m0\u001b[0m\u001b[0;34m)\u001b[0m\u001b[0;34m\u001b[0m\u001b[0;34m\u001b[0m\u001b[0m\n\u001b[1;32m      5\u001b[0m \u001b[0mplt\u001b[0m\u001b[0;34m.\u001b[0m\u001b[0mtitle\u001b[0m\u001b[0;34m(\u001b[0m\u001b[0;34m\"Le nombre des status Super Host\"\u001b[0m\u001b[0;34m,\u001b[0m \u001b[0mfontsize\u001b[0m\u001b[0;34m=\u001b[0m\u001b[0;36m20\u001b[0m\u001b[0;34m)\u001b[0m\u001b[0;34m\u001b[0m\u001b[0;34m\u001b[0m\u001b[0m\n",
      "\u001b[0;31mNameError\u001b[0m: name 'quartiers' is not defined"
     ]
    }
   ],
   "source": [
    "quartiers.host_is_superhost = quartiers.host_is_superhost.replace({\"t\": \"True\", \"f\": \"False\"})\n",
    "\n",
    "feq=quartiers['host_is_superhost'].value_counts()\n",
    "feq.plot.bar(figsize=(10, 8), width=1, rot=0)\n",
    "plt.title(\"Le nombre des status Super Host\", fontsize=20)\n",
    "plt.ylabel('Nombre de propriétères', fontsize=12)\n",
    "plt.show()"
   ]
  },
  {
   "cell_type": "code",
   "execution_count": null,
   "metadata": {},
   "outputs": [],
   "source": []
  },
  {
   "cell_type": "code",
   "execution_count": null,
   "metadata": {},
   "outputs": [],
   "source": []
  },
  {
   "cell_type": "code",
   "execution_count": null,
   "metadata": {},
   "outputs": [],
   "source": []
  },
  {
   "cell_type": "code",
   "execution_count": null,
   "metadata": {},
   "outputs": [],
   "source": []
  },
  {
   "cell_type": "code",
   "execution_count": null,
   "metadata": {},
   "outputs": [],
   "source": []
  },
  {
   "cell_type": "code",
   "execution_count": null,
   "metadata": {},
   "outputs": [],
   "source": []
  },
  {
   "cell_type": "code",
   "execution_count": null,
   "metadata": {},
   "outputs": [],
   "source": []
  }
 ],
 "metadata": {
  "kernelspec": {
   "display_name": "Python 3",
   "language": "python",
   "name": "python3"
  },
  "language_info": {
   "codemirror_mode": {
    "name": "ipython",
    "version": 3
   },
   "file_extension": ".py",
   "mimetype": "text/x-python",
   "name": "python",
   "nbconvert_exporter": "python",
   "pygments_lexer": "ipython3",
   "version": "3.7.6"
  }
 },
 "nbformat": 4,
 "nbformat_minor": 2
}
