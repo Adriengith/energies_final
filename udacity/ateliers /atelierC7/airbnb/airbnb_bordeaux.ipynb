{
 "cells": [
  {
   "cell_type": "markdown",
   "metadata": {},
   "source": [
    "Les biens recensés AirBnb Bordeaux "
   ]
  },
  {
   "cell_type": "markdown",
   "metadata": {},
   "source": [
    "Depuis l’an 2018 la ville de Bordeaux vit une pénurie de logements, de nombreux d’articles de la presse y sont consacrés en pointant du doigt les locations courte durée qui sont largement dominé par le géant AirBnB, ce marché est réglementé par la municipalité mais est ce suffisant pour pour donner le souffle? Pour cette raison il est important de voir la situation actuel un peu plus en détails. Pour cela vous allez effectué une récupération des données qui datent du 25 mai 2020. Toutes les données sont recuperées depuis le site insideairbnb.com"
   ]
  },
  {
   "cell_type": "code",
   "execution_count": 1,
   "metadata": {},
   "outputs": [],
   "source": [
    "from IPython.core.display import display, HTML\n",
    "import IPython.display\n",
    "import numpy as np\n",
    "import pandas as pd\n",
    "import matplotlib.pyplot as plt\n",
    "\n",
    "import os\n",
    "import warnings\n",
    "warnings.simplefilter(action='ignore', category=FutureWarning)\n",
    "\n",
    "import folium\n",
    "from folium.plugins import FastMarkerCluster\n",
    "\n",
    "\n",
    "quartiers = pd.read_csv(\"listings.csv\", index_col= \"id\")\n",
    "\n",
    "quartiers_details = pd.read_csv(\"listings_raw.csv\", index_col= \"id\", low_memory=False)\n",
    "\n",
    "calendrier = pd.read_csv(\"calendar.csv\", parse_dates=['date'], index_col=['listing_id'])\n",
    "\n",
    "reviews_details = pd.read_csv(\"reviews.csv\", parse_dates=['date'])"
   ]
  },
  {
   "cell_type": "code",
   "execution_count": 4,
   "metadata": {},
   "outputs": [
    {
     "data": {
      "text/plain": [
       "(10751, 15)"
      ]
     },
     "execution_count": 4,
     "metadata": {},
     "output_type": "execute_result"
    }
   ],
   "source": [
    "# 1. Visionez nombre de biens dans le fichier de quartiers\n",
    "quartiers.shape"
   ]
  },
  {
   "cell_type": "code",
   "execution_count": 5,
   "metadata": {},
   "outputs": [
    {
     "data": {
      "text/html": [
       "<div>\n",
       "<style scoped>\n",
       "    .dataframe tbody tr th:only-of-type {\n",
       "        vertical-align: middle;\n",
       "    }\n",
       "\n",
       "    .dataframe tbody tr th {\n",
       "        vertical-align: top;\n",
       "    }\n",
       "\n",
       "    .dataframe thead th {\n",
       "        text-align: right;\n",
       "    }\n",
       "</style>\n",
       "<table border=\"1\" class=\"dataframe\">\n",
       "  <thead>\n",
       "    <tr style=\"text-align: right;\">\n",
       "      <th></th>\n",
       "      <th>name</th>\n",
       "      <th>host_id</th>\n",
       "      <th>host_name</th>\n",
       "      <th>neighbourhood_group</th>\n",
       "      <th>neighbourhood</th>\n",
       "      <th>latitude</th>\n",
       "      <th>longitude</th>\n",
       "      <th>room_type</th>\n",
       "      <th>price</th>\n",
       "      <th>minimum_nights</th>\n",
       "      <th>number_of_reviews</th>\n",
       "      <th>last_review</th>\n",
       "      <th>reviews_per_month</th>\n",
       "      <th>calculated_host_listings_count</th>\n",
       "      <th>availability_365</th>\n",
       "    </tr>\n",
       "    <tr>\n",
       "      <th>id</th>\n",
       "      <th></th>\n",
       "      <th></th>\n",
       "      <th></th>\n",
       "      <th></th>\n",
       "      <th></th>\n",
       "      <th></th>\n",
       "      <th></th>\n",
       "      <th></th>\n",
       "      <th></th>\n",
       "      <th></th>\n",
       "      <th></th>\n",
       "      <th></th>\n",
       "      <th></th>\n",
       "      <th></th>\n",
       "      <th></th>\n",
       "    </tr>\n",
       "  </thead>\n",
       "  <tbody>\n",
       "    <tr>\n",
       "      <th>28925</th>\n",
       "      <td>Grande maison centre ville Comme à la campagne</td>\n",
       "      <td>124398</td>\n",
       "      <td>Laurence</td>\n",
       "      <td>Bordeaux</td>\n",
       "      <td>Centre ville (Bordeaux)</td>\n",
       "      <td>44.84910</td>\n",
       "      <td>-0.59350</td>\n",
       "      <td>Entire home/apt</td>\n",
       "      <td>24</td>\n",
       "      <td>2</td>\n",
       "      <td>2</td>\n",
       "      <td>2018-07-06</td>\n",
       "      <td>0.06</td>\n",
       "      <td>1</td>\n",
       "      <td>255</td>\n",
       "    </tr>\n",
       "    <tr>\n",
       "      <th>185534</th>\n",
       "      <td>L'Echoppe typique de Bordeaux - tout confort</td>\n",
       "      <td>890736</td>\n",
       "      <td>Aurore</td>\n",
       "      <td>Bordeaux</td>\n",
       "      <td>Saint Augustin - Tauzin - Alphonse Dupeux</td>\n",
       "      <td>44.83063</td>\n",
       "      <td>-0.59331</td>\n",
       "      <td>Entire home/apt</td>\n",
       "      <td>125</td>\n",
       "      <td>4</td>\n",
       "      <td>0</td>\n",
       "      <td>NaN</td>\n",
       "      <td>NaN</td>\n",
       "      <td>1</td>\n",
       "      <td>97</td>\n",
       "    </tr>\n",
       "    <tr>\n",
       "      <th>218103</th>\n",
       "      <td>B&amp;B (Website hidden by Airbnb) tropical garden</td>\n",
       "      <td>1127981</td>\n",
       "      <td>Luis</td>\n",
       "      <td>Bgles</td>\n",
       "      <td>Bgles</td>\n",
       "      <td>44.81418</td>\n",
       "      <td>-0.54842</td>\n",
       "      <td>Entire home/apt</td>\n",
       "      <td>100</td>\n",
       "      <td>2</td>\n",
       "      <td>32</td>\n",
       "      <td>2019-11-24</td>\n",
       "      <td>0.31</td>\n",
       "      <td>4</td>\n",
       "      <td>263</td>\n",
       "    </tr>\n",
       "    <tr>\n",
       "      <th>222887</th>\n",
       "      <td>Bordeaux Terrace - spectacular view, fast Wifi</td>\n",
       "      <td>1156398</td>\n",
       "      <td>Suzanna</td>\n",
       "      <td>Bordeaux</td>\n",
       "      <td>Bordeaux Sud</td>\n",
       "      <td>44.83611</td>\n",
       "      <td>-0.56640</td>\n",
       "      <td>Entire home/apt</td>\n",
       "      <td>175</td>\n",
       "      <td>3</td>\n",
       "      <td>38</td>\n",
       "      <td>2019-11-11</td>\n",
       "      <td>0.37</td>\n",
       "      <td>4</td>\n",
       "      <td>269</td>\n",
       "    </tr>\n",
       "    <tr>\n",
       "      <th>317273</th>\n",
       "      <td>Bordeaux City Gardens - large 1 bd, park adjacent</td>\n",
       "      <td>1156398</td>\n",
       "      <td>Suzanna</td>\n",
       "      <td>Bordeaux</td>\n",
       "      <td>Chartrons - Grand Parc - Jardin Public</td>\n",
       "      <td>44.84782</td>\n",
       "      <td>-0.58105</td>\n",
       "      <td>Entire home/apt</td>\n",
       "      <td>155</td>\n",
       "      <td>3</td>\n",
       "      <td>24</td>\n",
       "      <td>2020-03-08</td>\n",
       "      <td>0.34</td>\n",
       "      <td>4</td>\n",
       "      <td>337</td>\n",
       "    </tr>\n",
       "  </tbody>\n",
       "</table>\n",
       "</div>"
      ],
      "text/plain": [
       "                                                     name  host_id host_name  \\\n",
       "id                                                                             \n",
       "28925      Grande maison centre ville Comme à la campagne   124398  Laurence   \n",
       "185534       L'Echoppe typique de Bordeaux - tout confort   890736    Aurore   \n",
       "218103     B&B (Website hidden by Airbnb) tropical garden  1127981      Luis   \n",
       "222887     Bordeaux Terrace - spectacular view, fast Wifi  1156398   Suzanna   \n",
       "317273  Bordeaux City Gardens - large 1 bd, park adjacent  1156398   Suzanna   \n",
       "\n",
       "       neighbourhood_group                              neighbourhood  \\\n",
       "id                                                                      \n",
       "28925             Bordeaux                    Centre ville (Bordeaux)   \n",
       "185534            Bordeaux  Saint Augustin - Tauzin - Alphonse Dupeux   \n",
       "218103               Bgles                                      Bgles   \n",
       "222887            Bordeaux                               Bordeaux Sud   \n",
       "317273            Bordeaux     Chartrons - Grand Parc - Jardin Public   \n",
       "\n",
       "        latitude  longitude        room_type  price  minimum_nights  \\\n",
       "id                                                                    \n",
       "28925   44.84910   -0.59350  Entire home/apt     24               2   \n",
       "185534  44.83063   -0.59331  Entire home/apt    125               4   \n",
       "218103  44.81418   -0.54842  Entire home/apt    100               2   \n",
       "222887  44.83611   -0.56640  Entire home/apt    175               3   \n",
       "317273  44.84782   -0.58105  Entire home/apt    155               3   \n",
       "\n",
       "        number_of_reviews last_review  reviews_per_month  \\\n",
       "id                                                         \n",
       "28925                   2  2018-07-06               0.06   \n",
       "185534                  0         NaN                NaN   \n",
       "218103                 32  2019-11-24               0.31   \n",
       "222887                 38  2019-11-11               0.37   \n",
       "317273                 24  2020-03-08               0.34   \n",
       "\n",
       "        calculated_host_listings_count  availability_365  \n",
       "id                                                        \n",
       "28925                                1               255  \n",
       "185534                               1                97  \n",
       "218103                               4               263  \n",
       "222887                               4               269  \n",
       "317273                               4               337  "
      ]
     },
     "execution_count": 5,
     "metadata": {},
     "output_type": "execute_result"
    }
   ],
   "source": [
    "# 2. Visionez la composition du tableau de quarties\n",
    "quartiers.head()"
   ]
  },
  {
   "cell_type": "markdown",
   "metadata": {},
   "source": [
    "Bon il est temps de passer à l'echauffement !!!"
   ]
  },
  {
   "cell_type": "code",
   "execution_count": 4,
   "metadata": {},
   "outputs": [],
   "source": [
    "# 3. En utilisant la bibliothéque MatplotLib vous allez afficher le graphique avec les biens par \"neighbourhood\" "
   ]
  },
  {
   "cell_type": "markdown",
   "metadata": {},
   "source": [
    "Génial ! Maintenant que nous avons un visuel des biens, il est peu être plus interessant de le voir sur une carte interactive. "
   ]
  },
  {
   "cell_type": "code",
   "execution_count": 7,
   "metadata": {},
   "outputs": [],
   "source": [
    " # 4. On va utiliser \"Folium\" pour afficher nos resultas. Utilisez le style de carte \"FastMarkerCluster\" pour un rendu optimal."
   ]
  },
  {
   "cell_type": "code",
   "execution_count": 8,
   "metadata": {},
   "outputs": [],
   "source": [
    "# 5. C'est beau mais pas assez clairifié, voyons quel type de logement est proposer. Utilisez \"MatplotLib\""
   ]
  },
  {
   "cell_type": "code",
   "execution_count": 11,
   "metadata": {},
   "outputs": [],
   "source": [
    "# 6. Idem via MatplotLib affichez le tarif à la nuitée par quartier en faisant une moyenne."
   ]
  },
  {
   "cell_type": "markdown",
   "metadata": {},
   "source": [
    "Soufflez vous y êtes presque, maintenant il est temps d'aller de voir les propriétaires, Tok Tok !"
   ]
  },
  {
   "cell_type": "code",
   "execution_count": 9,
   "metadata": {},
   "outputs": [],
   "source": [
    "# 7. Reperez le nombre d'identifiants"
   ]
  },
  {
   "cell_type": "code",
   "execution_count": 10,
   "metadata": {},
   "outputs": [],
   "source": [
    "# 8. Si quelque chose ne colle pas entre le nombre de logement et le nombre de propriétaires alors il est temps de compter nombre de biens par propriétaire. Top 15"
   ]
  },
  {
   "cell_type": "code",
   "execution_count": 12,
   "metadata": {},
   "outputs": [],
   "source": [
    "# 9. Une fois qque vous avez obtenu la liste, penchez sur le champion"
   ]
  },
  {
   "cell_type": "code",
   "execution_count": 13,
   "metadata": {},
   "outputs": [],
   "source": [
    "# 10. B.O.N.U.S : afficher le tableau avec la presentation des top 10 host, leurs prenom et le nombre de biens qu'ils possedent."
   ]
  }
 ],
 "metadata": {
  "kernelspec": {
   "display_name": "Python 3",
   "language": "python",
   "name": "python3"
  },
  "language_info": {
   "codemirror_mode": {
    "name": "ipython",
    "version": 3
   },
   "file_extension": ".py",
   "mimetype": "text/x-python",
   "name": "python",
   "nbconvert_exporter": "python",
   "pygments_lexer": "ipython3",
   "version": "3.7.6"
  }
 },
 "nbformat": 4,
 "nbformat_minor": 2
}
