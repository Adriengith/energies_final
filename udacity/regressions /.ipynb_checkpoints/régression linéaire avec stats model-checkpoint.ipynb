{
 "cells": [
  {
   "cell_type": "markdown",
   "metadata": {},
   "source": [
    "Consigne 2 :\n",
    "- Importer la donner avec pd.read_csv ;\n",
    "- Explorer la donnée avec un .head, .info() et .describe() par exemple;\n",
    "- Nettoyer la donnée;\n",
    " - Récupérer uniquement les colonnes : ['Nb Quotidien Admis Hospitalisation','Nb Quotidien Admis Réanimation','Nb Quotidien Décès', 'Sexe'] ;\n",
    " - Visualiser la donnée avec seaborn avec un .pairplot() et un .heatmap() par exemple.\n",
    "- Faites un regression lineaire  avec statsmodels.formula.api  pour expliquer le nombre de décès par le nombre d’hospitalisation (voir la documentation : https://www.statsmodels.org/stable/examples/notebooks/generated/formulas.html)\n",
    "- Regardez le rsquared  et formulez une phrase en français avec cette indicateur pour une bonne interpretation.\n",
    "- Que pouvez-vous conclure ? Si il y a 2500 hospitalisations combien prédisez-vous de décès ? (voir cette documentation : https://www.statsmodels.org/stable/examples/notebooks/generated/predict.html )\n",
    "data"
   ]
  },
  {
   "cell_type": "code",
   "execution_count": 1,
   "metadata": {},
   "outputs": [
    {
     "data": {
      "text/html": [
       "<div>\n",
       "<style scoped>\n",
       "    .dataframe tbody tr th:only-of-type {\n",
       "        vertical-align: middle;\n",
       "    }\n",
       "\n",
       "    .dataframe tbody tr th {\n",
       "        vertical-align: top;\n",
       "    }\n",
       "\n",
       "    .dataframe thead th {\n",
       "        text-align: right;\n",
       "    }\n",
       "</style>\n",
       "<table border=\"1\" class=\"dataframe\">\n",
       "  <thead>\n",
       "    <tr style=\"text-align: right;\">\n",
       "      <th></th>\n",
       "      <th>Code du Département</th>\n",
       "      <th>Date</th>\n",
       "      <th>Nb actuellement hospitalisés</th>\n",
       "      <th>Nb actuellement en soins intensifs</th>\n",
       "      <th>Total retour à domicile</th>\n",
       "      <th>Total Décès</th>\n",
       "      <th>Code région</th>\n",
       "      <th>Code ISO 3166 de la zone</th>\n",
       "      <th>Nom région</th>\n",
       "      <th>Nom département</th>\n",
       "      <th>Sexe</th>\n",
       "      <th>geo_point_2d</th>\n",
       "      <th>Nb Quotidien Admis Hospitalisation</th>\n",
       "      <th>Nb Quotidien Admis Réanimation</th>\n",
       "      <th>Nb Quotidien Décès</th>\n",
       "      <th>Nb Quotidien Retour à Domicile</th>\n",
       "    </tr>\n",
       "  </thead>\n",
       "  <tbody>\n",
       "    <tr>\n",
       "      <th>0</th>\n",
       "      <td>2A</td>\n",
       "      <td>2020-08-30</td>\n",
       "      <td>2</td>\n",
       "      <td>0</td>\n",
       "      <td>84</td>\n",
       "      <td>21</td>\n",
       "      <td>94</td>\n",
       "      <td>FRA</td>\n",
       "      <td>Corse</td>\n",
       "      <td>Corse-du-Sud</td>\n",
       "      <td>Femme</td>\n",
       "      <td>41.8725745076,8.98230498246</td>\n",
       "      <td>NaN</td>\n",
       "      <td>NaN</td>\n",
       "      <td>NaN</td>\n",
       "      <td>NaN</td>\n",
       "    </tr>\n",
       "    <tr>\n",
       "      <th>1</th>\n",
       "      <td>31</td>\n",
       "      <td>2020-08-30</td>\n",
       "      <td>21</td>\n",
       "      <td>3</td>\n",
       "      <td>313</td>\n",
       "      <td>31</td>\n",
       "      <td>76</td>\n",
       "      <td>FRA</td>\n",
       "      <td>Occitanie</td>\n",
       "      <td>Haute-Garonne</td>\n",
       "      <td>Femme</td>\n",
       "      <td>43.3618361296,1.1827434953</td>\n",
       "      <td>NaN</td>\n",
       "      <td>NaN</td>\n",
       "      <td>NaN</td>\n",
       "      <td>NaN</td>\n",
       "    </tr>\n",
       "  </tbody>\n",
       "</table>\n",
       "</div>"
      ],
      "text/plain": [
       "  Code du Département        Date  Nb actuellement hospitalisés  \\\n",
       "0                  2A  2020-08-30                             2   \n",
       "1                  31  2020-08-30                            21   \n",
       "\n",
       "   Nb actuellement en soins intensifs  Total retour à domicile  Total Décès  \\\n",
       "0                                   0                       84           21   \n",
       "1                                   3                      313           31   \n",
       "\n",
       "   Code région Code ISO 3166 de la zone Nom région Nom département   Sexe  \\\n",
       "0           94                      FRA      Corse    Corse-du-Sud  Femme   \n",
       "1           76                      FRA  Occitanie   Haute-Garonne  Femme   \n",
       "\n",
       "                  geo_point_2d  Nb Quotidien Admis Hospitalisation  \\\n",
       "0  41.8725745076,8.98230498246                                 NaN   \n",
       "1   43.3618361296,1.1827434953                                 NaN   \n",
       "\n",
       "   Nb Quotidien Admis Réanimation  Nb Quotidien Décès  \\\n",
       "0                             NaN                 NaN   \n",
       "1                             NaN                 NaN   \n",
       "\n",
       "   Nb Quotidien Retour à Domicile  \n",
       "0                             NaN  \n",
       "1                             NaN  "
      ]
     },
     "execution_count": 1,
     "metadata": {},
     "output_type": "execute_result"
    }
   ],
   "source": [
    "import pandas as pd \n",
    "import numpy as np\n",
    "import seaborn as sns\n",
    "\n",
    "file = pd.read_csv('hospitals.csv', sep=';')\n",
    "file.head(2)"
   ]
  },
  {
   "cell_type": "code",
   "execution_count": 2,
   "metadata": {},
   "outputs": [
    {
     "name": "stdout",
     "output_type": "stream",
     "text": [
      "<class 'pandas.core.frame.DataFrame'>\n",
      "RangeIndex: 73023 entries, 0 to 73022\n",
      "Data columns (total 16 columns):\n",
      " #   Column                              Non-Null Count  Dtype  \n",
      "---  ------                              --------------  -----  \n",
      " 0   Code du Département                 73023 non-null  object \n",
      " 1   Date                                73023 non-null  object \n",
      " 2   Nb actuellement hospitalisés        73023 non-null  int64  \n",
      " 3   Nb actuellement en soins intensifs  73023 non-null  int64  \n",
      " 4   Total retour à domicile             73023 non-null  int64  \n",
      " 5   Total Décès                         73023 non-null  int64  \n",
      " 6   Code région                         73023 non-null  int64  \n",
      " 7   Code ISO 3166 de la zone            73023 non-null  object \n",
      " 8   Nom région                          73023 non-null  object \n",
      " 9   Nom département                     73023 non-null  object \n",
      " 10  Sexe                                73023 non-null  object \n",
      " 11  geo_point_2d                        73023 non-null  object \n",
      " 12  Nb Quotidien Admis Hospitalisation  24240 non-null  float64\n",
      " 13  Nb Quotidien Admis Réanimation      24240 non-null  float64\n",
      " 14  Nb Quotidien Décès                  24240 non-null  float64\n",
      " 15  Nb Quotidien Retour à Domicile      24240 non-null  float64\n",
      "dtypes: float64(4), int64(5), object(7)\n",
      "memory usage: 8.9+ MB\n"
     ]
    }
   ],
   "source": [
    "file.info()"
   ]
  },
  {
   "cell_type": "code",
   "execution_count": 3,
   "metadata": {},
   "outputs": [
    {
     "data": {
      "text/html": [
       "<div>\n",
       "<style scoped>\n",
       "    .dataframe tbody tr th:only-of-type {\n",
       "        vertical-align: middle;\n",
       "    }\n",
       "\n",
       "    .dataframe tbody tr th {\n",
       "        vertical-align: top;\n",
       "    }\n",
       "\n",
       "    .dataframe thead th {\n",
       "        text-align: right;\n",
       "    }\n",
       "</style>\n",
       "<table border=\"1\" class=\"dataframe\">\n",
       "  <thead>\n",
       "    <tr style=\"text-align: right;\">\n",
       "      <th></th>\n",
       "      <th>Nb actuellement hospitalisés</th>\n",
       "      <th>Nb actuellement en soins intensifs</th>\n",
       "      <th>Total retour à domicile</th>\n",
       "      <th>Total Décès</th>\n",
       "      <th>Code région</th>\n",
       "      <th>Nb Quotidien Admis Hospitalisation</th>\n",
       "      <th>Nb Quotidien Admis Réanimation</th>\n",
       "      <th>Nb Quotidien Décès</th>\n",
       "      <th>Nb Quotidien Retour à Domicile</th>\n",
       "    </tr>\n",
       "  </thead>\n",
       "  <tbody>\n",
       "    <tr>\n",
       "      <th>count</th>\n",
       "      <td>73023.000000</td>\n",
       "      <td>73023.000000</td>\n",
       "      <td>73023.000000</td>\n",
       "      <td>73023.000000</td>\n",
       "      <td>73023.000000</td>\n",
       "      <td>24240.000000</td>\n",
       "      <td>24240.000000</td>\n",
       "      <td>24240.000000</td>\n",
       "      <td>24240.000000</td>\n",
       "    </tr>\n",
       "    <tr>\n",
       "      <th>mean</th>\n",
       "      <td>88.858853</td>\n",
       "      <td>13.071950</td>\n",
       "      <td>482.271175</td>\n",
       "      <td>121.518631</td>\n",
       "      <td>52.653465</td>\n",
       "      <td>8.728919</td>\n",
       "      <td>1.398185</td>\n",
       "      <td>1.266254</td>\n",
       "      <td>5.890594</td>\n",
       "    </tr>\n",
       "    <tr>\n",
       "      <th>std</th>\n",
       "      <td>189.710183</td>\n",
       "      <td>35.680908</td>\n",
       "      <td>819.175020</td>\n",
       "      <td>230.480830</td>\n",
       "      <td>28.195564</td>\n",
       "      <td>22.121110</td>\n",
       "      <td>4.137807</td>\n",
       "      <td>3.698693</td>\n",
       "      <td>13.416755</td>\n",
       "    </tr>\n",
       "    <tr>\n",
       "      <th>min</th>\n",
       "      <td>0.000000</td>\n",
       "      <td>0.000000</td>\n",
       "      <td>0.000000</td>\n",
       "      <td>0.000000</td>\n",
       "      <td>1.000000</td>\n",
       "      <td>0.000000</td>\n",
       "      <td>0.000000</td>\n",
       "      <td>0.000000</td>\n",
       "      <td>0.000000</td>\n",
       "    </tr>\n",
       "    <tr>\n",
       "      <th>25%</th>\n",
       "      <td>7.000000</td>\n",
       "      <td>0.000000</td>\n",
       "      <td>70.000000</td>\n",
       "      <td>14.000000</td>\n",
       "      <td>27.000000</td>\n",
       "      <td>0.000000</td>\n",
       "      <td>0.000000</td>\n",
       "      <td>0.000000</td>\n",
       "      <td>0.000000</td>\n",
       "    </tr>\n",
       "    <tr>\n",
       "      <th>50%</th>\n",
       "      <td>25.000000</td>\n",
       "      <td>3.000000</td>\n",
       "      <td>183.000000</td>\n",
       "      <td>42.000000</td>\n",
       "      <td>52.000000</td>\n",
       "      <td>1.000000</td>\n",
       "      <td>0.000000</td>\n",
       "      <td>0.000000</td>\n",
       "      <td>1.000000</td>\n",
       "    </tr>\n",
       "    <tr>\n",
       "      <th>75%</th>\n",
       "      <td>82.000000</td>\n",
       "      <td>10.000000</td>\n",
       "      <td>487.000000</td>\n",
       "      <td>112.000000</td>\n",
       "      <td>76.000000</td>\n",
       "      <td>7.000000</td>\n",
       "      <td>1.000000</td>\n",
       "      <td>1.000000</td>\n",
       "      <td>5.000000</td>\n",
       "    </tr>\n",
       "    <tr>\n",
       "      <th>max</th>\n",
       "      <td>3281.000000</td>\n",
       "      <td>855.000000</td>\n",
       "      <td>9114.000000</td>\n",
       "      <td>9178.000000</td>\n",
       "      <td>94.000000</td>\n",
       "      <td>404.000000</td>\n",
       "      <td>96.000000</td>\n",
       "      <td>76.000000</td>\n",
       "      <td>222.000000</td>\n",
       "    </tr>\n",
       "  </tbody>\n",
       "</table>\n",
       "</div>"
      ],
      "text/plain": [
       "       Nb actuellement hospitalisés  Nb actuellement en soins intensifs  \\\n",
       "count                  73023.000000                        73023.000000   \n",
       "mean                      88.858853                           13.071950   \n",
       "std                      189.710183                           35.680908   \n",
       "min                        0.000000                            0.000000   \n",
       "25%                        7.000000                            0.000000   \n",
       "50%                       25.000000                            3.000000   \n",
       "75%                       82.000000                           10.000000   \n",
       "max                     3281.000000                          855.000000   \n",
       "\n",
       "       Total retour à domicile   Total Décès   Code région  \\\n",
       "count             73023.000000  73023.000000  73023.000000   \n",
       "mean                482.271175    121.518631     52.653465   \n",
       "std                 819.175020    230.480830     28.195564   \n",
       "min                   0.000000      0.000000      1.000000   \n",
       "25%                  70.000000     14.000000     27.000000   \n",
       "50%                 183.000000     42.000000     52.000000   \n",
       "75%                 487.000000    112.000000     76.000000   \n",
       "max                9114.000000   9178.000000     94.000000   \n",
       "\n",
       "       Nb Quotidien Admis Hospitalisation  Nb Quotidien Admis Réanimation  \\\n",
       "count                        24240.000000                    24240.000000   \n",
       "mean                             8.728919                        1.398185   \n",
       "std                             22.121110                        4.137807   \n",
       "min                              0.000000                        0.000000   \n",
       "25%                              0.000000                        0.000000   \n",
       "50%                              1.000000                        0.000000   \n",
       "75%                              7.000000                        1.000000   \n",
       "max                            404.000000                       96.000000   \n",
       "\n",
       "       Nb Quotidien Décès  Nb Quotidien Retour à Domicile  \n",
       "count        24240.000000                    24240.000000  \n",
       "mean             1.266254                        5.890594  \n",
       "std              3.698693                       13.416755  \n",
       "min              0.000000                        0.000000  \n",
       "25%              0.000000                        0.000000  \n",
       "50%              0.000000                        1.000000  \n",
       "75%              1.000000                        5.000000  \n",
       "max             76.000000                      222.000000  "
      ]
     },
     "execution_count": 3,
     "metadata": {},
     "output_type": "execute_result"
    }
   ],
   "source": [
    "file.describe()"
   ]
  },
  {
   "cell_type": "code",
   "execution_count": 4,
   "metadata": {},
   "outputs": [
    {
     "data": {
      "text/html": [
       "<div>\n",
       "<style scoped>\n",
       "    .dataframe tbody tr th:only-of-type {\n",
       "        vertical-align: middle;\n",
       "    }\n",
       "\n",
       "    .dataframe tbody tr th {\n",
       "        vertical-align: top;\n",
       "    }\n",
       "\n",
       "    .dataframe thead th {\n",
       "        text-align: right;\n",
       "    }\n",
       "</style>\n",
       "<table border=\"1\" class=\"dataframe\">\n",
       "  <thead>\n",
       "    <tr style=\"text-align: right;\">\n",
       "      <th></th>\n",
       "      <th>Code du Département</th>\n",
       "      <th>Date</th>\n",
       "      <th>Nb actuellement hospitalisés</th>\n",
       "      <th>Nb actuellement en soins intensifs</th>\n",
       "      <th>Total retour à domicile</th>\n",
       "      <th>Total Décès</th>\n",
       "      <th>Code région</th>\n",
       "      <th>Code ISO 3166 de la zone</th>\n",
       "      <th>Nom région</th>\n",
       "      <th>Nom département</th>\n",
       "      <th>Sexe</th>\n",
       "      <th>geo_point_2d</th>\n",
       "      <th>Nb Quotidien Admis Hospitalisation</th>\n",
       "      <th>Nb Quotidien Admis Réanimation</th>\n",
       "      <th>Nb Quotidien Décès</th>\n",
       "      <th>Nb Quotidien Retour à Domicile</th>\n",
       "    </tr>\n",
       "  </thead>\n",
       "  <tbody>\n",
       "    <tr>\n",
       "      <th>4</th>\n",
       "      <td>72</td>\n",
       "      <td>2020-08-30</td>\n",
       "      <td>27</td>\n",
       "      <td>0</td>\n",
       "      <td>433</td>\n",
       "      <td>88</td>\n",
       "      <td>52</td>\n",
       "      <td>FRA</td>\n",
       "      <td>Pays de la Loire</td>\n",
       "      <td>Sarthe</td>\n",
       "      <td>Tous</td>\n",
       "      <td>47.9939387561,0.227666178967</td>\n",
       "      <td>0.0</td>\n",
       "      <td>0.0</td>\n",
       "      <td>0.0</td>\n",
       "      <td>0.0</td>\n",
       "    </tr>\n",
       "    <tr>\n",
       "      <th>8</th>\n",
       "      <td>976</td>\n",
       "      <td>2020-08-30</td>\n",
       "      <td>6</td>\n",
       "      <td>0</td>\n",
       "      <td>442</td>\n",
       "      <td>28</td>\n",
       "      <td>6</td>\n",
       "      <td>MYT</td>\n",
       "      <td>Mayotte</td>\n",
       "      <td>Mayotte</td>\n",
       "      <td>Tous</td>\n",
       "      <td>-12.8206134401,45.1474418557</td>\n",
       "      <td>0.0</td>\n",
       "      <td>0.0</td>\n",
       "      <td>0.0</td>\n",
       "      <td>0.0</td>\n",
       "    </tr>\n",
       "  </tbody>\n",
       "</table>\n",
       "</div>"
      ],
      "text/plain": [
       "  Code du Département        Date  Nb actuellement hospitalisés  \\\n",
       "4                  72  2020-08-30                            27   \n",
       "8                 976  2020-08-30                             6   \n",
       "\n",
       "   Nb actuellement en soins intensifs  Total retour à domicile  Total Décès  \\\n",
       "4                                   0                      433           88   \n",
       "8                                   0                      442           28   \n",
       "\n",
       "   Code région Code ISO 3166 de la zone        Nom région Nom département  \\\n",
       "4           52                      FRA  Pays de la Loire          Sarthe   \n",
       "8            6                      MYT           Mayotte         Mayotte   \n",
       "\n",
       "   Sexe                  geo_point_2d  Nb Quotidien Admis Hospitalisation  \\\n",
       "4  Tous  47.9939387561,0.227666178967                                 0.0   \n",
       "8  Tous  -12.8206134401,45.1474418557                                 0.0   \n",
       "\n",
       "   Nb Quotidien Admis Réanimation  Nb Quotidien Décès  \\\n",
       "4                             0.0                 0.0   \n",
       "8                             0.0                 0.0   \n",
       "\n",
       "   Nb Quotidien Retour à Domicile  \n",
       "4                             0.0  \n",
       "8                             0.0  "
      ]
     },
     "execution_count": 4,
     "metadata": {},
     "output_type": "execute_result"
    }
   ],
   "source": [
    "file.dropna(inplace = True)\n",
    "file.head(2)"
   ]
  },
  {
   "cell_type": "code",
   "execution_count": 5,
   "metadata": {},
   "outputs": [
    {
     "data": {
      "text/plain": [
       "(24240, 16)"
      ]
     },
     "execution_count": 5,
     "metadata": {},
     "output_type": "execute_result"
    }
   ],
   "source": [
    "file.shape"
   ]
  },
  {
   "cell_type": "code",
   "execution_count": 6,
   "metadata": {},
   "outputs": [],
   "source": [
    "data = file[['Nb Quotidien Admis Hospitalisation','Nb Quotidien Admis Réanimation','Nb Quotidien Décès','Sexe']]"
   ]
  },
  {
   "cell_type": "code",
   "execution_count": 7,
   "metadata": {},
   "outputs": [
    {
     "data": {
      "text/html": [
       "<div>\n",
       "<style scoped>\n",
       "    .dataframe tbody tr th:only-of-type {\n",
       "        vertical-align: middle;\n",
       "    }\n",
       "\n",
       "    .dataframe tbody tr th {\n",
       "        vertical-align: top;\n",
       "    }\n",
       "\n",
       "    .dataframe thead th {\n",
       "        text-align: right;\n",
       "    }\n",
       "</style>\n",
       "<table border=\"1\" class=\"dataframe\">\n",
       "  <thead>\n",
       "    <tr style=\"text-align: right;\">\n",
       "      <th></th>\n",
       "      <th>Nb Quotidien Admis Hospitalisation</th>\n",
       "      <th>Nb Quotidien Admis Réanimation</th>\n",
       "      <th>Nb Quotidien Décès</th>\n",
       "      <th>Sexe</th>\n",
       "    </tr>\n",
       "  </thead>\n",
       "  <tbody>\n",
       "    <tr>\n",
       "      <th>4</th>\n",
       "      <td>0.0</td>\n",
       "      <td>0.0</td>\n",
       "      <td>0.0</td>\n",
       "      <td>Tous</td>\n",
       "    </tr>\n",
       "    <tr>\n",
       "      <th>8</th>\n",
       "      <td>0.0</td>\n",
       "      <td>0.0</td>\n",
       "      <td>0.0</td>\n",
       "      <td>Tous</td>\n",
       "    </tr>\n",
       "    <tr>\n",
       "      <th>11</th>\n",
       "      <td>0.0</td>\n",
       "      <td>0.0</td>\n",
       "      <td>0.0</td>\n",
       "      <td>Tous</td>\n",
       "    </tr>\n",
       "    <tr>\n",
       "      <th>14</th>\n",
       "      <td>0.0</td>\n",
       "      <td>0.0</td>\n",
       "      <td>0.0</td>\n",
       "      <td>Tous</td>\n",
       "    </tr>\n",
       "    <tr>\n",
       "      <th>17</th>\n",
       "      <td>0.0</td>\n",
       "      <td>0.0</td>\n",
       "      <td>1.0</td>\n",
       "      <td>Tous</td>\n",
       "    </tr>\n",
       "    <tr>\n",
       "      <th>...</th>\n",
       "      <td>...</td>\n",
       "      <td>...</td>\n",
       "      <td>...</td>\n",
       "      <td>...</td>\n",
       "    </tr>\n",
       "    <tr>\n",
       "      <th>73009</th>\n",
       "      <td>1.0</td>\n",
       "      <td>1.0</td>\n",
       "      <td>0.0</td>\n",
       "      <td>Tous</td>\n",
       "    </tr>\n",
       "    <tr>\n",
       "      <th>73010</th>\n",
       "      <td>0.0</td>\n",
       "      <td>1.0</td>\n",
       "      <td>0.0</td>\n",
       "      <td>Tous</td>\n",
       "    </tr>\n",
       "    <tr>\n",
       "      <th>73013</th>\n",
       "      <td>6.0</td>\n",
       "      <td>2.0</td>\n",
       "      <td>0.0</td>\n",
       "      <td>Tous</td>\n",
       "    </tr>\n",
       "    <tr>\n",
       "      <th>73017</th>\n",
       "      <td>30.0</td>\n",
       "      <td>2.0</td>\n",
       "      <td>0.0</td>\n",
       "      <td>Tous</td>\n",
       "    </tr>\n",
       "    <tr>\n",
       "      <th>73021</th>\n",
       "      <td>0.0</td>\n",
       "      <td>0.0</td>\n",
       "      <td>0.0</td>\n",
       "      <td>Tous</td>\n",
       "    </tr>\n",
       "  </tbody>\n",
       "</table>\n",
       "<p>24240 rows × 4 columns</p>\n",
       "</div>"
      ],
      "text/plain": [
       "       Nb Quotidien Admis Hospitalisation  Nb Quotidien Admis Réanimation  \\\n",
       "4                                     0.0                             0.0   \n",
       "8                                     0.0                             0.0   \n",
       "11                                    0.0                             0.0   \n",
       "14                                    0.0                             0.0   \n",
       "17                                    0.0                             0.0   \n",
       "...                                   ...                             ...   \n",
       "73009                                 1.0                             1.0   \n",
       "73010                                 0.0                             1.0   \n",
       "73013                                 6.0                             2.0   \n",
       "73017                                30.0                             2.0   \n",
       "73021                                 0.0                             0.0   \n",
       "\n",
       "       Nb Quotidien Décès  Sexe  \n",
       "4                     0.0  Tous  \n",
       "8                     0.0  Tous  \n",
       "11                    0.0  Tous  \n",
       "14                    0.0  Tous  \n",
       "17                    1.0  Tous  \n",
       "...                   ...   ...  \n",
       "73009                 0.0  Tous  \n",
       "73010                 0.0  Tous  \n",
       "73013                 0.0  Tous  \n",
       "73017                 0.0  Tous  \n",
       "73021                 0.0  Tous  \n",
       "\n",
       "[24240 rows x 4 columns]"
      ]
     },
     "execution_count": 7,
     "metadata": {},
     "output_type": "execute_result"
    }
   ],
   "source": [
    "data"
   ]
  },
  {
   "cell_type": "code",
   "execution_count": 8,
   "metadata": {},
   "outputs": [
    {
     "data": {
      "text/plain": [
       "<seaborn.axisgrid.PairGrid at 0x124cb3dc0>"
      ]
     },
     "execution_count": 8,
     "metadata": {},
     "output_type": "execute_result"
    },
    {
     "data": {
      "image/png": "[encoded data removed]",
      "text/plain": [
       "<Figure size 540x540 with 12 Axes>"
      ]
     },
     "metadata": {
      "needs_background": "light"
     },
     "output_type": "display_data"
    }
   ],
   "source": [
    "sns.pairplot(data)"
   ]
  },
  {
   "cell_type": "code",
   "execution_count": 9,
   "metadata": {},
   "outputs": [
    {
     "data": {
      "text/html": [
       "<div>\n",
       "<style scoped>\n",
       "    .dataframe tbody tr th:only-of-type {\n",
       "        vertical-align: middle;\n",
       "    }\n",
       "\n",
       "    .dataframe tbody tr th {\n",
       "        vertical-align: top;\n",
       "    }\n",
       "\n",
       "    .dataframe thead th {\n",
       "        text-align: right;\n",
       "    }\n",
       "</style>\n",
       "<table border=\"1\" class=\"dataframe\">\n",
       "  <thead>\n",
       "    <tr style=\"text-align: right;\">\n",
       "      <th></th>\n",
       "      <th>Nb Quotidien Admis Hospitalisation</th>\n",
       "      <th>Nb Quotidien Admis Réanimation</th>\n",
       "      <th>Nb Quotidien Décès</th>\n",
       "    </tr>\n",
       "  </thead>\n",
       "  <tbody>\n",
       "    <tr>\n",
       "      <th>Nb Quotidien Admis Hospitalisation</th>\n",
       "      <td>1.000000</td>\n",
       "      <td>0.894560</td>\n",
       "      <td>0.835108</td>\n",
       "    </tr>\n",
       "    <tr>\n",
       "      <th>Nb Quotidien Admis Réanimation</th>\n",
       "      <td>0.894560</td>\n",
       "      <td>1.000000</td>\n",
       "      <td>0.742137</td>\n",
       "    </tr>\n",
       "    <tr>\n",
       "      <th>Nb Quotidien Décès</th>\n",
       "      <td>0.835108</td>\n",
       "      <td>0.742137</td>\n",
       "      <td>1.000000</td>\n",
       "    </tr>\n",
       "  </tbody>\n",
       "</table>\n",
       "</div>"
      ],
      "text/plain": [
       "                                    Nb Quotidien Admis Hospitalisation  \\\n",
       "Nb Quotidien Admis Hospitalisation                            1.000000   \n",
       "Nb Quotidien Admis Réanimation                                0.894560   \n",
       "Nb Quotidien Décès                                            0.835108   \n",
       "\n",
       "                                    Nb Quotidien Admis Réanimation  \\\n",
       "Nb Quotidien Admis Hospitalisation                        0.894560   \n",
       "Nb Quotidien Admis Réanimation                            1.000000   \n",
       "Nb Quotidien Décès                                        0.742137   \n",
       "\n",
       "                                    Nb Quotidien Décès  \n",
       "Nb Quotidien Admis Hospitalisation            0.835108  \n",
       "Nb Quotidien Admis Réanimation                0.742137  \n",
       "Nb Quotidien Décès                            1.000000  "
      ]
     },
     "execution_count": 9,
     "metadata": {},
     "output_type": "execute_result"
    }
   ],
   "source": [
    "data.corr()\n",
    "#tableau de corrélation"
   ]
  },
  {
   "cell_type": "code",
   "execution_count": 10,
   "metadata": {},
   "outputs": [
    {
     "data": {
      "text/plain": [
       "<AxesSubplot:>"
      ]
     },
     "execution_count": 10,
     "metadata": {},
     "output_type": "execute_result"
    },
    {
     "data": {
      "image/png": "[encoded data removed]",
      "text/plain": [
       "<Figure size 432x288 with 2 Axes>"
      ]
     },
     "metadata": {
      "needs_background": "light"
     },
     "output_type": "display_data"
    }
   ],
   "source": [
    "sns.heatmap(data.corr())"
   ]
  },
  {
   "cell_type": "code",
   "execution_count": 13,
   "metadata": {},
   "outputs": [],
   "source": [
    "import statsmodels.api as sm\n",
    "from statsmodels.formula.api import ols \n",
    "%matplotlib inline\n",
    "import matplotlib.pyplot as plt"
   ]
  },
  {
   "cell_type": "code",
   "execution_count": 16,
   "metadata": {},
   "outputs": [
    {
     "data": {
      "text/plain": [
       "Index(['Nb Quotidien Admis Hospitalisation', 'Nb Quotidien Admis Réanimation',\n",
       "       'Nb Quotidien Décès', 'Sexe'],\n",
       "      dtype='object')"
      ]
     },
     "execution_count": 16,
     "metadata": {},
     "output_type": "execute_result"
    }
   ],
   "source": [
    "data.columns"
   ]
  },
  {
   "cell_type": "code",
   "execution_count": 17,
   "metadata": {},
   "outputs": [],
   "source": [
    "data.columns = ['Hospitalisation', 'Réanimation',\n",
    "       'Décès', 'Sexe']"
   ]
  },
  {
   "cell_type": "code",
   "execution_count": 18,
   "metadata": {},
   "outputs": [
    {
     "data": {
      "text/plain": [
       "Index(['Hospitalisation', 'Réanimation', 'Décès', 'Sexe'], dtype='object')"
      ]
     },
     "execution_count": 18,
     "metadata": {},
     "output_type": "execute_result"
    }
   ],
   "source": [
    "data.columns"
   ]
  },
  {
   "cell_type": "code",
   "execution_count": null,
   "metadata": {},
   "outputs": [],
   "source": []
  },
  {
   "cell_type": "code",
   "execution_count": 28,
   "metadata": {},
   "outputs": [],
   "source": [
    "#la construction du modèle : y = décès et x = hospitalisations\n",
    "\n",
    "model = ols(formula = \"Décès ~ Hospitalisation\", data = data)"
   ]
  },
  {
   "cell_type": "code",
   "execution_count": 29,
   "metadata": {},
   "outputs": [],
   "source": [
    "# l'entrainement du modèle\n",
    "\n",
    "model_train = model.fit()"
   ]
  },
  {
   "cell_type": "code",
   "execution_count": 30,
   "metadata": {},
   "outputs": [
    {
     "data": {
      "text/html": [
       "<table class=\"simpletable\">\n",
       "<caption>OLS Regression Results</caption>\n",
       "<tr>\n",
       "  <th>Dep. Variable:</th>          <td>Décès</td>      <th>  R-squared:         </th> <td>   0.697</td> \n",
       "</tr>\n",
       "<tr>\n",
       "  <th>Model:</th>                   <td>OLS</td>       <th>  Adj. R-squared:    </th> <td>   0.697</td> \n",
       "</tr>\n",
       "<tr>\n",
       "  <th>Method:</th>             <td>Least Squares</td>  <th>  F-statistic:       </th> <td>5.586e+04</td>\n",
       "</tr>\n",
       "<tr>\n",
       "  <th>Date:</th>             <td>Wed, 18 Nov 2020</td> <th>  Prob (F-statistic):</th>  <td>  0.00</td>  \n",
       "</tr>\n",
       "<tr>\n",
       "  <th>Time:</th>                 <td>14:54:07</td>     <th>  Log-Likelihood:    </th> <td> -51612.</td> \n",
       "</tr>\n",
       "<tr>\n",
       "  <th>No. Observations:</th>      <td> 24240</td>      <th>  AIC:               </th> <td>1.032e+05</td>\n",
       "</tr>\n",
       "<tr>\n",
       "  <th>Df Residuals:</th>          <td> 24238</td>      <th>  BIC:               </th> <td>1.032e+05</td>\n",
       "</tr>\n",
       "<tr>\n",
       "  <th>Df Model:</th>              <td>     1</td>      <th>                     </th>     <td> </td>    \n",
       "</tr>\n",
       "<tr>\n",
       "  <th>Covariance Type:</th>      <td>nonrobust</td>    <th>                     </th>     <td> </td>    \n",
       "</tr>\n",
       "</table>\n",
       "<table class=\"simpletable\">\n",
       "<tr>\n",
       "         <td></td>            <th>coef</th>     <th>std err</th>      <th>t</th>      <th>P>|t|</th>  <th>[0.025</th>    <th>0.975]</th>  \n",
       "</tr>\n",
       "<tr>\n",
       "  <th>Intercept</th>       <td>    0.0474</td> <td>    0.014</td> <td>    3.375</td> <td> 0.001</td> <td>    0.020</td> <td>    0.075</td>\n",
       "</tr>\n",
       "<tr>\n",
       "  <th>Hospitalisation</th> <td>    0.1396</td> <td>    0.001</td> <td>  236.353</td> <td> 0.000</td> <td>    0.138</td> <td>    0.141</td>\n",
       "</tr>\n",
       "</table>\n",
       "<table class=\"simpletable\">\n",
       "<tr>\n",
       "  <th>Omnibus:</th>       <td>20482.799</td> <th>  Durbin-Watson:     </th>  <td>   1.819</td>  \n",
       "</tr>\n",
       "<tr>\n",
       "  <th>Prob(Omnibus):</th>  <td> 0.000</td>   <th>  Jarque-Bera (JB):  </th> <td>2926063.453</td>\n",
       "</tr>\n",
       "<tr>\n",
       "  <th>Skew:</th>           <td> 3.410</td>   <th>  Prob(JB):          </th>  <td>    0.00</td>  \n",
       "</tr>\n",
       "<tr>\n",
       "  <th>Kurtosis:</th>       <td>56.391</td>   <th>  Cond. No.          </th>  <td>    25.6</td>  \n",
       "</tr>\n",
       "</table><br/><br/>Notes:<br/>[1] Standard Errors assume that the covariance matrix of the errors is correctly specified."
      ],
      "text/plain": [
       "<class 'statsmodels.iolib.summary.Summary'>\n",
       "\"\"\"\n",
       "                            OLS Regression Results                            \n",
       "==============================================================================\n",
       "Dep. Variable:                  Décès   R-squared:                       0.697\n",
       "Model:                            OLS   Adj. R-squared:                  0.697\n",
       "Method:                 Least Squares   F-statistic:                 5.586e+04\n",
       "Date:                Wed, 18 Nov 2020   Prob (F-statistic):               0.00\n",
       "Time:                        14:54:07   Log-Likelihood:                -51612.\n",
       "No. Observations:               24240   AIC:                         1.032e+05\n",
       "Df Residuals:                   24238   BIC:                         1.032e+05\n",
       "Df Model:                           1                                         \n",
       "Covariance Type:            nonrobust                                         \n",
       "===================================================================================\n",
       "                      coef    std err          t      P>|t|      [0.025      0.975]\n",
       "-----------------------------------------------------------------------------------\n",
       "Intercept           0.0474      0.014      3.375      0.001       0.020       0.075\n",
       "Hospitalisation     0.1396      0.001    236.353      0.000       0.138       0.141\n",
       "==============================================================================\n",
       "Omnibus:                    20482.799   Durbin-Watson:                   1.819\n",
       "Prob(Omnibus):                  0.000   Jarque-Bera (JB):          2926063.453\n",
       "Skew:                           3.410   Prob(JB):                         0.00\n",
       "Kurtosis:                      56.391   Cond. No.                         25.6\n",
       "==============================================================================\n",
       "\n",
       "Notes:\n",
       "[1] Standard Errors assume that the covariance matrix of the errors is correctly specified.\n",
       "\"\"\""
      ]
     },
     "execution_count": 30,
     "metadata": {},
     "output_type": "execute_result"
    }
   ],
   "source": [
    "model_train.summary()"
   ]
  },
  {
   "cell_type": "code",
   "execution_count": 31,
   "metadata": {},
   "outputs": [],
   "source": [
    "# R2 = 0,69 dit que 69 % de la variation des décès est expliquée par l'hospitalisation."
   ]
  },
  {
   "cell_type": "code",
   "execution_count": 32,
   "metadata": {},
   "outputs": [],
   "source": [
    "# l'intercept dit que s'il y a zéro hospitalisation, les décès augmentent de 0,047 "
   ]
  },
  {
   "cell_type": "code",
   "execution_count": 34,
   "metadata": {},
   "outputs": [],
   "source": [
    "# 'hospitalisation' signifie que les décès augmentent de 1 lorsque les hospitalisations augmentent de 0,14"
   ]
  },
  {
   "cell_type": "code",
   "execution_count": null,
   "metadata": {},
   "outputs": [],
   "source": []
  }
 ],
 "metadata": {
  "kernelspec": {
   "display_name": "Python 3",
   "language": "python",
   "name": "python3"
  },
  "language_info": {
   "codemirror_mode": {
    "name": "ipython",
    "version": 3
   },
   "file_extension": ".py",
   "mimetype": "text/x-python",
   "name": "python",
   "nbconvert_exporter": "python",
   "pygments_lexer": "ipython3",
   "version": "3.8.5"
  }
 },
 "nbformat": 4,
 "nbformat_minor": 4
}
