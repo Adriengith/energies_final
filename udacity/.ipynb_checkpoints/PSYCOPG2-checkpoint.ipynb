{
 "cells": [
  {
   "cell_type": "code",
   "execution_count": 1,
   "metadata": {},
   "outputs": [],
   "source": [
    "#TUTO psycopg2\n"
   ]
  },
  {
   "cell_type": "code",
   "execution_count": 2,
   "metadata": {},
   "outputs": [],
   "source": [
    "import psycopg2\n",
    "from psycopg2 import OperationalError as e"
   ]
  },
  {
   "cell_type": "code",
   "execution_count": 3,
   "metadata": {},
   "outputs": [],
   "source": [
    "#connecting local DB\n",
    "def connection_db(db, user,password, host, port):\n",
    "    try:\n",
    "        connection = psycopg2.connect(\n",
    "        database = db,\n",
    "        user = user,\n",
    "        password = password,\n",
    "        host = host,\n",
    "        port = port)\n",
    "        print(f'successfully connected to {db}')\n",
    "    except e: \n",
    "        print(f'could not connect to the database {db} provided')\n",
    "    return connection"
   ]
  },
  {
   "cell_type": "code",
   "execution_count": 4,
   "metadata": {},
   "outputs": [
    {
     "name": "stdout",
     "output_type": "stream",
     "text": [
      "successfully connected to psycopg2\n"
     ]
    }
   ],
   "source": [
    "#calling function\n",
    "conn = connection_db('psycopg2','sandrinevuachet','postgres','localhost',5432)\n",
    "cursor = conn.cursor()"
   ]
  },
  {
   "cell_type": "code",
   "execution_count": 5,
   "metadata": {},
   "outputs": [],
   "source": [
    "from psycopg2 import OperationalError as e\n",
    "#Creating tables \n",
    "def create_tb():\n",
    "    try:\n",
    "        table1 = \"\"\"CREATE TABLE IF NOT EXISTS casinos(\n",
    "        id SERIAL PRIMARY KEY,\n",
    "        name text UNIQUE\n",
    "        );\"\"\"\n",
    "        table2 = \"\"\"CREATE TABLE IF NOT EXISTS croupiers(\n",
    "        id SERIAL PRIMARY KEY,\n",
    "        name text UNIQUE,\n",
    "        casino_id integer, \n",
    "        FOREIGN KEY(casino_id) REFERENCES casinos(id)\n",
    "        );\"\"\"\n",
    "        cursor.execute(table1)\n",
    "        cursor.execute(table2)\n",
    "        conn.commit()\n",
    "        print('well done !')\n",
    "    except e : \n",
    "        print('Error, try again')\n",
    "    "
   ]
  },
  {
   "cell_type": "code",
   "execution_count": 6,
   "metadata": {},
   "outputs": [
    {
     "name": "stdout",
     "output_type": "stream",
     "text": [
      "well done !\n"
     ]
    }
   ],
   "source": [
    "#calling function\n",
    "create_tb()"
   ]
  },
  {
   "cell_type": "code",
   "execution_count": 7,
   "metadata": {},
   "outputs": [],
   "source": [
    "#inserting data\n",
    "from psycopg2 import OperationalError as e\n",
    "def insertion(name):\n",
    "    try:\n",
    "        table1 = \"\"\"INSERT INTO casinos (name) VALUES(%s);\"\"\"\n",
    "        cursor.execute(table1,(name,))\n",
    "        conn.commit()\n",
    "        print('successful')\n",
    "    except e : \n",
    "        print(\"error, try again !\")"
   ]
  },
  {
   "cell_type": "code",
   "execution_count": 8,
   "metadata": {},
   "outputs": [
    {
     "name": "stdout",
     "output_type": "stream",
     "text": [
      "successful\n"
     ]
    }
   ],
   "source": [
    "#calling function\n",
    "insertion('Annecy')"
   ]
  },
  {
   "cell_type": "code",
   "execution_count": 15,
   "metadata": {},
   "outputs": [],
   "source": [
    "#inserting data\n",
    "from psycopg2 import OperationalError as e\n",
    "def insertion2(id, name):\n",
    "    try:\n",
    "        table1 = \"\"\"INSERT INTO croupiers (id,name) VALUES(%s,%s);\"\"\"\n",
    "        cursor.execute(table1,(id,name))\n",
    "        print('successful')\n",
    "    except psycopg2.Error as error:\n",
    "        print(f\"error, try again !{error.args}\")\n",
    "    finally:\n",
    "        conn.commit()"
   ]
  },
  {
   "cell_type": "code",
   "execution_count": 16,
   "metadata": {},
   "outputs": [
    {
     "name": "stdout",
     "output_type": "stream",
     "text": [
      "error, try again !('current transaction is aborted, commands ignored until end of transaction block\\n',)\n"
     ]
    }
   ],
   "source": [
    "#calling function\n",
    "insertion2(1,'Muriel')"
   ]
  },
  {
   "cell_type": "code",
   "execution_count": 20,
   "metadata": {},
   "outputs": [],
   "source": [
    "#reading data from local db\n",
    "def read():\n",
    "    #conn.autocommit = True pas besoin pour le read\n",
    "    try:\n",
    "        get = \"\"\"SELECT * FROM casinos;\"\"\"\n",
    "        cursor.execute(get)\n",
    "    except e:\n",
    "        print('try again!')\n",
    "    return cursor.fetchall()\n",
    "    #ou return cusor.fetchone() si un seul resultat demandé"
   ]
  },
  {
   "cell_type": "code",
   "execution_count": 19,
   "metadata": {},
   "outputs": [
    {
     "data": {
      "text/plain": [
       "[(1, 'Annecy')]"
      ]
     },
     "execution_count": 19,
     "metadata": {},
     "output_type": "execute_result"
    }
   ],
   "source": [
    "# calling function\n",
    "read()"
   ]
  },
  {
   "cell_type": "code",
   "execution_count": 21,
   "metadata": {},
   "outputs": [
    {
     "ename": "IndentationError",
     "evalue": "expected an indented block (<ipython-input-21-b4f9473aa06a>, line 5)",
     "output_type": "error",
     "traceback": [
      "\u001b[0;36m  File \u001b[0;32m\"<ipython-input-21-b4f9473aa06a>\"\u001b[0;36m, line \u001b[0;32m5\u001b[0m\n\u001b[0;31m    except e:\u001b[0m\n\u001b[0m    ^\u001b[0m\n\u001b[0;31mIndentationError\u001b[0m\u001b[0;31m:\u001b[0m expected an indented block\n"
     ]
    }
   ],
   "source": [
    "#updating data\n",
    "def update(column,value,index):\n",
    "    try:\n",
    "        query = \"\"\"UPDATE casinos SET %s = %s WHERE id = %s\"\"\"\n",
    "        cursor.execute(query % (column,),(value,index))\n",
    "    except e:\n",
    "        "
   ]
  },
  {
   "cell_type": "code",
   "execution_count": 22,
   "metadata": {},
   "outputs": [
    {
     "ename": "NameError",
     "evalue": "name 'update' is not defined",
     "output_type": "error",
     "traceback": [
      "\u001b[0;31m---------------------------------------------------------------------------\u001b[0m",
      "\u001b[0;31mNameError\u001b[0m                                 Traceback (most recent call last)",
      "\u001b[0;32m<ipython-input-22-d5e8cc25f18f>\u001b[0m in \u001b[0;36m<module>\u001b[0;34m\u001b[0m\n\u001b[1;32m      1\u001b[0m \u001b[0;31m#calling function\u001b[0m\u001b[0;34m\u001b[0m\u001b[0;34m\u001b[0m\u001b[0;34m\u001b[0m\u001b[0m\n\u001b[0;32m----> 2\u001b[0;31m \u001b[0mupdate\u001b[0m\u001b[0;34m(\u001b[0m\u001b[0;34m)\u001b[0m\u001b[0;34m\u001b[0m\u001b[0;34m\u001b[0m\u001b[0m\n\u001b[0m",
      "\u001b[0;31mNameError\u001b[0m: name 'update' is not defined"
     ]
    }
   ],
   "source": [
    "#calling function\n",
    "update()"
   ]
  },
  {
   "cell_type": "code",
   "execution_count": null,
   "metadata": {},
   "outputs": [],
   "source": []
  }
 ],
 "metadata": {
  "kernelspec": {
   "display_name": "Python 3",
   "language": "python",
   "name": "python3"
  },
  "language_info": {
   "codemirror_mode": {
    "name": "ipython",
    "version": 3
   },
   "file_extension": ".py",
   "mimetype": "text/x-python",
   "name": "python",
   "nbconvert_exporter": "python",
   "pygments_lexer": "ipython3",
   "version": "3.8.5"
  }
 },
 "nbformat": 4,
 "nbformat_minor": 4
}
