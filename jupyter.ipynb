{
 "cells": [
  {
   "cell_type": "markdown",
   "metadata": {},
   "source": [
    "# import"
   ]
  },
  {
   "cell_type": "code",
   "execution_count": 130,
   "metadata": {},
   "outputs": [],
   "source": [
    "import pandas as pd\n",
    "from sqlalchemy import create_engine\n"
   ]
  },
  {
   "cell_type": "code",
   "execution_count": 131,
   "metadata": {},
   "outputs": [],
   "source": [
    "#df = pd.read_csv('', sep = ',')\n",
    "#df = pd.read_csv('data/donnees-electricite-2008a2017/donnees_elec_2017.csv', sep = ';', encoding='latin-1')\n",
    "#print(len(df))\n",
    "#df.iloc[52272,:]\n",
    "\n",
    "#for nb in range(0,2,1):\n",
    "    #value = df.iloc[nb,:]\n",
    "    #print(value[4])"
   ]
  },
  {
   "cell_type": "markdown",
   "metadata": {},
   "source": [
    "# READING CSV #donnees_elec_adresse & SETTING COLUMNS & CONCENAT"
   ]
  },
  {
   "cell_type": "code",
   "execution_count": 160,
   "metadata": {},
   "outputs": [],
   "source": [
    "addresse_2018 = './data/donnees_elec_adresse_2018.csv'\n",
    "addresse_2019 = './data/donnees_elec_adresse_2019.csv'"
   ]
  },
  {
   "cell_type": "code",
   "execution_count": 133,
   "metadata": {},
   "outputs": [
    {
     "data": {
      "text/plain": [
       "Index(['OPERATEUR', 'ANNEE', 'FILIERE', 'CODE_IRIS', 'ADRESSE', 'NOM_COMMUNE',\n",
       "       'CODE_GRAND_SECTEUR', 'CONSO', 'PDL'],\n",
       "      dtype='object')"
      ]
     },
     "execution_count": 133,
     "metadata": {},
     "output_type": "execute_result"
    }
   ],
   "source": [
    "addresse_2018 = pd.read_csv(addresse_2018, sep=';')\n",
    "addresse_2018.head(2)\n",
    "addresse_2018.columns"
   ]
  },
  {
   "cell_type": "code",
   "execution_count": 134,
   "metadata": {},
   "outputs": [
    {
     "data": {
      "text/plain": [
       "Index(['OPERATEUR', 'ANNEE', 'FILIERE', 'CODE_IRIS', 'NOM_COMMUNE', 'ADRESSE',\n",
       "       'CODE_GRAND_SECTEUR', 'CONSO', 'PDL'],\n",
       "      dtype='object')"
      ]
     },
     "execution_count": 134,
     "metadata": {},
     "output_type": "execute_result"
    }
   ],
   "source": [
    "addresse_2019 = pd.read_csv(addresse_2019, sep=';')\n",
    "addresse_2019.head(2)\n",
    "addresse_2019. columns"
   ]
  },
  {
   "cell_type": "code",
   "execution_count": 135,
   "metadata": {},
   "outputs": [
    {
     "data": {
      "text/plain": [
       "Index(['OPERATEUR', 'ANNEE', 'FILIERE', 'CODE_IRIS', 'ADRESSE', 'NOM_COMMUNE',\n",
       "       'CODE_GRAND_SECTEUR', 'CONSO', 'PDL'],\n",
       "      dtype='object')"
      ]
     },
     "execution_count": 135,
     "metadata": {},
     "output_type": "execute_result"
    }
   ],
   "source": [
    "#setting columns in order \n",
    "\n",
    "addresse_2019  = addresse_2019[['OPERATEUR', 'ANNEE', 'FILIERE', 'CODE_IRIS','ADRESSE', 'NOM_COMMUNE',\n",
    "       'CODE_GRAND_SECTEUR', 'CONSO', 'PDL']]\n",
    "\n",
    "addresse_2019.columns"
   ]
  },
  {
   "cell_type": "code",
   "execution_count": 152,
   "metadata": {},
   "outputs": [
    {
     "data": {
      "text/html": [
       "<div>\n",
       "<style scoped>\n",
       "    .dataframe tbody tr th:only-of-type {\n",
       "        vertical-align: middle;\n",
       "    }\n",
       "\n",
       "    .dataframe tbody tr th {\n",
       "        vertical-align: top;\n",
       "    }\n",
       "\n",
       "    .dataframe thead th {\n",
       "        text-align: right;\n",
       "    }\n",
       "</style>\n",
       "<table border=\"1\" class=\"dataframe\">\n",
       "  <thead>\n",
       "    <tr style=\"text-align: right;\">\n",
       "      <th></th>\n",
       "      <th>OPERATEUR</th>\n",
       "      <th>ANNEE</th>\n",
       "      <th>FILIERE</th>\n",
       "      <th>CODE_IRIS</th>\n",
       "      <th>ADRESSE</th>\n",
       "      <th>NOM_COMMUNE</th>\n",
       "      <th>CODE_GRAND_SECTEUR</th>\n",
       "      <th>CONSO</th>\n",
       "      <th>PDL</th>\n",
       "    </tr>\n",
       "  </thead>\n",
       "  <tbody>\n",
       "    <tr>\n",
       "      <th>573804</th>\n",
       "      <td>Enedis</td>\n",
       "      <td>2019</td>\n",
       "      <td>E</td>\n",
       "      <td>956800114</td>\n",
       "      <td>3 ALLEE DE DERRIERE LES MURS</td>\n",
       "      <td>VILLIERS-LE-BEL</td>\n",
       "      <td>R</td>\n",
       "      <td>9,594914e+01</td>\n",
       "      <td>41</td>\n",
       "    </tr>\n",
       "    <tr>\n",
       "      <th>573805</th>\n",
       "      <td>Enedis</td>\n",
       "      <td>2019</td>\n",
       "      <td>E</td>\n",
       "      <td>956800114</td>\n",
       "      <td>4 ALLEE DE DERRIERE LES MURS</td>\n",
       "      <td>VILLIERS-LE-BEL</td>\n",
       "      <td>R</td>\n",
       "      <td>3,735195e+01</td>\n",
       "      <td>18</td>\n",
       "    </tr>\n",
       "    <tr>\n",
       "      <th>573806</th>\n",
       "      <td>Enedis</td>\n",
       "      <td>2019</td>\n",
       "      <td>E</td>\n",
       "      <td>956800114</td>\n",
       "      <td>2 ALLEE DE DERRIERE LES MURS</td>\n",
       "      <td>VILLIERS-LE-BEL</td>\n",
       "      <td>R</td>\n",
       "      <td>5,829190e+01</td>\n",
       "      <td>43</td>\n",
       "    </tr>\n",
       "    <tr>\n",
       "      <th>573807</th>\n",
       "      <td>Enedis</td>\n",
       "      <td>2019</td>\n",
       "      <td>E</td>\n",
       "      <td>956820000</td>\n",
       "      <td>15 RUE GEORGES POMPIDOU</td>\n",
       "      <td>VILLIERS-LE-SEC</td>\n",
       "      <td>R</td>\n",
       "      <td>1,031971e+02</td>\n",
       "      <td>11</td>\n",
       "    </tr>\n",
       "    <tr>\n",
       "      <th>573808</th>\n",
       "      <td>Enedis</td>\n",
       "      <td>2019</td>\n",
       "      <td>E</td>\n",
       "      <td>956820000</td>\n",
       "      <td>8 RUE GEORGES POMPIDOU</td>\n",
       "      <td>VILLIERS-LE-SEC</td>\n",
       "      <td>T</td>\n",
       "      <td>2,233182e+01</td>\n",
       "      <td>1</td>\n",
       "    </tr>\n",
       "  </tbody>\n",
       "</table>\n",
       "</div>"
      ],
      "text/plain": [
       "       OPERATEUR  ANNEE FILIERE  CODE_IRIS                       ADRESSE  \\\n",
       "573804    Enedis   2019       E  956800114  3 ALLEE DE DERRIERE LES MURS   \n",
       "573805    Enedis   2019       E  956800114  4 ALLEE DE DERRIERE LES MURS   \n",
       "573806    Enedis   2019       E  956800114  2 ALLEE DE DERRIERE LES MURS   \n",
       "573807    Enedis   2019       E  956820000       15 RUE GEORGES POMPIDOU   \n",
       "573808    Enedis   2019       E  956820000        8 RUE GEORGES POMPIDOU   \n",
       "\n",
       "            NOM_COMMUNE CODE_GRAND_SECTEUR         CONSO  PDL  \n",
       "573804  VILLIERS-LE-BEL                  R  9,594914e+01   41  \n",
       "573805  VILLIERS-LE-BEL                  R  3,735195e+01   18  \n",
       "573806  VILLIERS-LE-BEL                  R  5,829190e+01   43  \n",
       "573807  VILLIERS-LE-SEC                  R  1,031971e+02   11  \n",
       "573808  VILLIERS-LE-SEC                  T  2,233182e+01    1  "
      ]
     },
     "execution_count": 152,
     "metadata": {},
     "output_type": "execute_result"
    }
   ],
   "source": [
    "elec_adresse = [addresse_2018, addresse_2019]\n",
    "result1 = pd.concat(elec_adresse)\n",
    "result1.tail()"
   ]
  },
  {
   "cell_type": "code",
   "execution_count": 153,
   "metadata": {},
   "outputs": [
    {
     "data": {
      "text/plain": [
       "(1132768, 9)"
      ]
     },
     "execution_count": 153,
     "metadata": {},
     "output_type": "execute_result"
    }
   ],
   "source": [
    "result1.shape"
   ]
  },
  {
   "cell_type": "markdown",
   "metadata": {},
   "source": [
    "# #cleaning"
   ]
  },
  {
   "cell_type": "code",
   "execution_count": null,
   "metadata": {},
   "outputs": [],
   "source": []
  },
  {
   "cell_type": "markdown",
   "metadata": {},
   "source": [
    "# READING CSV #donnees_elec_epci & SETTING COLUMNS & CONCENAT"
   ]
  },
  {
   "cell_type": "code",
   "execution_count": 161,
   "metadata": {},
   "outputs": [],
   "source": [
    "epci_2018 = './data/donnees_elec_epci_2018.csv'\n",
    "epci_2019 = './data/donnees_elec_epci_2019.csv'"
   ]
  },
  {
   "cell_type": "code",
   "execution_count": 137,
   "metadata": {},
   "outputs": [
    {
     "data": {
      "text/plain": [
       "Index(['OPERATEUR', 'ANNEE', 'FILIERE', 'CODE_EPCI',\n",
       "       'CODE_CATEGORIE_CONSOMMATION', 'CODE_SECTEUR_NAF2',\n",
       "       'CODE_GRAND_SECTEUR', 'CONSO', 'PDL', 'INDQUAL', 'NB_IRIS_MASQUES',\n",
       "       'THERMOR', 'PART'],\n",
       "      dtype='object')"
      ]
     },
     "execution_count": 137,
     "metadata": {},
     "output_type": "execute_result"
    }
   ],
   "source": [
    "epci_2018 = pd.read_csv(epci_2018, sep=';')\n",
    "epci_2018.head(2)\n",
    "epci_2018.columns"
   ]
  },
  {
   "cell_type": "code",
   "execution_count": 138,
   "metadata": {},
   "outputs": [
    {
     "data": {
      "text/plain": [
       "Index(['OPERATEUR', 'ANNEE', 'FILIERE', 'CODE_EPCI',\n",
       "       'CODE_CATEGORIE_CONSOMMATION', 'CODE_SECTEUR_NAF2',\n",
       "       'CODE_GRAND_SECTEUR', 'CONSO', 'PDL', 'INDQUAL', 'THERMOR', 'PART',\n",
       "       'NB_IRIS_MASQUES'],\n",
       "      dtype='object')"
      ]
     },
     "execution_count": 138,
     "metadata": {},
     "output_type": "execute_result"
    }
   ],
   "source": [
    "epci_2019 = pd.read_csv(epci_2019, sep=';')\n",
    "epci_2019.head(2)\n",
    "epci_2019.columns"
   ]
  },
  {
   "cell_type": "code",
   "execution_count": 139,
   "metadata": {},
   "outputs": [
    {
     "data": {
      "text/plain": [
       "Index(['OPERATEUR', 'ANNEE', 'FILIERE', 'CODE_EPCI',\n",
       "       'CODE_CATEGORIE_CONSOMMATION', 'CODE_SECTEUR_NAF2',\n",
       "       'CODE_GRAND_SECTEUR', 'CONSO', 'PDL', 'INDQUAL', 'NB_IRIS_MASQUES',\n",
       "       'THERMOR', 'PART'],\n",
       "      dtype='object')"
      ]
     },
     "execution_count": 139,
     "metadata": {},
     "output_type": "execute_result"
    }
   ],
   "source": [
    "#setting columns in order \n",
    "\n",
    "epci_2019  = epci_2019[['OPERATEUR', 'ANNEE', 'FILIERE', 'CODE_EPCI',\n",
    "       'CODE_CATEGORIE_CONSOMMATION', 'CODE_SECTEUR_NAF2',\n",
    "       'CODE_GRAND_SECTEUR', 'CONSO', 'PDL', 'INDQUAL', 'NB_IRIS_MASQUES','THERMOR', 'PART'\n",
    "       ]]\n",
    "\n",
    "epci_2019.columns"
   ]
  },
  {
   "cell_type": "code",
   "execution_count": 154,
   "metadata": {},
   "outputs": [
    {
     "data": {
      "text/html": [
       "<div>\n",
       "<style scoped>\n",
       "    .dataframe tbody tr th:only-of-type {\n",
       "        vertical-align: middle;\n",
       "    }\n",
       "\n",
       "    .dataframe tbody tr th {\n",
       "        vertical-align: top;\n",
       "    }\n",
       "\n",
       "    .dataframe thead th {\n",
       "        text-align: right;\n",
       "    }\n",
       "</style>\n",
       "<table border=\"1\" class=\"dataframe\">\n",
       "  <thead>\n",
       "    <tr style=\"text-align: right;\">\n",
       "      <th></th>\n",
       "      <th>OPERATEUR</th>\n",
       "      <th>ANNEE</th>\n",
       "      <th>FILIERE</th>\n",
       "      <th>CODE_EPCI</th>\n",
       "      <th>CODE_CATEGORIE_CONSOMMATION</th>\n",
       "      <th>CODE_SECTEUR_NAF2</th>\n",
       "      <th>CODE_GRAND_SECTEUR</th>\n",
       "      <th>CONSO</th>\n",
       "      <th>PDL</th>\n",
       "      <th>INDQUAL</th>\n",
       "      <th>NB_IRIS_MASQUES</th>\n",
       "      <th>THERMOR</th>\n",
       "      <th>PART</th>\n",
       "    </tr>\n",
       "  </thead>\n",
       "  <tbody>\n",
       "    <tr>\n",
       "      <th>0</th>\n",
       "      <td>Enedis</td>\n",
       "      <td>2018</td>\n",
       "      <td>E</td>\n",
       "      <td>200000172</td>\n",
       "      <td>PRO</td>\n",
       "      <td>NaN</td>\n",
       "      <td>A</td>\n",
       "      <td>589,3950792135486</td>\n",
       "      <td>34</td>\n",
       "      <td>NaN</td>\n",
       "      <td>2</td>\n",
       "      <td>NaN</td>\n",
       "      <td>NaN</td>\n",
       "    </tr>\n",
       "    <tr>\n",
       "      <th>1</th>\n",
       "      <td>Enedis</td>\n",
       "      <td>2018</td>\n",
       "      <td>E</td>\n",
       "      <td>200000172</td>\n",
       "      <td>ENT</td>\n",
       "      <td>1.0</td>\n",
       "      <td>A</td>\n",
       "      <td>52,78783333333333</td>\n",
       "      <td>1</td>\n",
       "      <td>0,99999</td>\n",
       "      <td>0</td>\n",
       "      <td>NaN</td>\n",
       "      <td>NaN</td>\n",
       "    </tr>\n",
       "    <tr>\n",
       "      <th>2</th>\n",
       "      <td>Enedis</td>\n",
       "      <td>2018</td>\n",
       "      <td>E</td>\n",
       "      <td>200000172</td>\n",
       "      <td>ENT</td>\n",
       "      <td>2.0</td>\n",
       "      <td>A</td>\n",
       "      <td>,5513645063194319</td>\n",
       "      <td>1</td>\n",
       "      <td>0,80164</td>\n",
       "      <td>0</td>\n",
       "      <td>NaN</td>\n",
       "      <td>NaN</td>\n",
       "    </tr>\n",
       "    <tr>\n",
       "      <th>3</th>\n",
       "      <td>Enedis</td>\n",
       "      <td>2018</td>\n",
       "      <td>E</td>\n",
       "      <td>200000172</td>\n",
       "      <td>PRO</td>\n",
       "      <td>NaN</td>\n",
       "      <td>I</td>\n",
       "      <td>1127,261042851688</td>\n",
       "      <td>89</td>\n",
       "      <td>0,34929</td>\n",
       "      <td>0</td>\n",
       "      <td>NaN</td>\n",
       "      <td>NaN</td>\n",
       "    </tr>\n",
       "    <tr>\n",
       "      <th>4</th>\n",
       "      <td>Enedis</td>\n",
       "      <td>2018</td>\n",
       "      <td>E</td>\n",
       "      <td>200000172</td>\n",
       "      <td>ENT</td>\n",
       "      <td>8.0</td>\n",
       "      <td>I</td>\n",
       "      <td>25,921666666666666</td>\n",
       "      <td>1</td>\n",
       "      <td>0,99999</td>\n",
       "      <td>0</td>\n",
       "      <td>NaN</td>\n",
       "      <td>NaN</td>\n",
       "    </tr>\n",
       "  </tbody>\n",
       "</table>\n",
       "</div>"
      ],
      "text/plain": [
       "  OPERATEUR  ANNEE FILIERE  CODE_EPCI CODE_CATEGORIE_CONSOMMATION  \\\n",
       "0    Enedis   2018       E  200000172                         PRO   \n",
       "1    Enedis   2018       E  200000172                         ENT   \n",
       "2    Enedis   2018       E  200000172                         ENT   \n",
       "3    Enedis   2018       E  200000172                         PRO   \n",
       "4    Enedis   2018       E  200000172                         ENT   \n",
       "\n",
       "   CODE_SECTEUR_NAF2 CODE_GRAND_SECTEUR               CONSO PDL  INDQUAL  \\\n",
       "0                NaN                  A   589,3950792135486  34      NaN   \n",
       "1                1.0                  A   52,78783333333333   1  0,99999   \n",
       "2                2.0                  A   ,5513645063194319   1  0,80164   \n",
       "3                NaN                  I   1127,261042851688  89  0,34929   \n",
       "4                8.0                  I  25,921666666666666   1  0,99999   \n",
       "\n",
       "   NB_IRIS_MASQUES THERMOR PART  \n",
       "0                2     NaN  NaN  \n",
       "1                0     NaN  NaN  \n",
       "2                0     NaN  NaN  \n",
       "3                0     NaN  NaN  \n",
       "4                0     NaN  NaN  "
      ]
     },
     "execution_count": 154,
     "metadata": {},
     "output_type": "execute_result"
    }
   ],
   "source": [
    "elec_epci = [epci_2018, epci_2019]\n",
    "result2 = pd.concat(elec_epci)\n",
    "result2.head()"
   ]
  },
  {
   "cell_type": "code",
   "execution_count": 155,
   "metadata": {},
   "outputs": [
    {
     "data": {
      "text/plain": [
       "(103830, 13)"
      ]
     },
     "execution_count": 155,
     "metadata": {},
     "output_type": "execute_result"
    }
   ],
   "source": [
    "result2.shape"
   ]
  },
  {
   "cell_type": "markdown",
   "metadata": {},
   "source": [
    "# #cleaning"
   ]
  },
  {
   "cell_type": "code",
   "execution_count": null,
   "metadata": {},
   "outputs": [],
   "source": []
  },
  {
   "cell_type": "markdown",
   "metadata": {},
   "source": [
    "# READING CSV #donnees_elec_iris & SETTING COLUMNS & CONCENAT"
   ]
  },
  {
   "cell_type": "code",
   "execution_count": 162,
   "metadata": {},
   "outputs": [],
   "source": [
    "iris_2018 = './data/donnees_elec_iris_2018.csv'\n",
    "iris_2019 = './data/donnees_elec_iris_2019.csv'"
   ]
  },
  {
   "cell_type": "code",
   "execution_count": 141,
   "metadata": {},
   "outputs": [
    {
     "data": {
      "text/plain": [
       "Index(['OPERATEUR', 'ANNEE', 'FILIERE', 'CODE_IRIS',\n",
       "       'CODE_CATEGORIE_CONSOMMATION', 'CODE_SECTEUR_NAF2',\n",
       "       'CODE_GRAND_SECTEUR', 'CONSO', 'PDL', 'INDQUAL', 'THERMOR', 'PART'],\n",
       "      dtype='object')"
      ]
     },
     "execution_count": 141,
     "metadata": {},
     "output_type": "execute_result"
    }
   ],
   "source": [
    "iris_2018 = pd.read_csv(iris_2018, sep=';')\n",
    "iris_2018.head(2)\n",
    "iris_2018.columns"
   ]
  },
  {
   "cell_type": "code",
   "execution_count": 142,
   "metadata": {},
   "outputs": [
    {
     "data": {
      "text/plain": [
       "Index(['OPERATEUR', 'ANNEE', 'FILIERE', 'CODE_IRIS',\n",
       "       'CODE_CATEGORIE_CONSOMMATION', 'CODE_SECTEUR_NAF2',\n",
       "       'CODE_GRAND_SECTEUR', 'CONSO', 'PDL', 'INDQUAL', 'THERMOR', 'PART'],\n",
       "      dtype='object')"
      ]
     },
     "execution_count": 142,
     "metadata": {},
     "output_type": "execute_result"
    }
   ],
   "source": [
    "iris_2019 = pd.read_csv(iris_2019, sep=';')\n",
    "iris_2019.head(2)\n",
    "iris_2019.columns"
   ]
  },
  {
   "cell_type": "code",
   "execution_count": 143,
   "metadata": {},
   "outputs": [],
   "source": [
    "#setting columns in order \n"
   ]
  },
  {
   "cell_type": "code",
   "execution_count": 156,
   "metadata": {},
   "outputs": [
    {
     "data": {
      "text/html": [
       "<div>\n",
       "<style scoped>\n",
       "    .dataframe tbody tr th:only-of-type {\n",
       "        vertical-align: middle;\n",
       "    }\n",
       "\n",
       "    .dataframe tbody tr th {\n",
       "        vertical-align: top;\n",
       "    }\n",
       "\n",
       "    .dataframe thead th {\n",
       "        text-align: right;\n",
       "    }\n",
       "</style>\n",
       "<table border=\"1\" class=\"dataframe\">\n",
       "  <thead>\n",
       "    <tr style=\"text-align: right;\">\n",
       "      <th></th>\n",
       "      <th>OPERATEUR</th>\n",
       "      <th>ANNEE</th>\n",
       "      <th>FILIERE</th>\n",
       "      <th>CODE_IRIS</th>\n",
       "      <th>CODE_CATEGORIE_CONSOMMATION</th>\n",
       "      <th>CODE_SECTEUR_NAF2</th>\n",
       "      <th>CODE_GRAND_SECTEUR</th>\n",
       "      <th>CONSO</th>\n",
       "      <th>PDL</th>\n",
       "      <th>INDQUAL</th>\n",
       "      <th>THERMOR</th>\n",
       "      <th>PART</th>\n",
       "    </tr>\n",
       "  </thead>\n",
       "  <tbody>\n",
       "    <tr>\n",
       "      <th>0</th>\n",
       "      <td>Enedis</td>\n",
       "      <td>2018</td>\n",
       "      <td>E</td>\n",
       "      <td>010010000</td>\n",
       "      <td>PRO</td>\n",
       "      <td>NaN</td>\n",
       "      <td>A</td>\n",
       "      <td>271,25121416552786</td>\n",
       "      <td>9</td>\n",
       "      <td>0,45104</td>\n",
       "      <td>NaN</td>\n",
       "      <td>NaN</td>\n",
       "    </tr>\n",
       "    <tr>\n",
       "      <th>1</th>\n",
       "      <td>Enedis</td>\n",
       "      <td>2018</td>\n",
       "      <td>E</td>\n",
       "      <td>010010000</td>\n",
       "      <td>PRO</td>\n",
       "      <td>NaN</td>\n",
       "      <td>I</td>\n",
       "      <td>s</td>\n",
       "      <td>s</td>\n",
       "      <td>NaN</td>\n",
       "      <td>NaN</td>\n",
       "      <td>NaN</td>\n",
       "    </tr>\n",
       "    <tr>\n",
       "      <th>2</th>\n",
       "      <td>Enedis</td>\n",
       "      <td>2018</td>\n",
       "      <td>E</td>\n",
       "      <td>010010000</td>\n",
       "      <td>ENT</td>\n",
       "      <td>10.0</td>\n",
       "      <td>I</td>\n",
       "      <td>46,63828065665188</td>\n",
       "      <td>1</td>\n",
       "      <td>0,91765</td>\n",
       "      <td>NaN</td>\n",
       "      <td>NaN</td>\n",
       "    </tr>\n",
       "    <tr>\n",
       "      <th>3</th>\n",
       "      <td>Enedis</td>\n",
       "      <td>2018</td>\n",
       "      <td>E</td>\n",
       "      <td>010010000</td>\n",
       "      <td>RES</td>\n",
       "      <td>NaN</td>\n",
       "      <td>R</td>\n",
       "      <td>2474,6881391654245</td>\n",
       "      <td>346</td>\n",
       "      <td>0,4933</td>\n",
       "      <td>NaN</td>\n",
       "      <td>NaN</td>\n",
       "    </tr>\n",
       "    <tr>\n",
       "      <th>4</th>\n",
       "      <td>Enedis</td>\n",
       "      <td>2018</td>\n",
       "      <td>E</td>\n",
       "      <td>010010000</td>\n",
       "      <td>PRO</td>\n",
       "      <td>NaN</td>\n",
       "      <td>T</td>\n",
       "      <td>186,81175014015294</td>\n",
       "      <td>17</td>\n",
       "      <td>0,54212</td>\n",
       "      <td>NaN</td>\n",
       "      <td>NaN</td>\n",
       "    </tr>\n",
       "  </tbody>\n",
       "</table>\n",
       "</div>"
      ],
      "text/plain": [
       "  OPERATEUR  ANNEE FILIERE  CODE_IRIS CODE_CATEGORIE_CONSOMMATION  \\\n",
       "0    Enedis   2018       E  010010000                         PRO   \n",
       "1    Enedis   2018       E  010010000                         PRO   \n",
       "2    Enedis   2018       E  010010000                         ENT   \n",
       "3    Enedis   2018       E  010010000                         RES   \n",
       "4    Enedis   2018       E  010010000                         PRO   \n",
       "\n",
       "   CODE_SECTEUR_NAF2 CODE_GRAND_SECTEUR               CONSO  PDL  INDQUAL  \\\n",
       "0                NaN                  A  271,25121416552786    9  0,45104   \n",
       "1                NaN                  I                   s    s      NaN   \n",
       "2               10.0                  I   46,63828065665188    1  0,91765   \n",
       "3                NaN                  R  2474,6881391654245  346   0,4933   \n",
       "4                NaN                  T  186,81175014015294   17  0,54212   \n",
       "\n",
       "  THERMOR PART  \n",
       "0     NaN  NaN  \n",
       "1     NaN  NaN  \n",
       "2     NaN  NaN  \n",
       "3     NaN  NaN  \n",
       "4     NaN  NaN  "
      ]
     },
     "execution_count": 156,
     "metadata": {},
     "output_type": "execute_result"
    }
   ],
   "source": [
    "elec_iris = [iris_2018,iris_2019 ]\n",
    "result3 = pd.concat(elec_iris)\n",
    "result3.head()"
   ]
  },
  {
   "cell_type": "code",
   "execution_count": 157,
   "metadata": {},
   "outputs": [
    {
     "data": {
      "text/plain": [
       "(932646, 12)"
      ]
     },
     "execution_count": 157,
     "metadata": {},
     "output_type": "execute_result"
    }
   ],
   "source": [
    "result3.shape"
   ]
  },
  {
   "cell_type": "markdown",
   "metadata": {},
   "source": [
    "# #cleaning"
   ]
  },
  {
   "cell_type": "code",
   "execution_count": null,
   "metadata": {},
   "outputs": [],
   "source": []
  },
  {
   "cell_type": "markdown",
   "metadata": {},
   "source": [
    "# READING CSV #donnees_elec_region & SETTING COLUMNS & CONCENAT"
   ]
  },
  {
   "cell_type": "code",
   "execution_count": 163,
   "metadata": {},
   "outputs": [],
   "source": [
    "\n",
    "region_2018 = './data/donnees_elec_region_2018.csv'\n",
    "region_2019 = './data/donnees_elec_region_2019.csv'"
   ]
  },
  {
   "cell_type": "code",
   "execution_count": 145,
   "metadata": {},
   "outputs": [
    {
     "data": {
      "text/plain": [
       "Index(['OPERATEUR', 'ANNEE', 'FILIERE', 'CODE_REGION',\n",
       "       'CODE_CATEGORIE_CONSOMMATION', 'CODE_SECTEUR_NAF2',\n",
       "       'CODE_GRAND_SECTEUR', 'CONSO', 'PDL', 'INDQUAL', 'NB_IRIS_MASQUES',\n",
       "       'THERMOR', 'PART'],\n",
       "      dtype='object')"
      ]
     },
     "execution_count": 145,
     "metadata": {},
     "output_type": "execute_result"
    }
   ],
   "source": [
    "region_2018 = pd.read_csv(region_2018, sep=';')\n",
    "region_2018.head(2)\n",
    "region_2018.columns"
   ]
  },
  {
   "cell_type": "code",
   "execution_count": 146,
   "metadata": {},
   "outputs": [
    {
     "data": {
      "text/plain": [
       "Index(['OPERATEUR', 'ANNEE', 'FILIERE', 'CODE_REGION',\n",
       "       'CODE_CATEGORIE_CONSOMMATION', 'CODE_SECTEUR_NAF2',\n",
       "       'CODE_GRAND_SECTEUR', 'CONSO', 'PDL', 'INDQUAL', 'THERMOR', 'PART',\n",
       "       'NB_IRIS_MASQUES'],\n",
       "      dtype='object')"
      ]
     },
     "execution_count": 146,
     "metadata": {},
     "output_type": "execute_result"
    }
   ],
   "source": [
    "region_2019 = pd.read_csv(region_2019, sep=';')\n",
    "region_2019.head(2)\n",
    "region_2019.columns"
   ]
  },
  {
   "cell_type": "code",
   "execution_count": 149,
   "metadata": {},
   "outputs": [
    {
     "data": {
      "text/plain": [
       "Index(['OPERATEUR', 'ANNEE', 'FILIERE', 'CODE_REGION',\n",
       "       'CODE_CATEGORIE_CONSOMMATION', 'CODE_SECTEUR_NAF2',\n",
       "       'CODE_GRAND_SECTEUR', 'CONSO', 'PDL', 'INDQUAL', 'NB_IRIS_MASQUES',\n",
       "       'THERMOR', 'PART'],\n",
       "      dtype='object')"
      ]
     },
     "execution_count": 149,
     "metadata": {},
     "output_type": "execute_result"
    }
   ],
   "source": [
    "#setting columns in order \n",
    "\n",
    "region_2019  = region_2019[['OPERATEUR', 'ANNEE', 'FILIERE', 'CODE_REGION',\n",
    "       'CODE_CATEGORIE_CONSOMMATION', 'CODE_SECTEUR_NAF2',\n",
    "       'CODE_GRAND_SECTEUR', 'CONSO', 'PDL', 'INDQUAL', 'NB_IRIS_MASQUES','THERMOR', 'PART']]\n",
    "\n",
    "region_2019.columns"
   ]
  },
  {
   "cell_type": "code",
   "execution_count": 158,
   "metadata": {},
   "outputs": [
    {
     "data": {
      "text/html": [
       "<div>\n",
       "<style scoped>\n",
       "    .dataframe tbody tr th:only-of-type {\n",
       "        vertical-align: middle;\n",
       "    }\n",
       "\n",
       "    .dataframe tbody tr th {\n",
       "        vertical-align: top;\n",
       "    }\n",
       "\n",
       "    .dataframe thead th {\n",
       "        text-align: right;\n",
       "    }\n",
       "</style>\n",
       "<table border=\"1\" class=\"dataframe\">\n",
       "  <thead>\n",
       "    <tr style=\"text-align: right;\">\n",
       "      <th></th>\n",
       "      <th>OPERATEUR</th>\n",
       "      <th>ANNEE</th>\n",
       "      <th>FILIERE</th>\n",
       "      <th>CODE_REGION</th>\n",
       "      <th>CODE_CATEGORIE_CONSOMMATION</th>\n",
       "      <th>CODE_SECTEUR_NAF2</th>\n",
       "      <th>CODE_GRAND_SECTEUR</th>\n",
       "      <th>CONSO</th>\n",
       "      <th>PDL</th>\n",
       "      <th>INDQUAL</th>\n",
       "      <th>NB_IRIS_MASQUES</th>\n",
       "      <th>THERMOR</th>\n",
       "      <th>PART</th>\n",
       "    </tr>\n",
       "  </thead>\n",
       "  <tbody>\n",
       "    <tr>\n",
       "      <th>0</th>\n",
       "      <td>EdF-SEI</td>\n",
       "      <td>2018</td>\n",
       "      <td>E</td>\n",
       "      <td>01</td>\n",
       "      <td>ENT_PRO</td>\n",
       "      <td>NaN</td>\n",
       "      <td>A</td>\n",
       "      <td>7441,048</td>\n",
       "      <td>524</td>\n",
       "      <td>NaN</td>\n",
       "      <td>78</td>\n",
       "      <td>NaN</td>\n",
       "      <td>NaN</td>\n",
       "    </tr>\n",
       "    <tr>\n",
       "      <th>1</th>\n",
       "      <td>EdF-SEI</td>\n",
       "      <td>2018</td>\n",
       "      <td>E</td>\n",
       "      <td>01</td>\n",
       "      <td>ENT_PRO</td>\n",
       "      <td>NaN</td>\n",
       "      <td>I</td>\n",
       "      <td>114629,916</td>\n",
       "      <td>2749</td>\n",
       "      <td>NaN</td>\n",
       "      <td>0</td>\n",
       "      <td>NaN</td>\n",
       "      <td>NaN</td>\n",
       "    </tr>\n",
       "    <tr>\n",
       "      <th>2</th>\n",
       "      <td>EdF-SEI</td>\n",
       "      <td>2018</td>\n",
       "      <td>E</td>\n",
       "      <td>01</td>\n",
       "      <td>RES</td>\n",
       "      <td>NaN</td>\n",
       "      <td>R</td>\n",
       "      <td>688474,26</td>\n",
       "      <td>197048</td>\n",
       "      <td>NaN</td>\n",
       "      <td>0</td>\n",
       "      <td>NaN</td>\n",
       "      <td>NaN</td>\n",
       "    </tr>\n",
       "    <tr>\n",
       "      <th>3</th>\n",
       "      <td>EdF-SEI</td>\n",
       "      <td>2018</td>\n",
       "      <td>E</td>\n",
       "      <td>01</td>\n",
       "      <td>ENT_PRO</td>\n",
       "      <td>NaN</td>\n",
       "      <td>T</td>\n",
       "      <td>579488,071</td>\n",
       "      <td>19846</td>\n",
       "      <td>NaN</td>\n",
       "      <td>0</td>\n",
       "      <td>NaN</td>\n",
       "      <td>NaN</td>\n",
       "    </tr>\n",
       "    <tr>\n",
       "      <th>4</th>\n",
       "      <td>EdF-SEI</td>\n",
       "      <td>2018</td>\n",
       "      <td>E</td>\n",
       "      <td>01</td>\n",
       "      <td>ENT_PRO</td>\n",
       "      <td>NaN</td>\n",
       "      <td>X</td>\n",
       "      <td>75139,044</td>\n",
       "      <td>5919</td>\n",
       "      <td>NaN</td>\n",
       "      <td>0</td>\n",
       "      <td>NaN</td>\n",
       "      <td>NaN</td>\n",
       "    </tr>\n",
       "  </tbody>\n",
       "</table>\n",
       "</div>"
      ],
      "text/plain": [
       "  OPERATEUR  ANNEE FILIERE CODE_REGION CODE_CATEGORIE_CONSOMMATION  \\\n",
       "0   EdF-SEI   2018       E          01                     ENT_PRO   \n",
       "1   EdF-SEI   2018       E          01                     ENT_PRO   \n",
       "2   EdF-SEI   2018       E          01                         RES   \n",
       "3   EdF-SEI   2018       E          01                     ENT_PRO   \n",
       "4   EdF-SEI   2018       E          01                     ENT_PRO   \n",
       "\n",
       "   CODE_SECTEUR_NAF2 CODE_GRAND_SECTEUR       CONSO     PDL INDQUAL  \\\n",
       "0                NaN                  A    7441,048     524     NaN   \n",
       "1                NaN                  I  114629,916    2749     NaN   \n",
       "2                NaN                  R   688474,26  197048     NaN   \n",
       "3                NaN                  T  579488,071   19846     NaN   \n",
       "4                NaN                  X   75139,044    5919     NaN   \n",
       "\n",
       "   NB_IRIS_MASQUES THERMOR PART  \n",
       "0               78     NaN  NaN  \n",
       "1                0     NaN  NaN  \n",
       "2                0     NaN  NaN  \n",
       "3                0     NaN  NaN  \n",
       "4                0     NaN  NaN  "
      ]
     },
     "execution_count": 158,
     "metadata": {},
     "output_type": "execute_result"
    }
   ],
   "source": [
    "elec_region = [region_2018,region_2019 ]\n",
    "result4 = pd.concat(elec_region)\n",
    "result4.head()"
   ]
  },
  {
   "cell_type": "code",
   "execution_count": 159,
   "metadata": {},
   "outputs": [
    {
     "data": {
      "text/plain": [
       "(3747, 13)"
      ]
     },
     "execution_count": 159,
     "metadata": {},
     "output_type": "execute_result"
    }
   ],
   "source": [
    "result4.shape"
   ]
  },
  {
   "cell_type": "markdown",
   "metadata": {},
   "source": [
    "# #cleaning"
   ]
  },
  {
   "cell_type": "code",
   "execution_count": null,
   "metadata": {},
   "outputs": [],
   "source": []
  }
 ],
 "metadata": {
  "kernelspec": {
   "display_name": "Python 3",
   "language": "python",
   "name": "python3"
  },
  "language_info": {
   "codemirror_mode": {
    "name": "ipython",
    "version": 3
   },
   "file_extension": ".py",
   "mimetype": "text/x-python",
   "name": "python",
   "nbconvert_exporter": "python",
   "pygments_lexer": "ipython3",
   "version": "3.8.5"
  }
 },
 "nbformat": 4,
 "nbformat_minor": 4
}
