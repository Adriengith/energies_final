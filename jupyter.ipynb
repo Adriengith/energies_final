{
 "cells": [
  {
   "cell_type": "code",
   "execution_count": 1,
   "metadata": {},
   "outputs": [],
   "source": [
    "import pandas as pd\n",
    "\n"
   ]
  },
  {
   "cell_type": "code",
   "execution_count": null,
   "metadata": {},
   "outputs": [],
   "source": []
  },
  {
   "cell_type": "code",
   "execution_count": 6,
   "metadata": {},
   "outputs": [
    {
     "name": "stdout",
     "output_type": "stream",
     "text": [
      "52273\n",
      "24\n",
      "75\n"
     ]
    }
   ],
   "source": [
    "#df = pd.read_csv('', sep = ',')\n",
    "df = pd.read_csv('data/donnees-electricite-2008a2017/donnees_elec_2017.csv', sep = ';', encoding='latin-1')\n",
    "print(len(df))\n",
    "df.iloc[52272,:]\n",
    "\n",
    "for nb in range(0,2,1):\n",
    "    value = df.iloc[nb,:]\n",
    "    print(value[4])"
   ]
  },
  {
   "cell_type": "code",
   "execution_count": null,
   "metadata": {},
   "outputs": [],
   "source": []
  }
 ],
 "metadata": {
  "kernelspec": {
   "display_name": "Python 3",
   "language": "python",
   "name": "python3"
  },
  "language_info": {
   "codemirror_mode": {
    "name": "ipython",
    "version": 3
   },
   "file_extension": ".py",
   "mimetype": "text/x-python",
   "name": "python",
   "nbconvert_exporter": "python",
   "pygments_lexer": "ipython3",
   "version": "3.7.6"
  }
 },
 "nbformat": 4,
 "nbformat_minor": 4
}
