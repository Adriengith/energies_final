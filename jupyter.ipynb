{
 "cells": [
  {
   "cell_type": "markdown",
   "metadata": {},
   "source": [
    "# import"
   ]
  },
  {
   "cell_type": "code",
   "execution_count": 1,
   "metadata": {},
   "outputs": [],
   "source": [
    "import pandas as pd\n",
    "from sqlalchemy import create_engine\n"
   ]
  },
  {
   "cell_type": "code",
   "execution_count": 2,
   "metadata": {},
   "outputs": [],
   "source": [
    "#df = pd.read_csv('', sep = ',')\n",
    "#df = pd.read_csv('data/donnees-electricite-2008a2017/donnees_elec_2017.csv', sep = ';', encoding='latin-1')\n",
    "#print(len(df))\n",
    "#df.iloc[52272,:]\n",
    "\n",
    "#for nb in range(0,2,1):\n",
    "    #value = df.iloc[nb,:]\n",
    "    #print(value[4])"
   ]
  },
  {
   "cell_type": "markdown",
   "metadata": {},
   "source": [
    "# READING & CLEANING donnees_elec_adresse "
   ]
  },
  {
   "cell_type": "code",
   "execution_count": 3,
   "metadata": {},
   "outputs": [],
   "source": [
    "# electricity data 2018/2019\n",
    "addresse_2018 = './data/elec/donnees_elec_adresse_2018.csv'\n",
    "addresse_2019 = './data/elec/donnees_elec_adresse_2019.csv'"
   ]
  },
  {
   "cell_type": "code",
   "execution_count": 4,
   "metadata": {},
   "outputs": [
    {
     "data": {
      "text/plain": [
       "Index(['OPERATEUR', 'ANNEE', 'FILIERE', 'CODE_IRIS', 'ADRESSE', 'NOM_COMMUNE',\n",
       "       'CODE_GRAND_SECTEUR', 'CONSO', 'PDL'],\n",
       "      dtype='object')"
      ]
     },
     "execution_count": 4,
     "metadata": {},
     "output_type": "execute_result"
    }
   ],
   "source": [
    "#reading CSV\n",
    "addresse_2018 = pd.read_csv(addresse_2018, sep=';')\n",
    "addresse_2018.head(2)\n",
    "addresse_2018.columns"
   ]
  },
  {
   "cell_type": "code",
   "execution_count": 5,
   "metadata": {},
   "outputs": [
    {
     "data": {
      "text/plain": [
       "Index(['OPERATEUR', 'ANNEE', 'FILIERE', 'CODE_IRIS', 'NOM_COMMUNE', 'ADRESSE',\n",
       "       'CODE_GRAND_SECTEUR', 'CONSO', 'PDL'],\n",
       "      dtype='object')"
      ]
     },
     "execution_count": 5,
     "metadata": {},
     "output_type": "execute_result"
    }
   ],
   "source": [
    "#reading CSV\n",
    "addresse_2019 = pd.read_csv(addresse_2019, sep=';')\n",
    "addresse_2019.head(2)\n",
    "addresse_2019. columns"
   ]
  },
  {
   "cell_type": "code",
   "execution_count": 6,
   "metadata": {},
   "outputs": [
    {
     "data": {
      "text/plain": [
       "Index(['OPERATEUR', 'ANNEE', 'FILIERE', 'CODE_IRIS', 'ADRESSE', 'NOM_COMMUNE',\n",
       "       'CODE_GRAND_SECTEUR', 'CONSO', 'PDL'],\n",
       "      dtype='object')"
      ]
     },
     "execution_count": 6,
     "metadata": {},
     "output_type": "execute_result"
    }
   ],
   "source": [
    "#setting columns in order \n",
    "\n",
    "addresse_2019  = addresse_2019[['OPERATEUR', 'ANNEE', 'FILIERE', 'CODE_IRIS','ADRESSE', 'NOM_COMMUNE',\n",
    "       'CODE_GRAND_SECTEUR', 'CONSO', 'PDL']]\n",
    "#Double check \n",
    "addresse_2019.columns"
   ]
  },
  {
   "cell_type": "code",
   "execution_count": 13,
   "metadata": {},
   "outputs": [
    {
     "data": {
      "text/html": [
       "<div>\n",
       "<style scoped>\n",
       "    .dataframe tbody tr th:only-of-type {\n",
       "        vertical-align: middle;\n",
       "    }\n",
       "\n",
       "    .dataframe tbody tr th {\n",
       "        vertical-align: top;\n",
       "    }\n",
       "\n",
       "    .dataframe thead th {\n",
       "        text-align: right;\n",
       "    }\n",
       "</style>\n",
       "<table border=\"1\" class=\"dataframe\">\n",
       "  <thead>\n",
       "    <tr style=\"text-align: right;\">\n",
       "      <th></th>\n",
       "      <th>OPERATEUR</th>\n",
       "      <th>ANNEE</th>\n",
       "      <th>FILIERE</th>\n",
       "      <th>CODE_IRIS</th>\n",
       "      <th>ADRESSE</th>\n",
       "      <th>NOM_COMMUNE</th>\n",
       "      <th>CODE_GRAND_SECTEUR</th>\n",
       "      <th>CONSO</th>\n",
       "      <th>PDL</th>\n",
       "    </tr>\n",
       "  </thead>\n",
       "  <tbody>\n",
       "    <tr>\n",
       "      <th>0</th>\n",
       "      <td>Enedis</td>\n",
       "      <td>2018</td>\n",
       "      <td>E</td>\n",
       "      <td>010040101</td>\n",
       "      <td>659 AVENUE LEON BLUM</td>\n",
       "      <td>AMBÉRIEU-EN-BUGEY</td>\n",
       "      <td>I</td>\n",
       "      <td>852,40377</td>\n",
       "      <td>1</td>\n",
       "    </tr>\n",
       "    <tr>\n",
       "      <th>1</th>\n",
       "      <td>Enedis</td>\n",
       "      <td>2018</td>\n",
       "      <td>E</td>\n",
       "      <td>010040101</td>\n",
       "      <td>645 AVENUE LEON BLUM</td>\n",
       "      <td>AMBÉRIEU-EN-BUGEY</td>\n",
       "      <td>I</td>\n",
       "      <td>61,78001</td>\n",
       "      <td>1</td>\n",
       "    </tr>\n",
       "    <tr>\n",
       "      <th>2</th>\n",
       "      <td>Enedis</td>\n",
       "      <td>2018</td>\n",
       "      <td>E</td>\n",
       "      <td>010040101</td>\n",
       "      <td>268 RUE DES MOUETTES</td>\n",
       "      <td>AMBÉRIEU-EN-BUGEY</td>\n",
       "      <td>I</td>\n",
       "      <td>63,2543</td>\n",
       "      <td>1</td>\n",
       "    </tr>\n",
       "    <tr>\n",
       "      <th>3</th>\n",
       "      <td>Enedis</td>\n",
       "      <td>2018</td>\n",
       "      <td>E</td>\n",
       "      <td>010040101</td>\n",
       "      <td>72 AVENUE DE LA LIBERATION</td>\n",
       "      <td>AMBÉRIEU-EN-BUGEY</td>\n",
       "      <td>I</td>\n",
       "      <td>929,53233</td>\n",
       "      <td>1</td>\n",
       "    </tr>\n",
       "    <tr>\n",
       "      <th>4</th>\n",
       "      <td>Enedis</td>\n",
       "      <td>2018</td>\n",
       "      <td>E</td>\n",
       "      <td>010040101</td>\n",
       "      <td>82 RUE DES MOUETTES</td>\n",
       "      <td>AMBÉRIEU-EN-BUGEY</td>\n",
       "      <td>R</td>\n",
       "      <td>40,67797</td>\n",
       "      <td>22</td>\n",
       "    </tr>\n",
       "  </tbody>\n",
       "</table>\n",
       "</div>"
      ],
      "text/plain": [
       "  OPERATEUR  ANNEE FILIERE  CODE_IRIS                     ADRESSE  \\\n",
       "0    Enedis   2018       E  010040101        659 AVENUE LEON BLUM   \n",
       "1    Enedis   2018       E  010040101        645 AVENUE LEON BLUM   \n",
       "2    Enedis   2018       E  010040101        268 RUE DES MOUETTES   \n",
       "3    Enedis   2018       E  010040101  72 AVENUE DE LA LIBERATION   \n",
       "4    Enedis   2018       E  010040101         82 RUE DES MOUETTES   \n",
       "\n",
       "         NOM_COMMUNE CODE_GRAND_SECTEUR      CONSO  PDL  \n",
       "0  AMBÉRIEU-EN-BUGEY                  I  852,40377    1  \n",
       "1  AMBÉRIEU-EN-BUGEY                  I   61,78001    1  \n",
       "2  AMBÉRIEU-EN-BUGEY                  I    63,2543    1  \n",
       "3  AMBÉRIEU-EN-BUGEY                  I  929,53233    1  \n",
       "4  AMBÉRIEU-EN-BUGEY                  R   40,67797   22  "
      ]
     },
     "execution_count": 13,
     "metadata": {},
     "output_type": "execute_result"
    }
   ],
   "source": [
    "#concatenate with pd\n",
    "elec_adresse = [addresse_2018, addresse_2019]\n",
    "result_elec = pd.concat(elec_adresse)\n",
    "result_elec.head()"
   ]
  },
  {
   "cell_type": "code",
   "execution_count": 14,
   "metadata": {},
   "outputs": [
    {
     "name": "stdout",
     "output_type": "stream",
     "text": [
      "<class 'pandas.core.frame.DataFrame'>\n",
      "Int64Index: 1132768 entries, 0 to 573808\n",
      "Data columns (total 9 columns):\n",
      " #   Column              Non-Null Count    Dtype \n",
      "---  ------              --------------    ----- \n",
      " 0   OPERATEUR           1132768 non-null  object\n",
      " 1   ANNEE               1132768 non-null  int64 \n",
      " 2   FILIERE             1132768 non-null  object\n",
      " 3   CODE_IRIS           1132768 non-null  object\n",
      " 4   ADRESSE             1132524 non-null  object\n",
      " 5   NOM_COMMUNE         1132767 non-null  object\n",
      " 6   CODE_GRAND_SECTEUR  1132768 non-null  object\n",
      " 7   CONSO               1132768 non-null  object\n",
      " 8   PDL                 1132768 non-null  int64 \n",
      "dtypes: int64(2), object(7)\n",
      "memory usage: 86.4+ MB\n"
     ]
    }
   ],
   "source": [
    "result_elec.info()"
   ]
  },
  {
   "cell_type": "markdown",
   "metadata": {},
   "source": [
    "# #cleaning"
   ]
  },
  {
   "cell_type": "code",
   "execution_count": null,
   "metadata": {},
   "outputs": [],
   "source": []
  },
  {
   "cell_type": "markdown",
   "metadata": {},
   "source": [
    "# READING & CLEANING donnees_elec_epci "
   ]
  },
  {
   "cell_type": "code",
   "execution_count": 9,
   "metadata": {},
   "outputs": [],
   "source": [
    "#data\n",
    "epci_2018 = './data/elec/donnees_elec_epci_2018.csv'\n",
    "epci_2019 = './data/elec/donnees_elec_epci_2019.csv'"
   ]
  },
  {
   "cell_type": "code",
   "execution_count": 10,
   "metadata": {},
   "outputs": [],
   "source": [
    "#reading CSV\n",
    "#epci_2018 = pd.read_csv(epci_2018, sep=';')\n",
    "#epci_2018.head(2)\n",
    "#epci_2018.columns"
   ]
  },
  {
   "cell_type": "code",
   "execution_count": 11,
   "metadata": {},
   "outputs": [],
   "source": [
    "#reading CSV\n",
    "#epci_2019 = pd.read_csv(epci_2019, sep=';')\n",
    "#epci_2019.head(2)\n",
    "#epci_2019.columns"
   ]
  },
  {
   "cell_type": "code",
   "execution_count": 12,
   "metadata": {},
   "outputs": [
    {
     "ename": "IndentationError",
     "evalue": "unexpected indent (<ipython-input-12-4057af4c0c09>, line 4)",
     "output_type": "error",
     "traceback": [
      "\u001b[0;36m  File \u001b[0;32m\"<ipython-input-12-4057af4c0c09>\"\u001b[0;36m, line \u001b[0;32m4\u001b[0m\n\u001b[0;31m    'CODE_CATEGORIE_CONSOMMATION', 'CODE_SECTEUR_NAF2',\u001b[0m\n\u001b[0m    ^\u001b[0m\n\u001b[0;31mIndentationError\u001b[0m\u001b[0;31m:\u001b[0m unexpected indent\n"
     ]
    }
   ],
   "source": [
    "#setting columns in order \n",
    "\n",
    "#epci_2019  = epci_2019[['OPERATEUR', 'ANNEE', 'FILIERE', 'CODE_EPCI',\n",
    "       'CODE_CATEGORIE_CONSOMMATION', 'CODE_SECTEUR_NAF2',\n",
    "       'CODE_GRAND_SECTEUR', 'CONSO', 'PDL', 'INDQUAL', 'NB_IRIS_MASQUES','THERMOR', 'PART'\n",
    "       ]]\n",
    "#Double check\n",
    "#epci_2019.columns"
   ]
  },
  {
   "cell_type": "code",
   "execution_count": null,
   "metadata": {},
   "outputs": [],
   "source": [
    "#concatenate with pd\n",
    "#elec_epci = [epci_2018, epci_2019]\n",
    "#result2 = pd.concat(elec_epci)\n",
    "#result2.head()"
   ]
  },
  {
   "cell_type": "code",
   "execution_count": null,
   "metadata": {},
   "outputs": [],
   "source": [
    "#result2.info()"
   ]
  },
  {
   "cell_type": "markdown",
   "metadata": {},
   "source": [
    "# #cleaning"
   ]
  },
  {
   "cell_type": "code",
   "execution_count": null,
   "metadata": {},
   "outputs": [],
   "source": []
  },
  {
   "cell_type": "markdown",
   "metadata": {},
   "source": [
    "# READING & CLEANING donnees_elec_iris "
   ]
  },
  {
   "cell_type": "code",
   "execution_count": null,
   "metadata": {},
   "outputs": [],
   "source": [
    "#data\n",
    "iris_2018 = './data/elec/donnees_elec_iris_2018.csv'\n",
    "iris_2019 = './data/elec/donnees_elec_iris_2019.csv'"
   ]
  },
  {
   "cell_type": "code",
   "execution_count": null,
   "metadata": {},
   "outputs": [],
   "source": [
    "#reading CSV\n",
    "#iris_2018 = pd.read_csv(iris_2018, sep=';')\n",
    "#iris_2018.head(2)\n",
    "#iris_2018.columns"
   ]
  },
  {
   "cell_type": "code",
   "execution_count": null,
   "metadata": {},
   "outputs": [],
   "source": [
    "#reading CSV\n",
    "#iris_2019 = pd.read_csv(iris_2019, sep=';')\n",
    "#iris_2019.head(2)\n",
    "#iris_2019.columns"
   ]
  },
  {
   "cell_type": "code",
   "execution_count": null,
   "metadata": {},
   "outputs": [],
   "source": [
    "#setting columns in order \n"
   ]
  },
  {
   "cell_type": "code",
   "execution_count": null,
   "metadata": {},
   "outputs": [],
   "source": [
    "#concatenate with pd\n",
    "#elec_iris = [iris_2018,iris_2019 ]\n",
    "#result3 = pd.concat(elec_iris)\n",
    "#result3.head()"
   ]
  },
  {
   "cell_type": "code",
   "execution_count": null,
   "metadata": {},
   "outputs": [],
   "source": [
    "#result3.info()"
   ]
  },
  {
   "cell_type": "markdown",
   "metadata": {},
   "source": [
    "# #cleaning"
   ]
  },
  {
   "cell_type": "code",
   "execution_count": null,
   "metadata": {},
   "outputs": [],
   "source": []
  },
  {
   "cell_type": "markdown",
   "metadata": {},
   "source": [
    "# READING & CLEANING donnees_elec_region"
   ]
  },
  {
   "cell_type": "code",
   "execution_count": null,
   "metadata": {},
   "outputs": [],
   "source": [
    "#data\n",
    "region_2018 = './data/elec/donnees_elec_region_2018.csv'\n",
    "region_2019 = './data/elec/donnees_elec_region_2019.csv'"
   ]
  },
  {
   "cell_type": "code",
   "execution_count": null,
   "metadata": {},
   "outputs": [],
   "source": [
    "#reading CSV\n",
    "#region_2018 = pd.read_csv(region_2018, sep=';')\n",
    "#region_2018.head(2)\n",
    "#region_2018.columns"
   ]
  },
  {
   "cell_type": "code",
   "execution_count": null,
   "metadata": {},
   "outputs": [],
   "source": [
    "#reading CSV\n",
    "#region_2019 = pd.read_csv(region_2019, sep=';')\n",
    "#region_2019.head(2)\n",
    "#region_2019.columns"
   ]
  },
  {
   "cell_type": "code",
   "execution_count": null,
   "metadata": {},
   "outputs": [],
   "source": [
    "#setting columns in order \n",
    "\n",
    "#region_2019  = region_2019[['OPERATEUR', 'ANNEE', 'FILIERE', 'CODE_REGION',\n",
    "       'CODE_CATEGORIE_CONSOMMATION', 'CODE_SECTEUR_NAF2',\n",
    "       'CODE_GRAND_SECTEUR', 'CONSO', 'PDL', 'INDQUAL', 'NB_IRIS_MASQUES','THERMOR', 'PART']]\n",
    "#Double check\n",
    "#region_2019.columns"
   ]
  },
  {
   "cell_type": "code",
   "execution_count": null,
   "metadata": {},
   "outputs": [],
   "source": [
    "#concatenate with pd\n",
    "#elec_region = [region_2018,region_2019 ]\n",
    "#result4 = pd.concat(elec_region)\n",
    "#result4.head()"
   ]
  },
  {
   "cell_type": "code",
   "execution_count": null,
   "metadata": {},
   "outputs": [],
   "source": [
    "#result4.info()"
   ]
  },
  {
   "cell_type": "markdown",
   "metadata": {},
   "source": [
    "# #cleaning"
   ]
  },
  {
   "cell_type": "code",
   "execution_count": null,
   "metadata": {},
   "outputs": [],
   "source": [
    "import pandas as pd\n",
    "from sqlalchemy import create_engine\n",
    "\n",
    "\n",
    "elec_2008 = './data/2017/donnees_elec_2008.csv'\n",
    "elec_2009 = './data/2017/donnees_elec_2009.csv'\n",
    "elec_2010 = './data/2017/donnees_elec_2010.csv'\n",
    "elec_2011 = './data/2017/donnees_elec_2011.csv'\n",
    "elec_2012 = './data/2017/donnees_elec_2012.csv'\n",
    "elec_2013 = './data/2017/donnees_elec_2013.csv'\n",
    "elec_2014 = './data/2017/donnees_elec_2014.csv'\n",
    "elec_2015 = './data/2017/donnees_elec_2015.csv'\n",
    "elec_2016 = './data/2017/donnees_elec_2016.csv'\n",
    "elec_2017 = './data/2017/donnees_elec_2017.csv'"
   ]
  },
  {
   "cell_type": "code",
   "execution_count": null,
   "metadata": {},
   "outputs": [],
   "source": [
    "#reading CSV\n",
    "#elec_2008 = pd.read_csv(elec_2008, sep=';',encoding='latin-1')\n",
    "#elec_2008.head(2)\n",
    "#elec_2008.columns"
   ]
  },
  {
   "cell_type": "code",
   "execution_count": null,
   "metadata": {},
   "outputs": [],
   "source": [
    "#reading CSV\n",
    "#elec_2009 = pd.read_csv(elec_2009, sep=';',encoding='latin-1')\n",
    "#elec_2009.head(2)\n",
    "#elec_2009.columns"
   ]
  },
  {
   "cell_type": "code",
   "execution_count": null,
   "metadata": {},
   "outputs": [],
   "source": [
    "#reading CSV\n",
    "#elec_2010 = pd.read_csv(elec_2010, sep=';',encoding='latin-1')\n",
    "#elec_2010.head(2)\n",
    "#elec_2010.columns"
   ]
  },
  {
   "cell_type": "code",
   "execution_count": null,
   "metadata": {},
   "outputs": [],
   "source": [
    "#reading CSV\n",
    "#elec_2011 = pd.read_csv(elec_2011, sep=';',encoding='latin-1')\n",
    "#elec_2011.head(2)\n",
    "#elec_2011.columns"
   ]
  },
  {
   "cell_type": "code",
   "execution_count": null,
   "metadata": {},
   "outputs": [],
   "source": [
    "#reading CSV\n",
    "#elec_2012 = pd.read_csv(elec_2012, sep=';',encoding='latin-1')\n",
    "#elec_2012.head(2)\n",
    "#elec_2012.columns"
   ]
  },
  {
   "cell_type": "code",
   "execution_count": null,
   "metadata": {},
   "outputs": [],
   "source": [
    "#reading CSV\n",
    "#elec_2013 = pd.read_csv(elec_2013, sep=';',encoding='latin-1')\n",
    "#elec_2013.head(2)\n",
    "#elec_2013.columns"
   ]
  },
  {
   "cell_type": "code",
   "execution_count": null,
   "metadata": {},
   "outputs": [],
   "source": [
    "#reading CSV\n",
    "#elec_2014 = pd.read_csv(elec_2014, sep=';',encoding='latin-1')\n",
    "#elec_2014.head(2)\n",
    "#elec_2014.columns"
   ]
  },
  {
   "cell_type": "code",
   "execution_count": null,
   "metadata": {},
   "outputs": [],
   "source": [
    "#reading CSV\n",
    "#elec_2015 = pd.read_csv(elec_2015, sep=';',encoding='latin-1')\n",
    "#elec_2015.head(2)\n",
    "#elec_2015.columns"
   ]
  },
  {
   "cell_type": "code",
   "execution_count": null,
   "metadata": {},
   "outputs": [],
   "source": [
    "#reading CSV\n",
    "#elec_2016 = pd.read_csv(elec_2016, sep=';',encoding='latin-1')\n",
    "#elec_2016.head(2)\n",
    "#elec_2016.columns"
   ]
  },
  {
   "cell_type": "code",
   "execution_count": null,
   "metadata": {},
   "outputs": [],
   "source": [
    "#reading CSV\n",
    "#elec_2017 = pd.read_csv(elec_2017, sep=';',encoding='latin-1')\n",
    "#elec_2017.head(2)\n",
    "#elec_2017.columns"
   ]
  },
  {
   "cell_type": "code",
   "execution_count": null,
   "metadata": {},
   "outputs": [],
   "source": [
    "#elec_prior_2017= [elec_2008,elec_2009,elec_2010,elec_2011,elec_2012,elec_2013,elec_2014,elec_2015,elec_2016,elec_2017]\n",
    "#result5 = pd.concat(elec_prior_2017)\n",
    "#result5.head()"
   ]
  },
  {
   "cell_type": "code",
   "execution_count": 15,
   "metadata": {},
   "outputs": [],
   "source": [
    "import pandas as pd\n",
    "from sqlalchemy import create_engine\n",
    "\n",
    "# gas data 2018/2019\n",
    "gas_2018 = './data/gaz/donnees_gaz_adresse_2018.csv'\n",
    "gas_2019 = './data/gaz/donnees_gaz_adresse_2018.csv'"
   ]
  },
  {
   "cell_type": "code",
   "execution_count": 16,
   "metadata": {},
   "outputs": [
    {
     "data": {
      "text/plain": [
       "Index(['OPERATEUR', 'ANNEE', 'FILIERE', 'CODE_IRIS', 'ADRESSE', 'NOM_COMMUNE',\n",
       "       'CODE_GRAND_SECTEUR', 'CONSO', 'PDL'],\n",
       "      dtype='object')"
      ]
     },
     "execution_count": 16,
     "metadata": {},
     "output_type": "execute_result"
    }
   ],
   "source": [
    "#reading CSV\n",
    "gas_2018 = pd.read_csv(gas_2018, sep=';')\n",
    "gas_2018.head(2)\n",
    "gas_2018.columns"
   ]
  },
  {
   "cell_type": "code",
   "execution_count": 17,
   "metadata": {},
   "outputs": [
    {
     "data": {
      "text/plain": [
       "Index(['OPERATEUR', 'ANNEE', 'FILIERE', 'CODE_IRIS', 'ADRESSE', 'NOM_COMMUNE',\n",
       "       'CODE_GRAND_SECTEUR', 'CONSO', 'PDL'],\n",
       "      dtype='object')"
      ]
     },
     "execution_count": 17,
     "metadata": {},
     "output_type": "execute_result"
    }
   ],
   "source": [
    "#reading CSV\n",
    "gas_2019 = pd.read_csv(gas_2019, sep=';')\n",
    "gas_2019.head(2)\n",
    "gas_2019.columns"
   ]
  },
  {
   "cell_type": "code",
   "execution_count": 18,
   "metadata": {},
   "outputs": [
    {
     "data": {
      "text/html": [
       "<div>\n",
       "<style scoped>\n",
       "    .dataframe tbody tr th:only-of-type {\n",
       "        vertical-align: middle;\n",
       "    }\n",
       "\n",
       "    .dataframe tbody tr th {\n",
       "        vertical-align: top;\n",
       "    }\n",
       "\n",
       "    .dataframe thead th {\n",
       "        text-align: right;\n",
       "    }\n",
       "</style>\n",
       "<table border=\"1\" class=\"dataframe\">\n",
       "  <thead>\n",
       "    <tr style=\"text-align: right;\">\n",
       "      <th></th>\n",
       "      <th>OPERATEUR</th>\n",
       "      <th>ANNEE</th>\n",
       "      <th>FILIERE</th>\n",
       "      <th>CODE_IRIS</th>\n",
       "      <th>ADRESSE</th>\n",
       "      <th>NOM_COMMUNE</th>\n",
       "      <th>CODE_GRAND_SECTEUR</th>\n",
       "      <th>CONSO</th>\n",
       "      <th>PDL</th>\n",
       "    </tr>\n",
       "  </thead>\n",
       "  <tbody>\n",
       "    <tr>\n",
       "      <th>0</th>\n",
       "      <td>GRDF</td>\n",
       "      <td>2018</td>\n",
       "      <td>G</td>\n",
       "      <td>010040101</td>\n",
       "      <td>58  AVENUE PAUL PAINLEVE</td>\n",
       "      <td>AMBÉRIEU-EN-BUGEY</td>\n",
       "      <td>T</td>\n",
       "      <td>4,641144e+02</td>\n",
       "      <td>1</td>\n",
       "    </tr>\n",
       "    <tr>\n",
       "      <th>1</th>\n",
       "      <td>GRDF</td>\n",
       "      <td>2018</td>\n",
       "      <td>G</td>\n",
       "      <td>010040101</td>\n",
       "      <td>54  AVENUE PAUL PAINLEVE</td>\n",
       "      <td>AMBÉRIEU-EN-BUGEY</td>\n",
       "      <td>R</td>\n",
       "      <td>1,595118e+02</td>\n",
       "      <td>11</td>\n",
       "    </tr>\n",
       "    <tr>\n",
       "      <th>2</th>\n",
       "      <td>GRDF</td>\n",
       "      <td>2018</td>\n",
       "      <td>G</td>\n",
       "      <td>010040101</td>\n",
       "      <td>RTE CHATEAU GAILLARD</td>\n",
       "      <td>AMBÉRIEU-EN-BUGEY</td>\n",
       "      <td>T</td>\n",
       "      <td>5,609286e+02</td>\n",
       "      <td>1</td>\n",
       "    </tr>\n",
       "    <tr>\n",
       "      <th>3</th>\n",
       "      <td>GRDF</td>\n",
       "      <td>2018</td>\n",
       "      <td>G</td>\n",
       "      <td>010040101</td>\n",
       "      <td>36  ALLEE DE LA BARBOTIERE</td>\n",
       "      <td>AMBÉRIEU-EN-BUGEY</td>\n",
       "      <td>T</td>\n",
       "      <td>1,236034e+03</td>\n",
       "      <td>1</td>\n",
       "    </tr>\n",
       "    <tr>\n",
       "      <th>4</th>\n",
       "      <td>GRDF</td>\n",
       "      <td>2018</td>\n",
       "      <td>G</td>\n",
       "      <td>010040101</td>\n",
       "      <td>RUE MARIUS BERLIET</td>\n",
       "      <td>AMBÉRIEU-EN-BUGEY</td>\n",
       "      <td>T</td>\n",
       "      <td>9,765200e+01</td>\n",
       "      <td>1</td>\n",
       "    </tr>\n",
       "  </tbody>\n",
       "</table>\n",
       "</div>"
      ],
      "text/plain": [
       "  OPERATEUR  ANNEE FILIERE  CODE_IRIS                     ADRESSE  \\\n",
       "0      GRDF   2018       G  010040101    58  AVENUE PAUL PAINLEVE   \n",
       "1      GRDF   2018       G  010040101    54  AVENUE PAUL PAINLEVE   \n",
       "2      GRDF   2018       G  010040101        RTE CHATEAU GAILLARD   \n",
       "3      GRDF   2018       G  010040101  36  ALLEE DE LA BARBOTIERE   \n",
       "4      GRDF   2018       G  010040101          RUE MARIUS BERLIET   \n",
       "\n",
       "         NOM_COMMUNE CODE_GRAND_SECTEUR         CONSO  PDL  \n",
       "0  AMBÉRIEU-EN-BUGEY                  T  4,641144e+02    1  \n",
       "1  AMBÉRIEU-EN-BUGEY                  R  1,595118e+02   11  \n",
       "2  AMBÉRIEU-EN-BUGEY                  T  5,609286e+02    1  \n",
       "3  AMBÉRIEU-EN-BUGEY                  T  1,236034e+03    1  \n",
       "4  AMBÉRIEU-EN-BUGEY                  T  9,765200e+01    1  "
      ]
     },
     "execution_count": 18,
     "metadata": {},
     "output_type": "execute_result"
    }
   ],
   "source": [
    "#concatenate with pd\n",
    "gas_adresse = [gas_2018, gas_2019]\n",
    "result_gas = pd.concat(gas_adresse)\n",
    "result_gas.head()"
   ]
  },
  {
   "cell_type": "code",
   "execution_count": 19,
   "metadata": {},
   "outputs": [
    {
     "name": "stdout",
     "output_type": "stream",
     "text": [
      "<class 'pandas.core.frame.DataFrame'>\n",
      "Int64Index: 477652 entries, 0 to 238825\n",
      "Data columns (total 9 columns):\n",
      " #   Column              Non-Null Count   Dtype \n",
      "---  ------              --------------   ----- \n",
      " 0   OPERATEUR           477652 non-null  object\n",
      " 1   ANNEE               477652 non-null  int64 \n",
      " 2   FILIERE             477652 non-null  object\n",
      " 3   CODE_IRIS           477652 non-null  object\n",
      " 4   ADRESSE             477182 non-null  object\n",
      " 5   NOM_COMMUNE         477652 non-null  object\n",
      " 6   CODE_GRAND_SECTEUR  477652 non-null  object\n",
      " 7   CONSO               477652 non-null  object\n",
      " 8   PDL                 477652 non-null  int64 \n",
      "dtypes: int64(2), object(7)\n",
      "memory usage: 36.4+ MB\n"
     ]
    }
   ],
   "source": [
    "result_gas.info()"
   ]
  },
  {
   "cell_type": "code",
   "execution_count": 20,
   "metadata": {},
   "outputs": [
    {
     "name": "stdout",
     "output_type": "stream",
     "text": [
      "<class 'pandas.core.frame.DataFrame'>\n",
      "Int64Index: 1132768 entries, 0 to 573808\n",
      "Data columns (total 9 columns):\n",
      " #   Column              Non-Null Count    Dtype \n",
      "---  ------              --------------    ----- \n",
      " 0   OPERATEUR           1132768 non-null  object\n",
      " 1   ANNEE               1132768 non-null  int64 \n",
      " 2   FILIERE             1132768 non-null  object\n",
      " 3   CODE_IRIS           1132768 non-null  object\n",
      " 4   ADRESSE             1132524 non-null  object\n",
      " 5   NOM_COMMUNE         1132767 non-null  object\n",
      " 6   CODE_GRAND_SECTEUR  1132768 non-null  object\n",
      " 7   CONSO               1132768 non-null  object\n",
      " 8   PDL                 1132768 non-null  int64 \n",
      "dtypes: int64(2), object(7)\n",
      "memory usage: 86.4+ MB\n"
     ]
    }
   ],
   "source": [
    "result_elec.info()"
   ]
  },
  {
   "cell_type": "code",
   "execution_count": 21,
   "metadata": {
    "scrolled": false
   },
   "outputs": [
    {
     "data": {
      "text/html": [
       "<div>\n",
       "<style scoped>\n",
       "    .dataframe tbody tr th:only-of-type {\n",
       "        vertical-align: middle;\n",
       "    }\n",
       "\n",
       "    .dataframe tbody tr th {\n",
       "        vertical-align: top;\n",
       "    }\n",
       "\n",
       "    .dataframe thead th {\n",
       "        text-align: right;\n",
       "    }\n",
       "</style>\n",
       "<table border=\"1\" class=\"dataframe\">\n",
       "  <thead>\n",
       "    <tr style=\"text-align: right;\">\n",
       "      <th></th>\n",
       "      <th>OPERATEUR</th>\n",
       "      <th>ANNEE</th>\n",
       "      <th>FILIERE</th>\n",
       "      <th>CODE_IRIS</th>\n",
       "      <th>ADRESSE</th>\n",
       "      <th>NOM_COMMUNE</th>\n",
       "      <th>CODE_GRAND_SECTEUR</th>\n",
       "      <th>CONSO</th>\n",
       "      <th>PDL</th>\n",
       "    </tr>\n",
       "  </thead>\n",
       "  <tbody>\n",
       "    <tr>\n",
       "      <th>0</th>\n",
       "      <td>GRDF</td>\n",
       "      <td>2018</td>\n",
       "      <td>G</td>\n",
       "      <td>010040101</td>\n",
       "      <td>58  AVENUE PAUL PAINLEVE</td>\n",
       "      <td>AMBÉRIEU-EN-BUGEY</td>\n",
       "      <td>T</td>\n",
       "      <td>4,641144e+02</td>\n",
       "      <td>1</td>\n",
       "    </tr>\n",
       "    <tr>\n",
       "      <th>1</th>\n",
       "      <td>GRDF</td>\n",
       "      <td>2018</td>\n",
       "      <td>G</td>\n",
       "      <td>010040101</td>\n",
       "      <td>54  AVENUE PAUL PAINLEVE</td>\n",
       "      <td>AMBÉRIEU-EN-BUGEY</td>\n",
       "      <td>R</td>\n",
       "      <td>1,595118e+02</td>\n",
       "      <td>11</td>\n",
       "    </tr>\n",
       "    <tr>\n",
       "      <th>2</th>\n",
       "      <td>GRDF</td>\n",
       "      <td>2018</td>\n",
       "      <td>G</td>\n",
       "      <td>010040101</td>\n",
       "      <td>RTE CHATEAU GAILLARD</td>\n",
       "      <td>AMBÉRIEU-EN-BUGEY</td>\n",
       "      <td>T</td>\n",
       "      <td>5,609286e+02</td>\n",
       "      <td>1</td>\n",
       "    </tr>\n",
       "    <tr>\n",
       "      <th>3</th>\n",
       "      <td>GRDF</td>\n",
       "      <td>2018</td>\n",
       "      <td>G</td>\n",
       "      <td>010040101</td>\n",
       "      <td>36  ALLEE DE LA BARBOTIERE</td>\n",
       "      <td>AMBÉRIEU-EN-BUGEY</td>\n",
       "      <td>T</td>\n",
       "      <td>1,236034e+03</td>\n",
       "      <td>1</td>\n",
       "    </tr>\n",
       "    <tr>\n",
       "      <th>4</th>\n",
       "      <td>GRDF</td>\n",
       "      <td>2018</td>\n",
       "      <td>G</td>\n",
       "      <td>010040101</td>\n",
       "      <td>RUE MARIUS BERLIET</td>\n",
       "      <td>AMBÉRIEU-EN-BUGEY</td>\n",
       "      <td>T</td>\n",
       "      <td>9,765200e+01</td>\n",
       "      <td>1</td>\n",
       "    </tr>\n",
       "  </tbody>\n",
       "</table>\n",
       "</div>"
      ],
      "text/plain": [
       "  OPERATEUR  ANNEE FILIERE  CODE_IRIS                     ADRESSE  \\\n",
       "0      GRDF   2018       G  010040101    58  AVENUE PAUL PAINLEVE   \n",
       "1      GRDF   2018       G  010040101    54  AVENUE PAUL PAINLEVE   \n",
       "2      GRDF   2018       G  010040101        RTE CHATEAU GAILLARD   \n",
       "3      GRDF   2018       G  010040101  36  ALLEE DE LA BARBOTIERE   \n",
       "4      GRDF   2018       G  010040101          RUE MARIUS BERLIET   \n",
       "\n",
       "         NOM_COMMUNE CODE_GRAND_SECTEUR         CONSO  PDL  \n",
       "0  AMBÉRIEU-EN-BUGEY                  T  4,641144e+02    1  \n",
       "1  AMBÉRIEU-EN-BUGEY                  R  1,595118e+02   11  \n",
       "2  AMBÉRIEU-EN-BUGEY                  T  5,609286e+02    1  \n",
       "3  AMBÉRIEU-EN-BUGEY                  T  1,236034e+03    1  \n",
       "4  AMBÉRIEU-EN-BUGEY                  T  9,765200e+01    1  "
      ]
     },
     "execution_count": 21,
     "metadata": {},
     "output_type": "execute_result"
    }
   ],
   "source": [
    "gas_elec = [result_gas, result_elec]\n",
    "gas_elec = pd.concat(gas_elec)\n",
    "gas_elec.head()"
   ]
  },
  {
   "cell_type": "code",
   "execution_count": 22,
   "metadata": {
    "scrolled": true
   },
   "outputs": [
    {
     "data": {
      "text/plain": [
       "(1610420, 9)"
      ]
     },
     "execution_count": 22,
     "metadata": {},
     "output_type": "execute_result"
    }
   ],
   "source": [
    "gas_elec.shape"
   ]
  },
  {
   "cell_type": "code",
   "execution_count": null,
   "metadata": {},
   "outputs": [],
   "source": []
  }
 ],
 "metadata": {
  "kernelspec": {
   "display_name": "Python 3",
   "language": "python",
   "name": "python3"
  },
  "language_info": {
   "codemirror_mode": {
    "name": "ipython",
    "version": 3
   },
   "file_extension": ".py",
   "mimetype": "text/x-python",
   "name": "python",
   "nbconvert_exporter": "python",
   "pygments_lexer": "ipython3",
   "version": "3.8.5"
  }
 },
 "nbformat": 4,
 "nbformat_minor": 4
}
