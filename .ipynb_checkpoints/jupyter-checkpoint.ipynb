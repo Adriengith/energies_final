{
 "cells": [
  {
   "cell_type": "markdown",
   "metadata": {},
   "source": [
    "# import"
   ]
  },
  {
   "cell_type": "code",
   "execution_count": 1,
   "metadata": {},
   "outputs": [],
   "source": [
    "import pandas as pd\n",
    "from sqlalchemy import create_engine\n"
   ]
  },
  {
   "cell_type": "code",
   "execution_count": 2,
   "metadata": {},
   "outputs": [],
   "source": [
    "#df = pd.read_csv('', sep = ',')\n",
    "#df = pd.read_csv('data/donnees-electricite-2008a2017/donnees_elec_2017.csv', sep = ';', encoding='latin-1')\n",
    "#print(len(df))\n",
    "#df.iloc[52272,:]\n",
    "\n",
    "#for nb in range(0,2,1):\n",
    "    #value = df.iloc[nb,:]\n",
    "    #print(value[4])"
   ]
  },
  {
   "cell_type": "markdown",
   "metadata": {},
   "source": [
    "# READING & CLEANING donnees_elec_adresse "
   ]
  },
  {
   "cell_type": "code",
   "execution_count": 3,
   "metadata": {},
   "outputs": [],
   "source": [
    "# electricity data 2018/2019\n",
    "addresse_2018 = './data/elec/donnees_elec_adresse_2018.csv'\n",
    "addresse_2019 = './data/elec/donnees_elec_adresse_2019.csv'"
   ]
  },
  {
   "cell_type": "code",
   "execution_count": 4,
   "metadata": {},
   "outputs": [
    {
     "data": {
      "text/plain": [
       "Index(['OPERATEUR', 'ANNEE', 'FILIERE', 'CODE_IRIS', 'ADRESSE', 'NOM_COMMUNE',\n",
       "       'CODE_GRAND_SECTEUR', 'CONSO', 'PDL'],\n",
       "      dtype='object')"
      ]
     },
     "execution_count": 4,
     "metadata": {},
     "output_type": "execute_result"
    }
   ],
   "source": [
    "#reading CSV\n",
    "addresse_2018 = pd.read_csv(addresse_2018, sep=';')\n",
    "addresse_2018.head(2)\n",
    "addresse_2018.columns"
   ]
  },
  {
   "cell_type": "code",
   "execution_count": 5,
   "metadata": {},
   "outputs": [
    {
     "data": {
      "text/plain": [
       "Index(['OPERATEUR', 'ANNEE', 'FILIERE', 'CODE_IRIS', 'NOM_COMMUNE', 'ADRESSE',\n",
       "       'CODE_GRAND_SECTEUR', 'CONSO', 'PDL'],\n",
       "      dtype='object')"
      ]
     },
     "execution_count": 5,
     "metadata": {},
     "output_type": "execute_result"
    }
   ],
   "source": [
    "#reading CSV\n",
    "addresse_2019 = pd.read_csv(addresse_2019, sep=';')\n",
    "addresse_2019.head(2)\n",
    "addresse_2019. columns"
   ]
  },
  {
   "cell_type": "code",
   "execution_count": 6,
   "metadata": {},
   "outputs": [
    {
     "data": {
      "text/plain": [
       "Index(['OPERATEUR', 'ANNEE', 'FILIERE', 'CODE_IRIS', 'ADRESSE', 'NOM_COMMUNE',\n",
       "       'CODE_GRAND_SECTEUR', 'CONSO', 'PDL'],\n",
       "      dtype='object')"
      ]
     },
     "execution_count": 6,
     "metadata": {},
     "output_type": "execute_result"
    }
   ],
   "source": [
    "#setting columns in order \n",
    "\n",
    "addresse_2019  = addresse_2019[['OPERATEUR', 'ANNEE', 'FILIERE', 'CODE_IRIS','ADRESSE', 'NOM_COMMUNE',\n",
    "       'CODE_GRAND_SECTEUR', 'CONSO', 'PDL']]\n",
    "#Double check \n",
    "addresse_2019.columns"
   ]
  },
  {
   "cell_type": "code",
   "execution_count": 7,
   "metadata": {},
   "outputs": [
    {
     "data": {
      "text/html": [
       "<div>\n",
       "<style scoped>\n",
       "    .dataframe tbody tr th:only-of-type {\n",
       "        vertical-align: middle;\n",
       "    }\n",
       "\n",
       "    .dataframe tbody tr th {\n",
       "        vertical-align: top;\n",
       "    }\n",
       "\n",
       "    .dataframe thead th {\n",
       "        text-align: right;\n",
       "    }\n",
       "</style>\n",
       "<table border=\"1\" class=\"dataframe\">\n",
       "  <thead>\n",
       "    <tr style=\"text-align: right;\">\n",
       "      <th></th>\n",
       "      <th>OPERATEUR</th>\n",
       "      <th>ANNEE</th>\n",
       "      <th>FILIERE</th>\n",
       "      <th>CODE_IRIS</th>\n",
       "      <th>ADRESSE</th>\n",
       "      <th>NOM_COMMUNE</th>\n",
       "      <th>CODE_GRAND_SECTEUR</th>\n",
       "      <th>CONSO</th>\n",
       "      <th>PDL</th>\n",
       "    </tr>\n",
       "  </thead>\n",
       "  <tbody>\n",
       "    <tr>\n",
       "      <th>0</th>\n",
       "      <td>Enedis</td>\n",
       "      <td>2018</td>\n",
       "      <td>E</td>\n",
       "      <td>010040101</td>\n",
       "      <td>659 AVENUE LEON BLUM</td>\n",
       "      <td>AMBÉRIEU-EN-BUGEY</td>\n",
       "      <td>I</td>\n",
       "      <td>852,40377</td>\n",
       "      <td>1</td>\n",
       "    </tr>\n",
       "    <tr>\n",
       "      <th>1</th>\n",
       "      <td>Enedis</td>\n",
       "      <td>2018</td>\n",
       "      <td>E</td>\n",
       "      <td>010040101</td>\n",
       "      <td>645 AVENUE LEON BLUM</td>\n",
       "      <td>AMBÉRIEU-EN-BUGEY</td>\n",
       "      <td>I</td>\n",
       "      <td>61,78001</td>\n",
       "      <td>1</td>\n",
       "    </tr>\n",
       "    <tr>\n",
       "      <th>2</th>\n",
       "      <td>Enedis</td>\n",
       "      <td>2018</td>\n",
       "      <td>E</td>\n",
       "      <td>010040101</td>\n",
       "      <td>268 RUE DES MOUETTES</td>\n",
       "      <td>AMBÉRIEU-EN-BUGEY</td>\n",
       "      <td>I</td>\n",
       "      <td>63,2543</td>\n",
       "      <td>1</td>\n",
       "    </tr>\n",
       "    <tr>\n",
       "      <th>3</th>\n",
       "      <td>Enedis</td>\n",
       "      <td>2018</td>\n",
       "      <td>E</td>\n",
       "      <td>010040101</td>\n",
       "      <td>72 AVENUE DE LA LIBERATION</td>\n",
       "      <td>AMBÉRIEU-EN-BUGEY</td>\n",
       "      <td>I</td>\n",
       "      <td>929,53233</td>\n",
       "      <td>1</td>\n",
       "    </tr>\n",
       "    <tr>\n",
       "      <th>4</th>\n",
       "      <td>Enedis</td>\n",
       "      <td>2018</td>\n",
       "      <td>E</td>\n",
       "      <td>010040101</td>\n",
       "      <td>82 RUE DES MOUETTES</td>\n",
       "      <td>AMBÉRIEU-EN-BUGEY</td>\n",
       "      <td>R</td>\n",
       "      <td>40,67797</td>\n",
       "      <td>22</td>\n",
       "    </tr>\n",
       "  </tbody>\n",
       "</table>\n",
       "</div>"
      ],
      "text/plain": [
       "  OPERATEUR  ANNEE FILIERE  CODE_IRIS                     ADRESSE  \\\n",
       "0    Enedis   2018       E  010040101        659 AVENUE LEON BLUM   \n",
       "1    Enedis   2018       E  010040101        645 AVENUE LEON BLUM   \n",
       "2    Enedis   2018       E  010040101        268 RUE DES MOUETTES   \n",
       "3    Enedis   2018       E  010040101  72 AVENUE DE LA LIBERATION   \n",
       "4    Enedis   2018       E  010040101         82 RUE DES MOUETTES   \n",
       "\n",
       "         NOM_COMMUNE CODE_GRAND_SECTEUR      CONSO  PDL  \n",
       "0  AMBÉRIEU-EN-BUGEY                  I  852,40377    1  \n",
       "1  AMBÉRIEU-EN-BUGEY                  I   61,78001    1  \n",
       "2  AMBÉRIEU-EN-BUGEY                  I    63,2543    1  \n",
       "3  AMBÉRIEU-EN-BUGEY                  I  929,53233    1  \n",
       "4  AMBÉRIEU-EN-BUGEY                  R   40,67797   22  "
      ]
     },
     "execution_count": 7,
     "metadata": {},
     "output_type": "execute_result"
    }
   ],
   "source": [
    "#concatenate with pd\n",
    "elec_adresse = [addresse_2018, addresse_2019]\n",
    "result1 = pd.concat(elec_adresse)\n",
    "result1.head()"
   ]
  },
  {
   "cell_type": "code",
   "execution_count": null,
   "metadata": {},
   "outputs": [],
   "source": []
  },
  {
   "cell_type": "code",
   "execution_count": 8,
   "metadata": {},
   "outputs": [
    {
     "name": "stdout",
     "output_type": "stream",
     "text": [
      "<class 'pandas.core.frame.DataFrame'>\n",
      "Int64Index: 1132768 entries, 0 to 573808\n",
      "Data columns (total 9 columns):\n",
      " #   Column              Non-Null Count    Dtype \n",
      "---  ------              --------------    ----- \n",
      " 0   OPERATEUR           1132768 non-null  object\n",
      " 1   ANNEE               1132768 non-null  int64 \n",
      " 2   FILIERE             1132768 non-null  object\n",
      " 3   CODE_IRIS           1132768 non-null  object\n",
      " 4   ADRESSE             1132524 non-null  object\n",
      " 5   NOM_COMMUNE         1132767 non-null  object\n",
      " 6   CODE_GRAND_SECTEUR  1132768 non-null  object\n",
      " 7   CONSO               1132768 non-null  object\n",
      " 8   PDL                 1132768 non-null  int64 \n",
      "dtypes: int64(2), object(7)\n",
      "memory usage: 86.4+ MB\n"
     ]
    }
   ],
   "source": [
    "result1.info()"
   ]
  },
  {
   "cell_type": "markdown",
   "metadata": {},
   "source": [
    "# #cleaning"
   ]
  },
  {
   "cell_type": "code",
   "execution_count": null,
   "metadata": {},
   "outputs": [],
   "source": []
  },
  {
   "cell_type": "markdown",
   "metadata": {},
   "source": [
    "# READING & CLEANING donnees_elec_epci "
   ]
  },
  {
   "cell_type": "code",
   "execution_count": 9,
   "metadata": {},
   "outputs": [],
   "source": [
    "#data\n",
    "epci_2018 = './data/elec/donnees_elec_epci_2018.csv'\n",
    "epci_2019 = './data/elec/donnees_elec_epci_2019.csv'"
   ]
  },
  {
   "cell_type": "code",
   "execution_count": 10,
   "metadata": {},
   "outputs": [
    {
     "data": {
      "text/plain": [
       "Index(['OPERATEUR', 'ANNEE', 'FILIERE', 'CODE_EPCI',\n",
       "       'CODE_CATEGORIE_CONSOMMATION', 'CODE_SECTEUR_NAF2',\n",
       "       'CODE_GRAND_SECTEUR', 'CONSO', 'PDL', 'INDQUAL', 'NB_IRIS_MASQUES',\n",
       "       'THERMOR', 'PART'],\n",
       "      dtype='object')"
      ]
     },
     "execution_count": 10,
     "metadata": {},
     "output_type": "execute_result"
    }
   ],
   "source": [
    "#reading CSV\n",
    "epci_2018 = pd.read_csv(epci_2018, sep=';')\n",
    "epci_2018.head(2)\n",
    "epci_2018.columns"
   ]
  },
  {
   "cell_type": "code",
   "execution_count": 11,
   "metadata": {},
   "outputs": [
    {
     "data": {
      "text/plain": [
       "Index(['OPERATEUR', 'ANNEE', 'FILIERE', 'CODE_EPCI',\n",
       "       'CODE_CATEGORIE_CONSOMMATION', 'CODE_SECTEUR_NAF2',\n",
       "       'CODE_GRAND_SECTEUR', 'CONSO', 'PDL', 'INDQUAL', 'THERMOR', 'PART',\n",
       "       'NB_IRIS_MASQUES'],\n",
       "      dtype='object')"
      ]
     },
     "execution_count": 11,
     "metadata": {},
     "output_type": "execute_result"
    }
   ],
   "source": [
    "#reading CSV\n",
    "epci_2019 = pd.read_csv(epci_2019, sep=';')\n",
    "epci_2019.head(2)\n",
    "epci_2019.columns"
   ]
  },
  {
   "cell_type": "code",
   "execution_count": 12,
   "metadata": {},
   "outputs": [
    {
     "data": {
      "text/plain": [
       "Index(['OPERATEUR', 'ANNEE', 'FILIERE', 'CODE_EPCI',\n",
       "       'CODE_CATEGORIE_CONSOMMATION', 'CODE_SECTEUR_NAF2',\n",
       "       'CODE_GRAND_SECTEUR', 'CONSO', 'PDL', 'INDQUAL', 'NB_IRIS_MASQUES',\n",
       "       'THERMOR', 'PART'],\n",
       "      dtype='object')"
      ]
     },
     "execution_count": 12,
     "metadata": {},
     "output_type": "execute_result"
    }
   ],
   "source": [
    "#setting columns in order \n",
    "\n",
    "epci_2019  = epci_2019[['OPERATEUR', 'ANNEE', 'FILIERE', 'CODE_EPCI',\n",
    "       'CODE_CATEGORIE_CONSOMMATION', 'CODE_SECTEUR_NAF2',\n",
    "       'CODE_GRAND_SECTEUR', 'CONSO', 'PDL', 'INDQUAL', 'NB_IRIS_MASQUES','THERMOR', 'PART'\n",
    "       ]]\n",
    "#Double check\n",
    "epci_2019.columns"
   ]
  },
  {
   "cell_type": "code",
   "execution_count": 13,
   "metadata": {},
   "outputs": [
    {
     "data": {
      "text/html": [
       "<div>\n",
       "<style scoped>\n",
       "    .dataframe tbody tr th:only-of-type {\n",
       "        vertical-align: middle;\n",
       "    }\n",
       "\n",
       "    .dataframe tbody tr th {\n",
       "        vertical-align: top;\n",
       "    }\n",
       "\n",
       "    .dataframe thead th {\n",
       "        text-align: right;\n",
       "    }\n",
       "</style>\n",
       "<table border=\"1\" class=\"dataframe\">\n",
       "  <thead>\n",
       "    <tr style=\"text-align: right;\">\n",
       "      <th></th>\n",
       "      <th>OPERATEUR</th>\n",
       "      <th>ANNEE</th>\n",
       "      <th>FILIERE</th>\n",
       "      <th>CODE_EPCI</th>\n",
       "      <th>CODE_CATEGORIE_CONSOMMATION</th>\n",
       "      <th>CODE_SECTEUR_NAF2</th>\n",
       "      <th>CODE_GRAND_SECTEUR</th>\n",
       "      <th>CONSO</th>\n",
       "      <th>PDL</th>\n",
       "      <th>INDQUAL</th>\n",
       "      <th>NB_IRIS_MASQUES</th>\n",
       "      <th>THERMOR</th>\n",
       "      <th>PART</th>\n",
       "    </tr>\n",
       "  </thead>\n",
       "  <tbody>\n",
       "    <tr>\n",
       "      <th>0</th>\n",
       "      <td>Enedis</td>\n",
       "      <td>2018</td>\n",
       "      <td>E</td>\n",
       "      <td>200000172</td>\n",
       "      <td>PRO</td>\n",
       "      <td>NaN</td>\n",
       "      <td>A</td>\n",
       "      <td>589,3950792135486</td>\n",
       "      <td>34</td>\n",
       "      <td>NaN</td>\n",
       "      <td>2</td>\n",
       "      <td>NaN</td>\n",
       "      <td>NaN</td>\n",
       "    </tr>\n",
       "    <tr>\n",
       "      <th>1</th>\n",
       "      <td>Enedis</td>\n",
       "      <td>2018</td>\n",
       "      <td>E</td>\n",
       "      <td>200000172</td>\n",
       "      <td>ENT</td>\n",
       "      <td>1.0</td>\n",
       "      <td>A</td>\n",
       "      <td>52,78783333333333</td>\n",
       "      <td>1</td>\n",
       "      <td>0,99999</td>\n",
       "      <td>0</td>\n",
       "      <td>NaN</td>\n",
       "      <td>NaN</td>\n",
       "    </tr>\n",
       "    <tr>\n",
       "      <th>2</th>\n",
       "      <td>Enedis</td>\n",
       "      <td>2018</td>\n",
       "      <td>E</td>\n",
       "      <td>200000172</td>\n",
       "      <td>ENT</td>\n",
       "      <td>2.0</td>\n",
       "      <td>A</td>\n",
       "      <td>,5513645063194319</td>\n",
       "      <td>1</td>\n",
       "      <td>0,80164</td>\n",
       "      <td>0</td>\n",
       "      <td>NaN</td>\n",
       "      <td>NaN</td>\n",
       "    </tr>\n",
       "    <tr>\n",
       "      <th>3</th>\n",
       "      <td>Enedis</td>\n",
       "      <td>2018</td>\n",
       "      <td>E</td>\n",
       "      <td>200000172</td>\n",
       "      <td>PRO</td>\n",
       "      <td>NaN</td>\n",
       "      <td>I</td>\n",
       "      <td>1127,261042851688</td>\n",
       "      <td>89</td>\n",
       "      <td>0,34929</td>\n",
       "      <td>0</td>\n",
       "      <td>NaN</td>\n",
       "      <td>NaN</td>\n",
       "    </tr>\n",
       "    <tr>\n",
       "      <th>4</th>\n",
       "      <td>Enedis</td>\n",
       "      <td>2018</td>\n",
       "      <td>E</td>\n",
       "      <td>200000172</td>\n",
       "      <td>ENT</td>\n",
       "      <td>8.0</td>\n",
       "      <td>I</td>\n",
       "      <td>25,921666666666666</td>\n",
       "      <td>1</td>\n",
       "      <td>0,99999</td>\n",
       "      <td>0</td>\n",
       "      <td>NaN</td>\n",
       "      <td>NaN</td>\n",
       "    </tr>\n",
       "  </tbody>\n",
       "</table>\n",
       "</div>"
      ],
      "text/plain": [
       "  OPERATEUR  ANNEE FILIERE  CODE_EPCI CODE_CATEGORIE_CONSOMMATION  \\\n",
       "0    Enedis   2018       E  200000172                         PRO   \n",
       "1    Enedis   2018       E  200000172                         ENT   \n",
       "2    Enedis   2018       E  200000172                         ENT   \n",
       "3    Enedis   2018       E  200000172                         PRO   \n",
       "4    Enedis   2018       E  200000172                         ENT   \n",
       "\n",
       "   CODE_SECTEUR_NAF2 CODE_GRAND_SECTEUR               CONSO PDL  INDQUAL  \\\n",
       "0                NaN                  A   589,3950792135486  34      NaN   \n",
       "1                1.0                  A   52,78783333333333   1  0,99999   \n",
       "2                2.0                  A   ,5513645063194319   1  0,80164   \n",
       "3                NaN                  I   1127,261042851688  89  0,34929   \n",
       "4                8.0                  I  25,921666666666666   1  0,99999   \n",
       "\n",
       "   NB_IRIS_MASQUES THERMOR PART  \n",
       "0                2     NaN  NaN  \n",
       "1                0     NaN  NaN  \n",
       "2                0     NaN  NaN  \n",
       "3                0     NaN  NaN  \n",
       "4                0     NaN  NaN  "
      ]
     },
     "execution_count": 13,
     "metadata": {},
     "output_type": "execute_result"
    }
   ],
   "source": [
    "#concatenate with pd\n",
    "elec_epci = [epci_2018, epci_2019]\n",
    "result2 = pd.concat(elec_epci)\n",
    "result2.head()"
   ]
  },
  {
   "cell_type": "code",
   "execution_count": 14,
   "metadata": {},
   "outputs": [
    {
     "name": "stdout",
     "output_type": "stream",
     "text": [
      "<class 'pandas.core.frame.DataFrame'>\n",
      "Int64Index: 103830 entries, 0 to 52456\n",
      "Data columns (total 13 columns):\n",
      " #   Column                       Non-Null Count   Dtype  \n",
      "---  ------                       --------------   -----  \n",
      " 0   OPERATEUR                    103830 non-null  object \n",
      " 1   ANNEE                        103830 non-null  int64  \n",
      " 2   FILIERE                      103830 non-null  object \n",
      " 3   CODE_EPCI                    103830 non-null  object \n",
      " 4   CODE_CATEGORIE_CONSOMMATION  103830 non-null  object \n",
      " 5   CODE_SECTEUR_NAF2            88997 non-null   float64\n",
      " 6   CODE_GRAND_SECTEUR           103830 non-null  object \n",
      " 7   CONSO                        103830 non-null  object \n",
      " 8   PDL                          103830 non-null  object \n",
      " 9   INDQUAL                      99588 non-null   object \n",
      " 10  NB_IRIS_MASQUES              103830 non-null  int64  \n",
      " 11  THERMOR                      1197 non-null    object \n",
      " 12  PART                         1197 non-null    object \n",
      "dtypes: float64(1), int64(2), object(10)\n",
      "memory usage: 11.1+ MB\n"
     ]
    }
   ],
   "source": [
    "result2.info()"
   ]
  },
  {
   "cell_type": "markdown",
   "metadata": {},
   "source": [
    "# #cleaning"
   ]
  },
  {
   "cell_type": "code",
   "execution_count": null,
   "metadata": {},
   "outputs": [],
   "source": []
  },
  {
   "cell_type": "markdown",
   "metadata": {},
   "source": [
    "# READING & CLEANING donnees_elec_iris "
   ]
  },
  {
   "cell_type": "code",
   "execution_count": 15,
   "metadata": {},
   "outputs": [],
   "source": [
    "#data\n",
    "iris_2018 = './data/elec/donnees_elec_iris_2018.csv'\n",
    "iris_2019 = './data/elec/donnees_elec_iris_2019.csv'"
   ]
  },
  {
   "cell_type": "code",
   "execution_count": 16,
   "metadata": {},
   "outputs": [
    {
     "data": {
      "text/plain": [
       "Index(['OPERATEUR', 'ANNEE', 'FILIERE', 'CODE_IRIS',\n",
       "       'CODE_CATEGORIE_CONSOMMATION', 'CODE_SECTEUR_NAF2',\n",
       "       'CODE_GRAND_SECTEUR', 'CONSO', 'PDL', 'INDQUAL', 'THERMOR', 'PART'],\n",
       "      dtype='object')"
      ]
     },
     "execution_count": 16,
     "metadata": {},
     "output_type": "execute_result"
    }
   ],
   "source": [
    "#reading CSV\n",
    "iris_2018 = pd.read_csv(iris_2018, sep=';')\n",
    "iris_2018.head(2)\n",
    "iris_2018.columns"
   ]
  },
  {
   "cell_type": "code",
   "execution_count": 17,
   "metadata": {},
   "outputs": [
    {
     "data": {
      "text/plain": [
       "Index(['OPERATEUR', 'ANNEE', 'FILIERE', 'CODE_IRIS',\n",
       "       'CODE_CATEGORIE_CONSOMMATION', 'CODE_SECTEUR_NAF2',\n",
       "       'CODE_GRAND_SECTEUR', 'CONSO', 'PDL', 'INDQUAL', 'THERMOR', 'PART'],\n",
       "      dtype='object')"
      ]
     },
     "execution_count": 17,
     "metadata": {},
     "output_type": "execute_result"
    }
   ],
   "source": [
    "#reading CSV\n",
    "iris_2019 = pd.read_csv(iris_2019, sep=';')\n",
    "iris_2019.head(2)\n",
    "iris_2019.columns"
   ]
  },
  {
   "cell_type": "code",
   "execution_count": 18,
   "metadata": {},
   "outputs": [],
   "source": [
    "#setting columns in order \n"
   ]
  },
  {
   "cell_type": "code",
   "execution_count": 19,
   "metadata": {},
   "outputs": [
    {
     "data": {
      "text/html": [
       "<div>\n",
       "<style scoped>\n",
       "    .dataframe tbody tr th:only-of-type {\n",
       "        vertical-align: middle;\n",
       "    }\n",
       "\n",
       "    .dataframe tbody tr th {\n",
       "        vertical-align: top;\n",
       "    }\n",
       "\n",
       "    .dataframe thead th {\n",
       "        text-align: right;\n",
       "    }\n",
       "</style>\n",
       "<table border=\"1\" class=\"dataframe\">\n",
       "  <thead>\n",
       "    <tr style=\"text-align: right;\">\n",
       "      <th></th>\n",
       "      <th>OPERATEUR</th>\n",
       "      <th>ANNEE</th>\n",
       "      <th>FILIERE</th>\n",
       "      <th>CODE_IRIS</th>\n",
       "      <th>CODE_CATEGORIE_CONSOMMATION</th>\n",
       "      <th>CODE_SECTEUR_NAF2</th>\n",
       "      <th>CODE_GRAND_SECTEUR</th>\n",
       "      <th>CONSO</th>\n",
       "      <th>PDL</th>\n",
       "      <th>INDQUAL</th>\n",
       "      <th>THERMOR</th>\n",
       "      <th>PART</th>\n",
       "    </tr>\n",
       "  </thead>\n",
       "  <tbody>\n",
       "    <tr>\n",
       "      <th>0</th>\n",
       "      <td>Enedis</td>\n",
       "      <td>2018</td>\n",
       "      <td>E</td>\n",
       "      <td>010010000</td>\n",
       "      <td>PRO</td>\n",
       "      <td>NaN</td>\n",
       "      <td>A</td>\n",
       "      <td>271,25121416552786</td>\n",
       "      <td>9</td>\n",
       "      <td>0,45104</td>\n",
       "      <td>NaN</td>\n",
       "      <td>NaN</td>\n",
       "    </tr>\n",
       "    <tr>\n",
       "      <th>1</th>\n",
       "      <td>Enedis</td>\n",
       "      <td>2018</td>\n",
       "      <td>E</td>\n",
       "      <td>010010000</td>\n",
       "      <td>PRO</td>\n",
       "      <td>NaN</td>\n",
       "      <td>I</td>\n",
       "      <td>s</td>\n",
       "      <td>s</td>\n",
       "      <td>NaN</td>\n",
       "      <td>NaN</td>\n",
       "      <td>NaN</td>\n",
       "    </tr>\n",
       "    <tr>\n",
       "      <th>2</th>\n",
       "      <td>Enedis</td>\n",
       "      <td>2018</td>\n",
       "      <td>E</td>\n",
       "      <td>010010000</td>\n",
       "      <td>ENT</td>\n",
       "      <td>10.0</td>\n",
       "      <td>I</td>\n",
       "      <td>46,63828065665188</td>\n",
       "      <td>1</td>\n",
       "      <td>0,91765</td>\n",
       "      <td>NaN</td>\n",
       "      <td>NaN</td>\n",
       "    </tr>\n",
       "    <tr>\n",
       "      <th>3</th>\n",
       "      <td>Enedis</td>\n",
       "      <td>2018</td>\n",
       "      <td>E</td>\n",
       "      <td>010010000</td>\n",
       "      <td>RES</td>\n",
       "      <td>NaN</td>\n",
       "      <td>R</td>\n",
       "      <td>2474,6881391654245</td>\n",
       "      <td>346</td>\n",
       "      <td>0,4933</td>\n",
       "      <td>NaN</td>\n",
       "      <td>NaN</td>\n",
       "    </tr>\n",
       "    <tr>\n",
       "      <th>4</th>\n",
       "      <td>Enedis</td>\n",
       "      <td>2018</td>\n",
       "      <td>E</td>\n",
       "      <td>010010000</td>\n",
       "      <td>PRO</td>\n",
       "      <td>NaN</td>\n",
       "      <td>T</td>\n",
       "      <td>186,81175014015294</td>\n",
       "      <td>17</td>\n",
       "      <td>0,54212</td>\n",
       "      <td>NaN</td>\n",
       "      <td>NaN</td>\n",
       "    </tr>\n",
       "  </tbody>\n",
       "</table>\n",
       "</div>"
      ],
      "text/plain": [
       "  OPERATEUR  ANNEE FILIERE  CODE_IRIS CODE_CATEGORIE_CONSOMMATION  \\\n",
       "0    Enedis   2018       E  010010000                         PRO   \n",
       "1    Enedis   2018       E  010010000                         PRO   \n",
       "2    Enedis   2018       E  010010000                         ENT   \n",
       "3    Enedis   2018       E  010010000                         RES   \n",
       "4    Enedis   2018       E  010010000                         PRO   \n",
       "\n",
       "   CODE_SECTEUR_NAF2 CODE_GRAND_SECTEUR               CONSO  PDL  INDQUAL  \\\n",
       "0                NaN                  A  271,25121416552786    9  0,45104   \n",
       "1                NaN                  I                   s    s      NaN   \n",
       "2               10.0                  I   46,63828065665188    1  0,91765   \n",
       "3                NaN                  R  2474,6881391654245  346   0,4933   \n",
       "4                NaN                  T  186,81175014015294   17  0,54212   \n",
       "\n",
       "  THERMOR PART  \n",
       "0     NaN  NaN  \n",
       "1     NaN  NaN  \n",
       "2     NaN  NaN  \n",
       "3     NaN  NaN  \n",
       "4     NaN  NaN  "
      ]
     },
     "execution_count": 19,
     "metadata": {},
     "output_type": "execute_result"
    }
   ],
   "source": [
    "#concatenate with pd\n",
    "elec_iris = [iris_2018,iris_2019 ]\n",
    "result3 = pd.concat(elec_iris)\n",
    "result3.head()"
   ]
  },
  {
   "cell_type": "code",
   "execution_count": 20,
   "metadata": {},
   "outputs": [
    {
     "name": "stdout",
     "output_type": "stream",
     "text": [
      "<class 'pandas.core.frame.DataFrame'>\n",
      "Int64Index: 932646 entries, 0 to 469465\n",
      "Data columns (total 12 columns):\n",
      " #   Column                       Non-Null Count   Dtype  \n",
      "---  ------                       --------------   -----  \n",
      " 0   OPERATEUR                    932646 non-null  object \n",
      " 1   ANNEE                        932646 non-null  int64  \n",
      " 2   FILIERE                      932646 non-null  object \n",
      " 3   CODE_IRIS                    932646 non-null  object \n",
      " 4   CODE_CATEGORIE_CONSOMMATION  932646 non-null  object \n",
      " 5   CODE_SECTEUR_NAF2            495843 non-null  float64\n",
      " 6   CODE_GRAND_SECTEUR           932646 non-null  object \n",
      " 7   CONSO                        932646 non-null  object \n",
      " 8   PDL                          932646 non-null  object \n",
      " 9   INDQUAL                      789907 non-null  object \n",
      " 10  THERMOR                      20911 non-null   object \n",
      " 11  PART                         20911 non-null   object \n",
      "dtypes: float64(1), int64(1), object(10)\n",
      "memory usage: 92.5+ MB\n"
     ]
    }
   ],
   "source": [
    "result3.info()"
   ]
  },
  {
   "cell_type": "markdown",
   "metadata": {},
   "source": [
    "# #cleaning"
   ]
  },
  {
   "cell_type": "code",
   "execution_count": null,
   "metadata": {},
   "outputs": [],
   "source": []
  },
  {
   "cell_type": "markdown",
   "metadata": {},
   "source": [
    "# READING & CLEANING donnees_elec_region"
   ]
  },
  {
   "cell_type": "code",
   "execution_count": 21,
   "metadata": {},
   "outputs": [],
   "source": [
    "#data\n",
    "region_2018 = './data/elec/donnees_elec_region_2018.csv'\n",
    "region_2019 = './data/elec/donnees_elec_region_2019.csv'"
   ]
  },
  {
   "cell_type": "code",
   "execution_count": 22,
   "metadata": {},
   "outputs": [
    {
     "data": {
      "text/plain": [
       "Index(['OPERATEUR', 'ANNEE', 'FILIERE', 'CODE_REGION',\n",
       "       'CODE_CATEGORIE_CONSOMMATION', 'CODE_SECTEUR_NAF2',\n",
       "       'CODE_GRAND_SECTEUR', 'CONSO', 'PDL', 'INDQUAL', 'NB_IRIS_MASQUES',\n",
       "       'THERMOR', 'PART'],\n",
       "      dtype='object')"
      ]
     },
     "execution_count": 22,
     "metadata": {},
     "output_type": "execute_result"
    }
   ],
   "source": [
    "#reading CSV\n",
    "region_2018 = pd.read_csv(region_2018, sep=';')\n",
    "region_2018.head(2)\n",
    "region_2018.columns"
   ]
  },
  {
   "cell_type": "code",
   "execution_count": 23,
   "metadata": {},
   "outputs": [
    {
     "data": {
      "text/plain": [
       "Index(['OPERATEUR', 'ANNEE', 'FILIERE', 'CODE_REGION',\n",
       "       'CODE_CATEGORIE_CONSOMMATION', 'CODE_SECTEUR_NAF2',\n",
       "       'CODE_GRAND_SECTEUR', 'CONSO', 'PDL', 'INDQUAL', 'THERMOR', 'PART',\n",
       "       'NB_IRIS_MASQUES'],\n",
       "      dtype='object')"
      ]
     },
     "execution_count": 23,
     "metadata": {},
     "output_type": "execute_result"
    }
   ],
   "source": [
    "#reading CSV\n",
    "region_2019 = pd.read_csv(region_2019, sep=';')\n",
    "region_2019.head(2)\n",
    "region_2019.columns"
   ]
  },
  {
   "cell_type": "code",
   "execution_count": 24,
   "metadata": {},
   "outputs": [
    {
     "data": {
      "text/plain": [
       "Index(['OPERATEUR', 'ANNEE', 'FILIERE', 'CODE_REGION',\n",
       "       'CODE_CATEGORIE_CONSOMMATION', 'CODE_SECTEUR_NAF2',\n",
       "       'CODE_GRAND_SECTEUR', 'CONSO', 'PDL', 'INDQUAL', 'NB_IRIS_MASQUES',\n",
       "       'THERMOR', 'PART'],\n",
       "      dtype='object')"
      ]
     },
     "execution_count": 24,
     "metadata": {},
     "output_type": "execute_result"
    }
   ],
   "source": [
    "#setting columns in order \n",
    "\n",
    "region_2019  = region_2019[['OPERATEUR', 'ANNEE', 'FILIERE', 'CODE_REGION',\n",
    "       'CODE_CATEGORIE_CONSOMMATION', 'CODE_SECTEUR_NAF2',\n",
    "       'CODE_GRAND_SECTEUR', 'CONSO', 'PDL', 'INDQUAL', 'NB_IRIS_MASQUES','THERMOR', 'PART']]\n",
    "#Double check\n",
    "region_2019.columns"
   ]
  },
  {
   "cell_type": "code",
   "execution_count": 25,
   "metadata": {},
   "outputs": [
    {
     "data": {
      "text/html": [
       "<div>\n",
       "<style scoped>\n",
       "    .dataframe tbody tr th:only-of-type {\n",
       "        vertical-align: middle;\n",
       "    }\n",
       "\n",
       "    .dataframe tbody tr th {\n",
       "        vertical-align: top;\n",
       "    }\n",
       "\n",
       "    .dataframe thead th {\n",
       "        text-align: right;\n",
       "    }\n",
       "</style>\n",
       "<table border=\"1\" class=\"dataframe\">\n",
       "  <thead>\n",
       "    <tr style=\"text-align: right;\">\n",
       "      <th></th>\n",
       "      <th>OPERATEUR</th>\n",
       "      <th>ANNEE</th>\n",
       "      <th>FILIERE</th>\n",
       "      <th>CODE_REGION</th>\n",
       "      <th>CODE_CATEGORIE_CONSOMMATION</th>\n",
       "      <th>CODE_SECTEUR_NAF2</th>\n",
       "      <th>CODE_GRAND_SECTEUR</th>\n",
       "      <th>CONSO</th>\n",
       "      <th>PDL</th>\n",
       "      <th>INDQUAL</th>\n",
       "      <th>NB_IRIS_MASQUES</th>\n",
       "      <th>THERMOR</th>\n",
       "      <th>PART</th>\n",
       "    </tr>\n",
       "  </thead>\n",
       "  <tbody>\n",
       "    <tr>\n",
       "      <th>0</th>\n",
       "      <td>EdF-SEI</td>\n",
       "      <td>2018</td>\n",
       "      <td>E</td>\n",
       "      <td>01</td>\n",
       "      <td>ENT_PRO</td>\n",
       "      <td>NaN</td>\n",
       "      <td>A</td>\n",
       "      <td>7441,048</td>\n",
       "      <td>524</td>\n",
       "      <td>NaN</td>\n",
       "      <td>78</td>\n",
       "      <td>NaN</td>\n",
       "      <td>NaN</td>\n",
       "    </tr>\n",
       "    <tr>\n",
       "      <th>1</th>\n",
       "      <td>EdF-SEI</td>\n",
       "      <td>2018</td>\n",
       "      <td>E</td>\n",
       "      <td>01</td>\n",
       "      <td>ENT_PRO</td>\n",
       "      <td>NaN</td>\n",
       "      <td>I</td>\n",
       "      <td>114629,916</td>\n",
       "      <td>2749</td>\n",
       "      <td>NaN</td>\n",
       "      <td>0</td>\n",
       "      <td>NaN</td>\n",
       "      <td>NaN</td>\n",
       "    </tr>\n",
       "    <tr>\n",
       "      <th>2</th>\n",
       "      <td>EdF-SEI</td>\n",
       "      <td>2018</td>\n",
       "      <td>E</td>\n",
       "      <td>01</td>\n",
       "      <td>RES</td>\n",
       "      <td>NaN</td>\n",
       "      <td>R</td>\n",
       "      <td>688474,26</td>\n",
       "      <td>197048</td>\n",
       "      <td>NaN</td>\n",
       "      <td>0</td>\n",
       "      <td>NaN</td>\n",
       "      <td>NaN</td>\n",
       "    </tr>\n",
       "    <tr>\n",
       "      <th>3</th>\n",
       "      <td>EdF-SEI</td>\n",
       "      <td>2018</td>\n",
       "      <td>E</td>\n",
       "      <td>01</td>\n",
       "      <td>ENT_PRO</td>\n",
       "      <td>NaN</td>\n",
       "      <td>T</td>\n",
       "      <td>579488,071</td>\n",
       "      <td>19846</td>\n",
       "      <td>NaN</td>\n",
       "      <td>0</td>\n",
       "      <td>NaN</td>\n",
       "      <td>NaN</td>\n",
       "    </tr>\n",
       "    <tr>\n",
       "      <th>4</th>\n",
       "      <td>EdF-SEI</td>\n",
       "      <td>2018</td>\n",
       "      <td>E</td>\n",
       "      <td>01</td>\n",
       "      <td>ENT_PRO</td>\n",
       "      <td>NaN</td>\n",
       "      <td>X</td>\n",
       "      <td>75139,044</td>\n",
       "      <td>5919</td>\n",
       "      <td>NaN</td>\n",
       "      <td>0</td>\n",
       "      <td>NaN</td>\n",
       "      <td>NaN</td>\n",
       "    </tr>\n",
       "  </tbody>\n",
       "</table>\n",
       "</div>"
      ],
      "text/plain": [
       "  OPERATEUR  ANNEE FILIERE CODE_REGION CODE_CATEGORIE_CONSOMMATION  \\\n",
       "0   EdF-SEI   2018       E          01                     ENT_PRO   \n",
       "1   EdF-SEI   2018       E          01                     ENT_PRO   \n",
       "2   EdF-SEI   2018       E          01                         RES   \n",
       "3   EdF-SEI   2018       E          01                     ENT_PRO   \n",
       "4   EdF-SEI   2018       E          01                     ENT_PRO   \n",
       "\n",
       "   CODE_SECTEUR_NAF2 CODE_GRAND_SECTEUR       CONSO     PDL INDQUAL  \\\n",
       "0                NaN                  A    7441,048     524     NaN   \n",
       "1                NaN                  I  114629,916    2749     NaN   \n",
       "2                NaN                  R   688474,26  197048     NaN   \n",
       "3                NaN                  T  579488,071   19846     NaN   \n",
       "4                NaN                  X   75139,044    5919     NaN   \n",
       "\n",
       "   NB_IRIS_MASQUES THERMOR PART  \n",
       "0               78     NaN  NaN  \n",
       "1                0     NaN  NaN  \n",
       "2                0     NaN  NaN  \n",
       "3                0     NaN  NaN  \n",
       "4                0     NaN  NaN  "
      ]
     },
     "execution_count": 25,
     "metadata": {},
     "output_type": "execute_result"
    }
   ],
   "source": [
    "#concatenate with pd\n",
    "elec_region = [region_2018,region_2019 ]\n",
    "result4 = pd.concat(elec_region)\n",
    "result4.head()"
   ]
  },
  {
   "cell_type": "code",
   "execution_count": 26,
   "metadata": {},
   "outputs": [
    {
     "name": "stdout",
     "output_type": "stream",
     "text": [
      "<class 'pandas.core.frame.DataFrame'>\n",
      "Int64Index: 3747 entries, 0 to 2038\n",
      "Data columns (total 13 columns):\n",
      " #   Column                       Non-Null Count  Dtype  \n",
      "---  ------                       --------------  -----  \n",
      " 0   OPERATEUR                    3747 non-null   object \n",
      " 1   ANNEE                        3747 non-null   int64  \n",
      " 2   FILIERE                      3747 non-null   object \n",
      " 3   CODE_REGION                  3747 non-null   object \n",
      " 4   CODE_CATEGORIE_CONSOMMATION  3747 non-null   object \n",
      " 5   CODE_SECTEUR_NAF2            2760 non-null   float64\n",
      " 6   CODE_GRAND_SECTEUR           3747 non-null   object \n",
      " 7   CONSO                        3747 non-null   object \n",
      " 8   PDL                          3747 non-null   object \n",
      " 9   INDQUAL                      3095 non-null   object \n",
      " 10  NB_IRIS_MASQUES              3747 non-null   int64  \n",
      " 11  THERMOR                      12 non-null     object \n",
      " 12  PART                         12 non-null     object \n",
      "dtypes: float64(1), int64(2), object(10)\n",
      "memory usage: 409.8+ KB\n"
     ]
    }
   ],
   "source": [
    "result4.info()"
   ]
  },
  {
   "cell_type": "markdown",
   "metadata": {},
   "source": [
    "# #cleaning"
   ]
  },
  {
   "cell_type": "code",
   "execution_count": 27,
   "metadata": {},
   "outputs": [],
   "source": [
    "import pandas as pd\n",
    "from sqlalchemy import create_engine\n",
    "\n",
    "\n",
    "elec_2008 = './data/2017/donnees_elec_2008.csv'\n",
    "elec_2009 = './data/2017/donnees_elec_2009.csv'\n",
    "elec_2010 = './data/2017/donnees_elec_2010.csv'\n",
    "elec_2011 = './data/2017/donnees_elec_2011.csv'\n",
    "elec_2012 = './data/2017/donnees_elec_2012.csv'\n",
    "elec_2013 = './data/2017/donnees_elec_2013.csv'\n",
    "elec_2014 = './data/2017/donnees_elec_2014.csv'\n",
    "elec_2015 = './data/2017/donnees_elec_2015.csv'\n",
    "elec_2016 = './data/2017/donnees_elec_2016.csv'\n",
    "elec_2017 = './data/2017/donnees_elec_2017.csv'"
   ]
  },
  {
   "cell_type": "code",
   "execution_count": 28,
   "metadata": {},
   "outputs": [
    {
     "data": {
      "text/plain": [
       "Index(['OPERATEUR', 'ANNEE', 'FILIERE', 'TYPE', 'CODE', 'CONSOA', 'PDLA',\n",
       "       'INDQUALA', 'CONSOI', 'PDLI', 'INDQUALI', 'CONSOT', 'PDLT', 'INDQUALT',\n",
       "       'CONSOR', 'PDLR', 'INDQUALR', 'CONSONA', 'PDLNA', 'INDQUALNA'],\n",
       "      dtype='object')"
      ]
     },
     "execution_count": 28,
     "metadata": {},
     "output_type": "execute_result"
    }
   ],
   "source": [
    "#reading CSV\n",
    "elec_2008 = pd.read_csv(elec_2008, sep=';',encoding='latin-1')\n",
    "elec_2008.head(2)\n",
    "elec_2008.columns"
   ]
  },
  {
   "cell_type": "code",
   "execution_count": 29,
   "metadata": {},
   "outputs": [
    {
     "data": {
      "text/plain": [
       "Index(['OPERATEUR', 'ANNEE', 'FILIERE', 'TYPE', 'CODE', 'CONSOA', 'PDLA',\n",
       "       'INDQUALA', 'CONSOI', 'PDLI', 'INDQUALI', 'CONSOT', 'PDLT', 'INDQUALT',\n",
       "       'CONSOR', 'PDLR', 'INDQUALR', 'CONSONA', 'PDLNA', 'INDQUALNA'],\n",
       "      dtype='object')"
      ]
     },
     "execution_count": 29,
     "metadata": {},
     "output_type": "execute_result"
    }
   ],
   "source": [
    "#reading CSV\n",
    "elec_2009 = pd.read_csv(elec_2009, sep=';',encoding='latin-1')\n",
    "elec_2009.head(2)\n",
    "elec_2009.columns"
   ]
  },
  {
   "cell_type": "code",
   "execution_count": 30,
   "metadata": {},
   "outputs": [
    {
     "data": {
      "text/plain": [
       "Index(['OPERATEUR', 'ANNEE', 'FILIERE', 'TYPE', 'CODE', 'CONSOA', 'PDLA',\n",
       "       'INDQUALA', 'CONSOI', 'PDLI', 'INDQUALI', 'CONSOT', 'PDLT', 'INDQUALT',\n",
       "       'CONSOR', 'PDLR', 'INDQUALR', 'CONSONA', 'PDLNA', 'INDQUALNA'],\n",
       "      dtype='object')"
      ]
     },
     "execution_count": 30,
     "metadata": {},
     "output_type": "execute_result"
    }
   ],
   "source": [
    "#reading CSV\n",
    "elec_2010 = pd.read_csv(elec_2010, sep=';',encoding='latin-1')\n",
    "elec_2010.head(2)\n",
    "elec_2010.columns"
   ]
  },
  {
   "cell_type": "code",
   "execution_count": 31,
   "metadata": {},
   "outputs": [
    {
     "data": {
      "text/plain": [
       "Index(['OPERATEUR', 'ANNEE', 'FILIERE', 'TYPE', 'CODE', 'CONSOA', 'PDLA',\n",
       "       'INDQUALA', 'CONSOI', 'PDLI', 'INDQUALI', 'CONSOT', 'PDLT', 'INDQUALT',\n",
       "       'CONSOR', 'PDLR', 'INDQUALR', 'CONSONA', 'PDLNA', 'INDQUALNA'],\n",
       "      dtype='object')"
      ]
     },
     "execution_count": 31,
     "metadata": {},
     "output_type": "execute_result"
    }
   ],
   "source": [
    "#reading CSV\n",
    "elec_2011 = pd.read_csv(elec_2011, sep=';',encoding='latin-1')\n",
    "elec_2011.head(2)\n",
    "elec_2011.columns"
   ]
  },
  {
   "cell_type": "code",
   "execution_count": 32,
   "metadata": {},
   "outputs": [
    {
     "name": "stderr",
     "output_type": "stream",
     "text": [
      "/Users/sandrinevuachet/anaconda3/lib/python3.8/site-packages/IPython/core/interactiveshell.py:3146: DtypeWarning: Columns (4) have mixed types.Specify dtype option on import or set low_memory=False.\n",
      "  has_raised = await self.run_ast_nodes(code_ast.body, cell_name,\n"
     ]
    },
    {
     "data": {
      "text/plain": [
       "Index(['OPERATEUR', 'ANNEE', 'FILIERE', 'TYPE', 'CODE', 'CONSOA', 'PDLA',\n",
       "       'INDQUALA', 'CONSOI', 'PDLI', 'INDQUALI', 'CONSOT', 'PDLT', 'INDQUALT',\n",
       "       'CONSOR', 'PDLR', 'INDQUALR', 'CONSONA', 'PDLNA', 'INDQUALNA'],\n",
       "      dtype='object')"
      ]
     },
     "execution_count": 32,
     "metadata": {},
     "output_type": "execute_result"
    }
   ],
   "source": [
    "#reading CSV\n",
    "elec_2012 = pd.read_csv(elec_2012, sep=';',encoding='latin-1')\n",
    "elec_2012.head(2)\n",
    "elec_2012.columns"
   ]
  },
  {
   "cell_type": "code",
   "execution_count": 33,
   "metadata": {},
   "outputs": [
    {
     "data": {
      "text/plain": [
       "Index(['OPERATEUR', 'ANNEE', 'FILIERE', 'TYPE', 'CODE', 'CONSOA', 'PDLA',\n",
       "       'INDQUALA', 'CONSOI', 'PDLI', 'INDQUALI', 'CONSOT', 'PDLT', 'INDQUALT',\n",
       "       'CONSOR', 'PDLR', 'INDQUALR', 'CONSONA', 'PDLNA', 'INDQUALNA'],\n",
       "      dtype='object')"
      ]
     },
     "execution_count": 33,
     "metadata": {},
     "output_type": "execute_result"
    }
   ],
   "source": [
    "#reading CSV\n",
    "elec_2013 = pd.read_csv(elec_2013, sep=';',encoding='latin-1')\n",
    "elec_2013.head(2)\n",
    "elec_2013.columns"
   ]
  },
  {
   "cell_type": "code",
   "execution_count": 34,
   "metadata": {},
   "outputs": [
    {
     "data": {
      "text/plain": [
       "Index(['OPERATEUR', 'ANNEE', 'FILIERE', 'TYPE', 'CODE', 'CONSOA', 'PDLA',\n",
       "       'INDQUALA', 'CONSOI', 'PDLI', 'INDQUALI', 'CONSOT', 'PDLT', 'INDQUALT',\n",
       "       'CONSOR', 'PDLR', 'INDQUALR', 'CONSONA', 'PDLNA', 'INDQUALNA'],\n",
       "      dtype='object')"
      ]
     },
     "execution_count": 34,
     "metadata": {},
     "output_type": "execute_result"
    }
   ],
   "source": [
    "#reading CSV\n",
    "elec_2014 = pd.read_csv(elec_2014, sep=';',encoding='latin-1')\n",
    "elec_2014.head(2)\n",
    "elec_2014.columns"
   ]
  },
  {
   "cell_type": "code",
   "execution_count": 35,
   "metadata": {},
   "outputs": [
    {
     "data": {
      "text/plain": [
       "Index(['OPERATEUR', 'ANNEE', 'FILIERE', 'TYPE', 'CODE', 'CONSOA', 'PDLA',\n",
       "       'INDQUALA', 'CONSOI', 'PDLI', 'INDQUALI', 'CONSOT', 'PDLT', 'INDQUALT',\n",
       "       'CONSOR', 'PDLR', 'INDQUALR', 'CONSONA', 'PDLNA', 'INDQUALNA'],\n",
       "      dtype='object')"
      ]
     },
     "execution_count": 35,
     "metadata": {},
     "output_type": "execute_result"
    }
   ],
   "source": [
    "#reading CSV\n",
    "elec_2015 = pd.read_csv(elec_2015, sep=';',encoding='latin-1')\n",
    "elec_2015.head(2)\n",
    "elec_2015.columns"
   ]
  },
  {
   "cell_type": "code",
   "execution_count": 36,
   "metadata": {},
   "outputs": [
    {
     "data": {
      "text/plain": [
       "Index(['OPERATEUR', 'ANNEE', 'FILIERE', 'TYPE', 'CODE', 'CONSOA', 'PDLA',\n",
       "       'INDQUALA', 'CONSOI', 'PDLI', 'INDQUALI', 'CONSOT', 'PDLT', 'INDQUALT',\n",
       "       'CONSOR', 'PDLR', 'INDQUALR', 'CONSONA', 'PDLNA', 'INDQUALNA'],\n",
       "      dtype='object')"
      ]
     },
     "execution_count": 36,
     "metadata": {},
     "output_type": "execute_result"
    }
   ],
   "source": [
    "#reading CSV\n",
    "elec_2016 = pd.read_csv(elec_2016, sep=';',encoding='latin-1')\n",
    "elec_2016.head(2)\n",
    "elec_2016.columns"
   ]
  },
  {
   "cell_type": "code",
   "execution_count": 37,
   "metadata": {},
   "outputs": [
    {
     "data": {
      "text/plain": [
       "Index(['OPERATEUR', 'ANNEE', 'FILIERE', 'TYPE', 'CODE', 'CONSOA', 'PDLA',\n",
       "       'INDQUALA', 'CONSOI', 'PDLI', 'INDQUALI', 'CONSOT', 'PDLT', 'INDQUALT',\n",
       "       'CONSOR', 'PDLR', 'INDQUALR', 'THERMOR', 'PARTR', 'CONSONA', 'PDLNA',\n",
       "       'INDQUALNA'],\n",
       "      dtype='object')"
      ]
     },
     "execution_count": 37,
     "metadata": {},
     "output_type": "execute_result"
    }
   ],
   "source": [
    "#reading CSV\n",
    "elec_2017 = pd.read_csv(elec_2017, sep=';',encoding='latin-1')\n",
    "elec_2017.head(2)\n",
    "elec_2017.columns"
   ]
  },
  {
   "cell_type": "code",
   "execution_count": 38,
   "metadata": {},
   "outputs": [
    {
     "data": {
      "text/html": [
       "<div>\n",
       "<style scoped>\n",
       "    .dataframe tbody tr th:only-of-type {\n",
       "        vertical-align: middle;\n",
       "    }\n",
       "\n",
       "    .dataframe tbody tr th {\n",
       "        vertical-align: top;\n",
       "    }\n",
       "\n",
       "    .dataframe thead th {\n",
       "        text-align: right;\n",
       "    }\n",
       "</style>\n",
       "<table border=\"1\" class=\"dataframe\">\n",
       "  <thead>\n",
       "    <tr style=\"text-align: right;\">\n",
       "      <th></th>\n",
       "      <th>OPERATEUR</th>\n",
       "      <th>ANNEE</th>\n",
       "      <th>FILIERE</th>\n",
       "      <th>TYPE</th>\n",
       "      <th>CODE</th>\n",
       "      <th>CONSOA</th>\n",
       "      <th>PDLA</th>\n",
       "      <th>INDQUALA</th>\n",
       "      <th>CONSOI</th>\n",
       "      <th>PDLI</th>\n",
       "      <th>...</th>\n",
       "      <th>PDLT</th>\n",
       "      <th>INDQUALT</th>\n",
       "      <th>CONSOR</th>\n",
       "      <th>PDLR</th>\n",
       "      <th>INDQUALR</th>\n",
       "      <th>CONSONA</th>\n",
       "      <th>PDLNA</th>\n",
       "      <th>INDQUALNA</th>\n",
       "      <th>THERMOR</th>\n",
       "      <th>PARTR</th>\n",
       "    </tr>\n",
       "  </thead>\n",
       "  <tbody>\n",
       "    <tr>\n",
       "      <th>0</th>\n",
       "      <td>Régie délectricité de Roquebillière</td>\n",
       "      <td>2008</td>\n",
       "      <td>E</td>\n",
       "      <td>Commune</td>\n",
       "      <td>6103</td>\n",
       "      <td>0,00</td>\n",
       "      <td>0</td>\n",
       "      <td>0,000000</td>\n",
       "      <td>1270,00</td>\n",
       "      <td>7</td>\n",
       "      <td>...</td>\n",
       "      <td>97</td>\n",
       "      <td>1,000000</td>\n",
       "      <td>5954,00</td>\n",
       "      <td>1154</td>\n",
       "      <td>1,000000</td>\n",
       "      <td>963,00</td>\n",
       "      <td>53</td>\n",
       "      <td>1,000000</td>\n",
       "      <td>NaN</td>\n",
       "      <td>NaN</td>\n",
       "    </tr>\n",
       "    <tr>\n",
       "      <th>1</th>\n",
       "      <td>Régie municipale délectricité dArignac</td>\n",
       "      <td>2008</td>\n",
       "      <td>E</td>\n",
       "      <td>Commune</td>\n",
       "      <td>9015</td>\n",
       "      <td>0,00</td>\n",
       "      <td>0</td>\n",
       "      <td>0,000000</td>\n",
       "      <td>164,00</td>\n",
       "      <td>1</td>\n",
       "      <td>...</td>\n",
       "      <td>30</td>\n",
       "      <td>0,500000</td>\n",
       "      <td>1703,00</td>\n",
       "      <td>410</td>\n",
       "      <td>0,500000</td>\n",
       "      <td>267,00</td>\n",
       "      <td>16</td>\n",
       "      <td>0,500000</td>\n",
       "      <td>NaN</td>\n",
       "      <td>NaN</td>\n",
       "    </tr>\n",
       "    <tr>\n",
       "      <th>2</th>\n",
       "      <td>Régie municipale délectricité de Dalou</td>\n",
       "      <td>2008</td>\n",
       "      <td>E</td>\n",
       "      <td>Commune</td>\n",
       "      <td>9104</td>\n",
       "      <td>0,00</td>\n",
       "      <td>0</td>\n",
       "      <td>0,000000</td>\n",
       "      <td>0,00</td>\n",
       "      <td>0</td>\n",
       "      <td>...</td>\n",
       "      <td>8</td>\n",
       "      <td>1,000000</td>\n",
       "      <td>1704,00</td>\n",
       "      <td>352</td>\n",
       "      <td>1,000000</td>\n",
       "      <td>287,00</td>\n",
       "      <td>15</td>\n",
       "      <td>1,000000</td>\n",
       "      <td>NaN</td>\n",
       "      <td>NaN</td>\n",
       "    </tr>\n",
       "    <tr>\n",
       "      <th>3</th>\n",
       "      <td>Régie municipale délectricité de lHospitalet...</td>\n",
       "      <td>2008</td>\n",
       "      <td>E</td>\n",
       "      <td>Commune</td>\n",
       "      <td>9139</td>\n",
       "      <td>0,00</td>\n",
       "      <td>0</td>\n",
       "      <td>0,000000</td>\n",
       "      <td>0,00</td>\n",
       "      <td>0</td>\n",
       "      <td>...</td>\n",
       "      <td>27</td>\n",
       "      <td>1,000000</td>\n",
       "      <td>344,00</td>\n",
       "      <td>98</td>\n",
       "      <td>1,000000</td>\n",
       "      <td>272,00</td>\n",
       "      <td>19</td>\n",
       "      <td>1,000000</td>\n",
       "      <td>NaN</td>\n",
       "      <td>NaN</td>\n",
       "    </tr>\n",
       "    <tr>\n",
       "      <th>4</th>\n",
       "      <td>Régie municipale délectricité de Mazères</td>\n",
       "      <td>2008</td>\n",
       "      <td>E</td>\n",
       "      <td>Commune</td>\n",
       "      <td>9185</td>\n",
       "      <td>374,00</td>\n",
       "      <td>95</td>\n",
       "      <td>1,000000</td>\n",
       "      <td>8010,00</td>\n",
       "      <td>14</td>\n",
       "      <td>...</td>\n",
       "      <td>101</td>\n",
       "      <td>1,000000</td>\n",
       "      <td>9000,00</td>\n",
       "      <td>1741</td>\n",
       "      <td>1,000000</td>\n",
       "      <td>560,00</td>\n",
       "      <td>83</td>\n",
       "      <td>1,000000</td>\n",
       "      <td>NaN</td>\n",
       "      <td>NaN</td>\n",
       "    </tr>\n",
       "  </tbody>\n",
       "</table>\n",
       "<p>5 rows × 22 columns</p>\n",
       "</div>"
      ],
      "text/plain": [
       "                                           OPERATEUR  ANNEE FILIERE     TYPE  \\\n",
       "0               Régie délectricité de Roquebillière   2008       E  Commune   \n",
       "1           Régie municipale délectricité dArignac   2008       E  Commune   \n",
       "2            Régie municipale délectricité de Dalou   2008       E  Commune   \n",
       "3  Régie municipale délectricité de lHospitalet...   2008       E  Commune   \n",
       "4          Régie municipale délectricité de Mazères   2008       E  Commune   \n",
       "\n",
       "   CODE  CONSOA  PDLA  INDQUALA   CONSOI  PDLI  ... PDLT  INDQUALT   CONSOR  \\\n",
       "0  6103    0,00     0  0,000000  1270,00     7  ...   97  1,000000  5954,00   \n",
       "1  9015    0,00     0  0,000000   164,00     1  ...   30  0,500000  1703,00   \n",
       "2  9104    0,00     0  0,000000     0,00     0  ...    8  1,000000  1704,00   \n",
       "3  9139    0,00     0  0,000000     0,00     0  ...   27  1,000000   344,00   \n",
       "4  9185  374,00    95  1,000000  8010,00    14  ...  101  1,000000  9000,00   \n",
       "\n",
       "   PDLR  INDQUALR  CONSONA PDLNA INDQUALNA  THERMOR PARTR  \n",
       "0  1154  1,000000   963,00    53  1,000000      NaN   NaN  \n",
       "1   410  0,500000   267,00    16  0,500000      NaN   NaN  \n",
       "2   352  1,000000   287,00    15  1,000000      NaN   NaN  \n",
       "3    98  1,000000   272,00    19  1,000000      NaN   NaN  \n",
       "4  1741  1,000000   560,00    83  1,000000      NaN   NaN  \n",
       "\n",
       "[5 rows x 22 columns]"
      ]
     },
     "execution_count": 38,
     "metadata": {},
     "output_type": "execute_result"
    }
   ],
   "source": [
    "elec_prior_2017= [elec_2008,elec_2009,elec_2010,elec_2011,elec_2012,elec_2013,elec_2014,elec_2015,elec_2016,elec_2017]\n",
    "result5 = pd.concat(elec_prior_2017)\n",
    "result5.head()"
   ]
  },
  {
   "cell_type": "code",
   "execution_count": 40,
   "metadata": {},
   "outputs": [],
   "source": [
    "import pandas as pd\n",
    "from sqlalchemy import create_engine\n",
    "\n",
    "# gas data 2018/2019\n",
    "gas_2018 = './data/gaz/donnees_gaz_adresse_2018.csv'\n",
    "gas_2019 = './data/gaz/donnees_gaz_adresse_2018.csv'"
   ]
  },
  {
   "cell_type": "code",
   "execution_count": null,
   "metadata": {},
   "outputs": [],
   "source": [
    "#reading CSV\n",
    "gas_2018 = pd.read_csv(addresse_2018, sep=';')\n",
    "addresse_2018.head(2)\n",
    "addresse_2018.columns"
   ]
  }
 ],
 "metadata": {
  "kernelspec": {
   "display_name": "Python 3",
   "language": "python",
   "name": "python3"
  },
  "language_info": {
   "codemirror_mode": {
    "name": "ipython",
    "version": 3
   },
   "file_extension": ".py",
   "mimetype": "text/x-python",
   "name": "python",
   "nbconvert_exporter": "python",
   "pygments_lexer": "ipython3",
   "version": "3.8.5"
  }
 },
 "nbformat": 4,
 "nbformat_minor": 4
}
