{
 "cells": [
  {
   "cell_type": "code",
   "execution_count": 7,
   "metadata": {},
   "outputs": [],
   "source": [
    "import pandas as pd\n",
    "\n"
   ]
  },
  {
   "cell_type": "code",
   "execution_count": null,
   "metadata": {},
   "outputs": [],
   "source": []
  },
  {
   "cell_type": "code",
   "execution_count": 17,
   "metadata": {},
   "outputs": [
    {
     "name": "stdout",
     "output_type": "stream",
     "text": [
      "                               OPERATEUR  ANNEE FILIERE       CODE  \\\n",
      "0                     Oyonnax Biochaleur   2018       C  010310000   \n",
      "1                     Oyonnax Biochaleur   2018       C  010310000   \n",
      "2                     Oyonnax Biochaleur   2018       C  010310000   \n",
      "3                     Oyonnax Biochaleur   2018       C  010310000   \n",
      "4                     Oyonnax Biochaleur   2018       C  010310000   \n",
      "...                                  ...    ...     ...        ...   \n",
      "16859  Grand Ensemble Sarcelles-Locheres   2018       C  955850123   \n",
      "16860  Grand Ensemble Sarcelles-Locheres   2018       C  955850124   \n",
      "16861  Grand Ensemble Sarcelles-Locheres   2018       C  955850124   \n",
      "16862  Grand Ensemble Sarcelles-Locheres   2018       C  955850125   \n",
      "16863  Grand Ensemble Sarcelles-Locheres   2018       C  955850125   \n",
      "\n",
      "      CODE_GRAND_SECTEUR      CONSO PDL  \n",
      "0                      X          s   s  \n",
      "1                      X          s   s  \n",
      "2                      X          s   s  \n",
      "3                      X          s   s  \n",
      "4                      X          s   s  \n",
      "...                  ...        ...  ..  \n",
      "16859                  T   1772,933   2  \n",
      "16860                  R  10046,619   9  \n",
      "16861                  T   1772,933   2  \n",
      "16862                  R  19088,575  16  \n",
      "16863                  T   3368,572   3  \n",
      "\n",
      "[16864 rows x 7 columns]\n",
      "16864\n",
      "<class 'pandas.core.frame.DataFrame'>\n"
     ]
    }
   ],
   "source": [
    "#df = pd.read_csv('', sep = ',')\n",
    "df = pd.read_csv('data/donnees_chaleur_froid_2018a2019/donnees_chaleur_et_froid_iris_2018.csv', sep = ';', encoding='latin-1')\n",
    "\n",
    "print(df)\n",
    "print(len(df))\n",
    "print(type(df))\n",
    "for i in df:\n",
    "    print(i)"
   ]
  },
  {
   "cell_type": "code",
   "execution_count": null,
   "metadata": {},
   "outputs": [],
   "source": []
  }
 ],
 "metadata": {
  "kernelspec": {
   "display_name": "Python 3",
   "language": "python",
   "name": "python3"
  },
  "language_info": {
   "codemirror_mode": {
    "name": "ipython",
    "version": 3
   },
   "file_extension": ".py",
   "mimetype": "text/x-python",
   "name": "python",
   "nbconvert_exporter": "python",
   "pygments_lexer": "ipython3",
   "version": "3.7.6"
  }
 },
 "nbformat": 4,
 "nbformat_minor": 4
}
