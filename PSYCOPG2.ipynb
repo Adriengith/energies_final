{
 "cells": [
  {
   "cell_type": "code",
   "execution_count": 2,
   "metadata": {},
   "outputs": [],
   "source": [
    "#TUTO psycopg2\n"
   ]
  },
  {
   "cell_type": "code",
   "execution_count": 3,
   "metadata": {},
   "outputs": [],
   "source": [
    "import psycopg2\n",
    "from psycopg2 import OperationalError as e"
   ]
  },
  {
   "cell_type": "code",
   "execution_count": 4,
   "metadata": {},
   "outputs": [],
   "source": [
    "def connection_db(db, user, password, host, port):\n",
    "    try:\n",
    "        connection = psycopg2.connect(\n",
    "        database = db,\n",
    "        user = user,\n",
    "        host = host,\n",
    "        password = password,\n",
    "        port = port)\n",
    "        print(f'successfully connected to {db}')\n",
    "    except e: \n",
    "        print(f'could not connect to the database {db} provided')\n",
    "    return connection #sinon ça ne fonctionne pas"
   ]
  },
  {
   "cell_type": "code",
   "execution_count": 5,
   "metadata": {},
   "outputs": [
    {
     "name": "stdout",
     "output_type": "stream",
     "text": [
      "successfully connected to final_project\n"
     ]
    }
   ],
   "source": [
    "conn = connection_db('final_project','sandrinevuachet','postgres','localhost',5432)\n",
    "cursor = conn.cursor()\n",
    "conn.autocommit = True"
   ]
  },
  {
   "cell_type": "code",
   "execution_count": 17,
   "metadata": {},
   "outputs": [],
   "source": [
    "\n",
    "import psycopg2\n",
    "from psycopg2 import OperationalError as e\n",
    "from psycopg2 import sql\n",
    "\n",
    "# dans le terminal : psql -d postgres\n",
    "# CREATE DATABASE test;\n",
    "\n",
    "def create_tables():\n",
    "    try:\n",
    "        query_cas = '''CREATE TABLE IF NOT EXISTS casinos (\n",
    "            id SERIAL PRIMARY KEY,\n",
    "            nom TEXT UNIQUE\n",
    "            );'''\n",
    "        query_crou = '''CREATE TABLE IF NOT EXISTS croupiers (\n",
    "            id SERIAL PRIMARY KEY,\n",
    "            nom TEXT UNIQUE,\n",
    "            casino_id INTEGER,\n",
    "            FOREIGN KEY(casino_id) REFERENCES casinos(id)\n",
    "            );'''\n",
    "        cursor.execute(query_cas)\n",
    "        cursor.execute(query_crou)\n",
    "        print(\"Tables created successfully!\")\n",
    "    except e:\n",
    "        print(\"Could not create tables\")\n",
    "        \n",
    "#call the function\n",
    "create_tables()\n",
    "\n",
    "def create_casino(nom):\n",
    "    try:\n",
    "        query_name = '''INSERT INTO casinos (nom) VALUES (%s);'''\n",
    "        cursor.execute(query_name, (nom,))\n",
    "        print(f'Le casino {nom} a bien été ajouté!')\n",
    "    except psycopg2.Error as error:\n",
    "        print(f'{error.args}')\n",
    "    # finally:\n",
    "    #     conn.commit()\n",
    "    \n",
    "#call the function\n",
    "create_casino('Annecy')\n",
    "\n",
    "\n",
    "def create_croupier(nom, casino_id):\n",
    "    try:\n",
    "        query_name = '''INSERT INTO croupiers (nom, casino_id) VALUES (%s, %s);'''\n",
    "        cursor.execute(query_name, (nom, casino_id))\n",
    "        print(f'Le croupier {nom} a bien été ajouté!')\n",
    "    except psycopg2.Error as error:\n",
    "        print(f'{error.args}')\n",
    "    # finally:\n",
    "    #     conn.commit()\n",
    "    \n",
    "#call the function   \n",
    "create_croupier('Romy',2)\n",
    "\n",
    "def get_all_casinos():\n",
    "    try:\n",
    "        cursor.execute('SELECT * FROM casinos;')\n",
    "        return cursor.fetchall()\n",
    "    except e:\n",
    "        print(\"Could not read\")\n",
    "        \n",
    "\n",
    "\n",
    "def get_one_casino(_id):\n",
    "    try:\n",
    "        cursor.execute('SELECT * FROM casinos WHERE id = %s;', (_id,))\n",
    "        return cursor.fetchone()\n",
    "    except e:\n",
    "        print(\"Could not read\")\n",
    "        \n",
    "        \n",
    "        \n",
    "\n",
    "\n",
    "def get_all_croupiers():\n",
    "    try:\n",
    "        cursor.execute('SELECT * FROM croupiers;')\n",
    "        return cursor.fetchall()\n",
    "    except e:\n",
    "        print(\"Could not find\")\n",
    "        \n",
    "\n",
    "\n",
    "\n",
    "def update_croupier(_id, column, new_value):\n",
    "    try:\n",
    "        cursor = conn.cursor()\n",
    "        query = sql.SQL(\"UPDATE croupiers SET {} = %s WHERE id = %s\").format(sql.Identifier(column))\n",
    "        cursor.execute(query, [new_value, _id])\n",
    "        conn.commit()\n",
    "    except psycopg2.Error as e:\n",
    "        print(f\"{e.args}\")\n",
    "        \n",
    "        \n",
    "        \n",
    "\n",
    "#def delete_casino():\n",
    "\n",
    "def update_croupier(_id, column, new_value):\n",
    "      try:\n",
    "        cursor = conn.cursor()\n",
    "        query = sql.SQL(\"UPDATE croupiers SET {} = %s WHERE id = %s\").format(sql.Identifier(column))\n",
    "        cursor.execute(query, [new_value, _id])\n",
    "        conn.commit()\n",
    "      except psycopg2.Error as e:\n",
    "        print(f\"{e.args}\")\n",
    "        \n"
   ]
  },
  {
   "cell_type": "code",
   "execution_count": null,
   "metadata": {},
   "outputs": [],
   "source": []
  }
 ],
 "metadata": {
  "kernelspec": {
   "display_name": "Python 3",
   "language": "python",
   "name": "python3"
  },
  "language_info": {
   "codemirror_mode": {
    "name": "ipython",
    "version": 3
   },
   "file_extension": ".py",
   "mimetype": "text/x-python",
   "name": "python",
   "nbconvert_exporter": "python",
   "pygments_lexer": "ipython3",
   "version": "3.8.5"
  }
 },
 "nbformat": 4,
 "nbformat_minor": 4
}
